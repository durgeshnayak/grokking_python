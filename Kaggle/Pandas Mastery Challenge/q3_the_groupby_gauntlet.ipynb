{
 "cells": [
  {
   "metadata": {},
   "cell_type": "markdown",
   "source": [
    "Q3 - The GroupBy Gauntlet¶\n",
    "\n",
    "Question: Welcome to the GroupBy Gauntlet! You are given a dataset of wacky wizard tournaments.\n",
    "Each tournament has multiple rounds, and wizards earn points in each round.\n",
    "\n",
    "Your task is to perform complex groupby operations to answer the following questions:\n",
    "\n",
    "- Calculate the total points for each wizard across all tournaments.\n",
    "- Identify the wizard with the highest average points per round.\n",
    "- Determine the tournament with the highest total points.\n",
    "- Find the wizard who won the most rounds (i.e., highest points in each round).\n",
    "- Calculate the average points per round for each tournament.\n",
    "- Determine the standard deviation of points for each wizard across all tournaments.\n",
    "- Identify the top 3 wizards with the most consistent performance (lowest standard deviation in points).\n",
    "- Calculate the cumulative points for each wizard across all tournaments over time.\n",
    "- Find the round in each tournament with the highest average points scored.\n",
    "- Determine the correlation between the number of rounds and total points scored for each wizard.\n",
    "\n",
    "Datasets:\n",
    "\n",
    "wizard_tournaments: Contains columns (tournament_id, round_id, wizard_name, points)."
   ],
   "id": "4b695dbf2f89d12f"
  },
  {
   "metadata": {},
   "cell_type": "code",
   "source": [
    "import pandas as pd\n",
    "import numpy as np\n",
    "\n",
    "# Seed for reproducibility\n",
    "np.random.seed(42)\n",
    "\n",
    "# Generate synthetic data\n",
    "tournament_ids = np.arange(1, 6)\n",
    "round_ids = np.arange(1, 11)\n",
    "wizard_names = ['Merlin', 'Gandalf', 'Harry', 'Voldemort', 'Saruman', 'Dumbledore', 'Hermione', 'Ron']\n",
    "\n",
    "data = []\n",
    "for tournament in tournament_ids:\n",
    "    for round_id in round_ids:\n",
    "        for wizard in wizard_names:\n",
    "            points = np.random.randint(0, 101)\n",
    "            data.append([tournament, round_id, wizard, points])\n",
    "\n",
    "# Create DataFrame\n",
    "wizard_tournaments = pd.DataFrame(data, columns=['tournament_id', 'round_id', 'wizard_name', 'points'])\n",
    "\n",
    "# Display the dataset\n",
    "wizard_tournaments.head()"
   ],
   "id": "6ac15ec338ea24f3",
   "outputs": [],
   "execution_count": null
  },
  {
   "metadata": {},
   "cell_type": "code",
   "source": [
    "# Calculate the total points for each wizard across all tournaments.\n",
    "total_points_wizard = wizard_tournaments.groupby('wizard_name')['points'].sum().reset_index()\n",
    "total_points_wizard"
   ],
   "id": "cde6efe751206e55",
   "outputs": [],
   "execution_count": null
  },
  {
   "metadata": {},
   "cell_type": "code",
   "source": [
    "# Identify the wizard with the highest average points per round\n",
    "highest_avg_points = wizard_tournaments.groupby(['wizard_name'])['points'].mean().reset_index()\n",
    "highest_avg_points.loc[highest_avg_points['points'].idxmax()]"
   ],
   "id": "9c28196d4642a7e3",
   "outputs": [],
   "execution_count": null
  },
  {
   "metadata": {},
   "cell_type": "code",
   "source": [
    "# Determine the tournament with the highest total points\n",
    "tournament_highest_points = wizard_tournaments.groupby(['tournament_id'])['points'].sum().reset_index()\n",
    "tournament_highest_points.loc[tournament_highest_points['points'].idxmax()]"
   ],
   "id": "f1d1295edfb3c5da",
   "outputs": [],
   "execution_count": null
  },
  {
   "metadata": {},
   "cell_type": "code",
   "source": [
    "# Find the wizard who won the most rounds (i.e., highest points in each round)\n",
    "round_winners = wizard_tournaments.loc[wizard_tournaments.groupby(['tournament_id', 'round_id'])['points'].idxmax()]\n",
    "winning_wizard = round_winners['wizard_name'].value_counts().idxmax()\n",
    "winning_wizard"
   ],
   "id": "ccc49df104cc3739",
   "outputs": [],
   "execution_count": null
  },
  {
   "metadata": {},
   "cell_type": "code",
   "source": [
    "# Calculate the average points per round for each tournament\n",
    "avg_points_tournament = wizard_tournaments.groupby(['tournament_id'])['points'].mean().reset_index()\n",
    "avg_points_tournament"
   ],
   "id": "260a3fbfc0d34964",
   "outputs": [],
   "execution_count": null
  },
  {
   "metadata": {},
   "cell_type": "code",
   "source": [
    "# Determine the standard deviation of points for each wizard across all tournaments\n",
    "std_dev_wizard = wizard_tournaments.groupby('wizard_name')['points'].std().reset_index()\n",
    "std_dev_wizard['points'] = std_dev_wizard['points'].fillna(0)\n",
    "std_dev_wizard"
   ],
   "id": "8da510eec56d808",
   "outputs": [],
   "execution_count": null
  },
  {
   "metadata": {},
   "cell_type": "code",
   "source": [
    "# Identify the top 3 wizards with the most consistent performance (lowest standard deviation in points)\n",
    "most_consistent_wizards = std_dev_wizard.nsmallest(3, 'points')\n",
    "most_consistent_wizards"
   ],
   "id": "12e2b7245a3d1870",
   "outputs": [],
   "execution_count": null
  },
  {
   "metadata": {},
   "cell_type": "code",
   "source": [
    "# Calculate the cumulative points for each wizard across all tournaments over time\n",
    "wizard_tournaments_sorted = wizard_tournaments.sort_values(['wizard_name', 'tournament_id', 'round_id'])\n",
    "wizard_tournaments_sorted['cumulative_points'] = wizard_tournaments_sorted.groupby('wizard_name')['points'].cumsum()\n",
    "wizard_tournaments_sorted[['wizard_name', 'tournament_id', 'round_id', 'cumulative_points']].head()"
   ],
   "id": "378bca2ef4d2bfb0",
   "outputs": [],
   "execution_count": null
  },
  {
   "metadata": {},
   "cell_type": "code",
   "source": [
    "# Find the round in each tournament with the highest average points scored\n",
    "avg_points_round = wizard_tournaments.groupby(['tournament_id', 'round_id'])['points'].mean().reset_index()\n",
    "rounds_highest_avg = avg_points_round.loc[avg_points_round.groupby('tournament_id')['points'].idxmax()]\n",
    "rounds_highest_avg"
   ],
   "id": "574bc44615c2b485",
   "outputs": [],
   "execution_count": null
  }
 ],
 "metadata": {
  "kernelspec": {
   "display_name": "Python 3",
   "language": "python",
   "name": "python3"
  },
  "language_info": {
   "codemirror_mode": {
    "name": "ipython",
    "version": 2
   },
   "file_extension": ".py",
   "mimetype": "text/x-python",
   "name": "python",
   "nbconvert_exporter": "python",
   "pygments_lexer": "ipython2",
   "version": "2.7.6"
  }
 },
 "nbformat": 4,
 "nbformat_minor": 5
}
