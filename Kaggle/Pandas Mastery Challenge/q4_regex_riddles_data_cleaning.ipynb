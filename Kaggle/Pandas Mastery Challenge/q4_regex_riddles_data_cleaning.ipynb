{
 "cells": [
  {
   "metadata": {},
   "cell_type": "markdown",
   "source": [
    "Q4 - Regex Riddles in Data Cleaning\n",
    "\n",
    "Question: Welcome to Regex Riddles in Data Cleaning!\n",
    "You are given a dataset containing customer reviews for various fantastical products.\n",
    "However, the data is quite messy with inconsistent formats, typos, and random special characters.\n",
    "Your task is to use regular expressions and other data cleaning techniques to answer the following questions:\n",
    "\n",
    "- Standardize the format of email addresses.\n",
    "- Correct common typos in product names.\n",
    "- Remove any special characters from the reviews.\n",
    "- Extract and count the number of reviews mentioning the word \"magic\".\n",
    "- Identify the top 3 most frequently mentioned products in the reviews.\n",
    "\n",
    "Datasets:\n",
    "\n",
    "customer_reviews: Contains columns (review_id, email, product_name, review_text)."
   ],
   "id": "57348379920bbe08"
  },
  {
   "metadata": {},
   "cell_type": "code",
   "source": [
    "import pandas as pd\n",
    "import numpy as np\n",
    "import re\n",
    "\n",
    "# Seed for reproducibility\n",
    "np.random.seed(24)\n",
    "\n",
    "# Generate synthetic data\n",
    "review_ids = np.arange(1, 21)\n",
    "emails = ['user{}@example.com'.format(i) for i in range(1, 21)]\n",
    "emails = [email.replace('user', 'UsEr-') if i % 2 == 0 else email for i, email in enumerate(emails)]\n",
    "product_names = ['Magic Wand', 'Potion', 'Spell Book', 'Crystal Ball', 'Flying Broom']\n",
    "typos = ['Magic Wnd', 'Potin', 'Spell Bok', 'Crystal Bll', 'Flyng Broom']\n",
    "\n",
    "reviews = [\n",
    "    \"This {} is awesome! It's pure magic!\".format(np.random.choice(product_names + typos))\n",
    "    for _ in review_ids\n",
    "]\n",
    "special_characters = ['!', '@', '#', '$', '%', '^', '&', '*', '(', ')']\n",
    "reviews = [\n",
    "    review + ' ' + ''.join(np.random.choice(special_characters, 3))\n",
    "    for review in reviews\n",
    "]\n",
    "\n",
    "# Create DataFrame\n",
    "customer_reviews = pd.DataFrame({\n",
    "    'review_id': review_ids,\n",
    "    'email': emails,\n",
    "    'product_name': [np.random.choice(product_names + typos) for _ in review_ids],\n",
    "    'review_text': reviews\n",
    "})\n",
    "\n",
    "# Display the dataset\n",
    "customer_reviews.head()"
   ],
   "id": "2387c5898651691a",
   "outputs": [],
   "execution_count": null
  },
  {
   "metadata": {},
   "cell_type": "code",
   "source": [
    "# Standardize the format of email addresses.\n",
    "customer_reviews['email'] = customer_reviews['email'].str.lower()\n",
    "customer_reviews[['review_id', 'email']]"
   ],
   "id": "e63c199c185eb42b",
   "outputs": [],
   "execution_count": null
  },
  {
   "metadata": {},
   "cell_type": "code",
   "source": [
    "# Correct common typos in product names.\n",
    "typo_corrections = {\n",
    "                    'Magic Wnd': 'Magic Wand',\n",
    "                    'Potin': 'Potion',\n",
    "                    'Spell Bok': 'Spell Book',\n",
    "                    'Crystal Bll': 'Crystal Ball',\n",
    "                    'Flyng Broom': 'Flying Broom'\n",
    "                   }\n",
    "customer_reviews['product_name'] = customer_reviews['product_name'].replace(typo_corrections)\n",
    "customer_reviews[['review_id', 'product_name']]"
   ],
   "id": "44ef0f10b233ac5d",
   "outputs": [],
   "execution_count": null
  },
  {
   "metadata": {},
   "cell_type": "code",
   "source": [
    "# Remove any special characters from the reviews\n",
    "customer_reviews['review_text'] = customer_reviews['review_text'].apply(lambda x: re.sub(r'[^\\w\\s]', '', x))\n",
    "customer_reviews[['review_id', 'review_text']]"
   ],
   "id": "5788afd1ecfe5a44",
   "outputs": [],
   "execution_count": null
  },
  {
   "metadata": {},
   "cell_type": "code",
   "source": [
    "# Extract and count the number of reviews mentioning the word \"magic\"\n",
    "magic_reviews = customer_reviews[customer_reviews['review_text'].str.contains(r'\\bmagic\\b', case=False)]\n",
    "magic_reviews_count = magic_reviews.shape[0]\n",
    "magic_reviews_count"
   ],
   "id": "366fdd9926c3e52",
   "outputs": [],
   "execution_count": null
  },
  {
   "metadata": {},
   "cell_type": "code",
   "source": [
    "# Identify the top 3 most frequently mentioned products in the reviews\n",
    "product_mentions = customer_reviews['review_text'].str.extractall(r'({})'.format('|'.join(product_names)))\n",
    "top_products = product_mentions[0].value_counts().head(3)\n",
    "top_products"
   ],
   "id": "9e61409f23dc595b",
   "outputs": [],
   "execution_count": null
  }
 ],
 "metadata": {
  "kernelspec": {
   "display_name": "Python 3",
   "language": "python",
   "name": "python3"
  },
  "language_info": {
   "codemirror_mode": {
    "name": "ipython",
    "version": 2
   },
   "file_extension": ".py",
   "mimetype": "text/x-python",
   "name": "python",
   "nbconvert_exporter": "python",
   "pygments_lexer": "ipython2",
   "version": "2.7.6"
  }
 },
 "nbformat": 4,
 "nbformat_minor": 5
}
