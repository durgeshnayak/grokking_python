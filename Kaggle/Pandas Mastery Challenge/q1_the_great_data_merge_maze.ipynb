{
 "cells": [
  {
   "metadata": {},
   "cell_type": "markdown",
   "source": [
    "Q1 - The Great Data Merge Maze¶\n",
    "\n",
    "Question: Welcome to the Great Data Merge Maze!\n",
    "You are given three datasets: customers, orders, and products.\n",
    "Your task is to merge these datasets to answer the following questions:\n",
    "\n",
    "- Which customers ordered which products and at what price?\n",
    "- Calculate the total amount spent by each customer.\n",
    "- Identify the top 2 customers who spent the most.\n",
    "- Determine which products were never ordered.\n",
    "- Find the customer who ordered the highest quantity of a single product.\n",
    "\n",
    "Datasets:\n",
    "\n",
    "customers: Contains customer IDs and names.\n",
    "\n",
    "orders: Contains order IDs, customer IDs, product IDs, and order quantities.\n",
    "\n",
    "products: Contains product IDs, names, and prices.\n",
    "\n",
    "Generate synthetic data for the datasets and merge them to find the answers."
   ],
   "id": "608dda2eac449dfc"
  },
  {
   "metadata": {
    "collapsed": true
   },
   "cell_type": "code",
   "source": [
    "import pandas as pd\n",
    "import numpy as np\n",
    "\n",
    "# Seed for reproducibility\n",
    "np.random.seed(0)\n",
    "\n",
    "# Customers DataFrame\n",
    "customers = pd.DataFrame({\n",
    "    'customer_id': range(1, 11),\n",
    "    'customer_name': ['Alice Apples', 'Bob Bananas', 'Charlie Cherries', 'David Dates', 'Eve Elderberries', 'Frank Figs', 'Grace Grapes', 'Hannah Honeydew', 'Ivy Iceberg', 'Jack Jicama']\n",
    "})\n",
    "\n",
    "# Products DataFrame\n",
    "products = pd.DataFrame({\n",
    "    'product_id': range(1, 11),\n",
    "    'product_name': ['Widget Wonder', 'Gizmo Glitz', 'Doodad Delight', 'Thingamajig Thrill', 'Contraption Charm', 'Gadget Glow', 'Whatchamacallit Whimsy', 'Doohickey Dazzle', 'Whatsit Whiz', 'Gubbins Galore'],\n",
    "    'product_price': np.random.uniform(10, 100, size=10).round(2)\n",
    "})\n",
    "\n",
    "# Orders DataFrame\n",
    "orders = pd.DataFrame({\n",
    "    'order_id': range(1, 21),\n",
    "    'customer_id': np.random.choice(customers['customer_id'], size=20),\n",
    "    'product_id': np.random.choice(products['product_id'], size=20),\n",
    "    'order_quantity': np.random.randint(1, 10, size=20)\n",
    "})\n",
    "\n",
    "# Display the datasets\n",
    "customers.head()\n"
   ],
   "id": "initial_id",
   "outputs": [],
   "execution_count": null
  },
  {
   "metadata": {},
   "cell_type": "code",
   "source": "products.head()",
   "id": "6ae9ca1d211dff79",
   "outputs": [],
   "execution_count": null
  },
  {
   "metadata": {},
   "cell_type": "code",
   "source": "orders.head()",
   "id": "6c2be7b411f885a",
   "outputs": [],
   "execution_count": null
  },
  {
   "metadata": {},
   "cell_type": "code",
   "source": [
    "cust_orders = pd.merge(customers, orders, how=\"outer\", left_on='customer_id', right_on='customer_id')\n",
    "cust_orders = pd.merge(cust_orders, products, how=\"inner\", left_on='product_id', right_on='product_id')"
   ],
   "id": "3138036d5de629d7",
   "outputs": [],
   "execution_count": null
  },
  {
   "metadata": {},
   "cell_type": "code",
   "source": [
    "# Which customers ordered which products and at what price?\n",
    "customer_orders = cust_orders.copy(deep=True)\n",
    "customer_orders.drop(['customer_id', 'order_id', 'product_id', 'order_quantity'], axis='columns', inplace=True)\n",
    "customer_orders.set_index(['customer_name'])\n",
    "customer_orders.head()"
   ],
   "id": "71a6111b8a2a30df",
   "outputs": [],
   "execution_count": null
  },
  {
   "metadata": {},
   "cell_type": "code",
   "source": [
    "# Calculate the total amount spent by each customer\n",
    "customer_spending = cust_orders.copy(deep=True)\n",
    "customer_spending['amount_spent'] = round(customer_spending['order_quantity'] * customer_spending['product_price'], 3)\n",
    "customer_spending.drop(['customer_id', 'order_id', 'product_id', 'order_quantity', 'product_name', 'product_price'], axis='columns', inplace=True)\n",
    "customer_spending = customer_spending.groupby('customer_name').aggregate('sum')\n",
    "customer_spending.head()"
   ],
   "id": "ffe81c55dba0eaff",
   "outputs": [],
   "execution_count": null
  },
  {
   "metadata": {},
   "cell_type": "code",
   "source": [
    "# Identify the top 2 customers who spent the most.\n",
    "top_customers = customer_spending.sort_values(by='amount_spent', ascending=False).head(2)\n",
    "top_customers"
   ],
   "id": "239405b0d09c2fc4",
   "outputs": [],
   "execution_count": null
  },
  {
   "metadata": {},
   "cell_type": "code",
   "source": [
    "# Determine which products were never ordered.\n",
    "unpopular_products = pd.merge(left=products, right=orders, left_on='product_id', right_on='product_id', how='left')\n",
    "unpopular_products[unpopular_products['order_quantity'].isnull()].head()"
   ],
   "id": "eddb0c77d2cd82a",
   "outputs": [],
   "execution_count": null
  },
  {
   "metadata": {},
   "cell_type": "code",
   "source": [
    "# Find the customer who ordered the highest quantity of a single product.\n",
    "star_customer = cust_orders.loc[cust_orders['order_quantity'].idxmax()]\n",
    "star_customer[['customer_name', 'product_name', 'order_quantity']]"
   ],
   "id": "994b5b1855c8dc2",
   "outputs": [],
   "execution_count": null
  },
  {
   "metadata": {},
   "cell_type": "code",
   "source": "",
   "id": "642a2c79eb120eb5",
   "outputs": [],
   "execution_count": null
  }
 ],
 "metadata": {
  "kernelspec": {
   "display_name": "Python 3",
   "language": "python",
   "name": "python3"
  },
  "language_info": {
   "codemirror_mode": {
    "name": "ipython",
    "version": 2
   },
   "file_extension": ".py",
   "mimetype": "text/x-python",
   "name": "python",
   "nbconvert_exporter": "python",
   "pygments_lexer": "ipython2",
   "version": "2.7.6"
  }
 },
 "nbformat": 4,
 "nbformat_minor": 5
}
