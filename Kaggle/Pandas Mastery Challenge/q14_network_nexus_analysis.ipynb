{
 "cells": [
  {
   "metadata": {},
   "cell_type": "markdown",
   "source": [
    "Q14 - Network Nexus Analysis\n",
    "\n",
    "Question: Welcome to the Network Nexus Analysis!\n",
    "You are given a dataset of magical creatures and their social networks.\n",
    "Each creature has connections to other creatures, and each connection has a strength value\n",
    "indicating the closeness of their relationship.\n",
    "Your task is to analyze these social networks to answer the following questions:\n",
    "\n",
    "- Count the total number of connections each creature has.\n",
    "- Calculate the average connection strength for each creature.\n",
    "- Identify the creature with the highest average connection strength.\n",
    "- Determine the most connected creature (i.e., the creature with the most connections).\n",
    "- Find the top 3 creatures with the strongest total connection strength.\n",
    "\n",
    "Datasets:\n",
    "\n",
    "social_networks: Contains columns (creature_id, creature_name, connections), where connections is a list of dictionaries with keys (connected_creature_id, connection_strength)."
   ],
   "id": "d5445f35c754d015"
  },
  {
   "metadata": {},
   "cell_type": "code",
   "source": [
    "import pandas as pd\n",
    "import numpy as np\n",
    "import json\n",
    "\n",
    "# Seed for reproducibility\n",
    "np.random.seed(1010)\n",
    "\n",
    "# Generate synthetic data\n",
    "creature_ids = np.arange(1, 11)\n",
    "creature_names = ['Frodo', 'Gandalf', 'Hermione', 'Legolas', 'Bilbo', 'Galadriel', 'Dumbledore', 'Gimli', 'Harry', 'Aragorn']\n",
    "connection_strengths = np.arange(1, 11)\n",
    "\n",
    "data = []\n",
    "for creature_id, creature_name in zip(creature_ids, creature_names):\n",
    "    num_connections = np.random.randint(3, 7)\n",
    "    connections = []\n",
    "    connected_creatures = np.random.choice(creature_ids[creature_ids != creature_id], num_connections, replace=False)\n",
    "    for connected_creature_id in connected_creatures:\n",
    "        connection_strength = np.random.choice(connection_strengths)\n",
    "        connections.append({\n",
    "            'connected_creature_id': int(connected_creature_id),\n",
    "            'connection_strength': int(connection_strength)\n",
    "        })\n",
    "    data.append([creature_id, creature_name, json.dumps(connections)])\n",
    "\n",
    "# Create DataFrame\n",
    "social_networks = pd.DataFrame(data, columns=['creature_id', 'creature_name', 'connections'])\n",
    "\n",
    "# Display the dataset\n",
    "social_networks.head()"
   ],
   "id": "4c97c4f15ff0e606",
   "outputs": [],
   "execution_count": null
  },
  {
   "metadata": {},
   "cell_type": "code",
   "source": [
    "# Count the total number of connections each creature has.\n",
    "social_networks['connection_count'] = social_networks['connections'].apply(lambda x: len(json.loads(x)))\n",
    "social_networks[['creature_name', 'connection_count']]"
   ],
   "id": "3e669a33f58da463",
   "outputs": [],
   "execution_count": null
  },
  {
   "metadata": {},
   "cell_type": "code",
   "source": [
    "# Calculate the average connection strength for each creature.\n",
    "social_networks['avg_connection_strength'] = social_networks['connections'].apply(lambda x: pd.DataFrame(json.loads(x))['connection_strength'].mean())\n",
    "social_networks[['creature_name', 'avg_connection_strength']]"
   ],
   "id": "bd5fbcf6095458c9",
   "outputs": [],
   "execution_count": null
  },
  {
   "metadata": {},
   "cell_type": "code",
   "source": [
    "# Identify the creature with the highest average connection strength.\n",
    "social_networks.loc[social_networks['avg_connection_strength'].idxmax()][['creature_name', 'avg_connection_strength']]"
   ],
   "id": "f62b2c758b0bc76d",
   "outputs": [],
   "execution_count": null
  },
  {
   "metadata": {},
   "cell_type": "code",
   "source": [
    "# Determine the most connected creature (i.e., the creature with the most connections).\n",
    "social_networks.loc[social_networks['connection_count'].idxmax()][['creature_name', 'connection_count']]"
   ],
   "id": "e025feb21823ede0",
   "outputs": [],
   "execution_count": null
  },
  {
   "metadata": {},
   "cell_type": "code",
   "source": [
    "# Find the top 3 creatures with the strongest total connection strength.\n",
    "social_networks['total_connection_strength'] = social_networks['connections'].apply(lambda x: pd.DataFrame(json.loads(x))['connection_strength'].sum())\n",
    "social_networks.nlargest(3, 'total_connection_strength')[['creature_name', 'total_connection_strength']]"
   ],
   "id": "7e1fe6e55821d41d",
   "outputs": [],
   "execution_count": null
  }
 ],
 "metadata": {
  "kernelspec": {
   "display_name": "Python 3",
   "language": "python",
   "name": "python3"
  },
  "language_info": {
   "codemirror_mode": {
    "name": "ipython",
    "version": 2
   },
   "file_extension": ".py",
   "mimetype": "text/x-python",
   "name": "python",
   "nbconvert_exporter": "python",
   "pygments_lexer": "ipython2",
   "version": "2.7.6"
  }
 },
 "nbformat": 4,
 "nbformat_minor": 5
}
