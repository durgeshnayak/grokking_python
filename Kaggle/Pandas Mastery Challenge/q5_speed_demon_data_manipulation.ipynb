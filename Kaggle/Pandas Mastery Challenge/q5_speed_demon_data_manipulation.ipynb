{
 "cells": [
  {
   "metadata": {},
   "cell_type": "markdown",
   "source": [
    "Q5 - Speed Demon Data Manipulation\n",
    "\n",
    "Question: Welcome to Speed Demon Data Manipulation!\n",
    "You are given a dataset of various fantastical creatures and their race times in different races.\n",
    "The data is enormous, and you need to optimize your data manipulation techniques to answer the following questions:\n",
    "\n",
    "- Calculate the average race time for each creature.\n",
    "- Identify the top 3 fastest creatures based on their average race time.\n",
    "- Determine the race with the highest average race time.\n",
    "- Find the creature with the most race wins (i.e., shortest time in each race).\n",
    "- Calculate the total number of races each creature has participated in.\n",
    "\n",
    "Datasets:\n",
    "\n",
    "race_times: Contains columns (race_id, creature_name, race_time)."
   ],
   "id": "3315e289ba074b24"
  },
  {
   "metadata": {},
   "cell_type": "code",
   "source": [
    "import pandas as pd\n",
    "import numpy as np\n",
    "\n",
    "# Seed for reproducibility\n",
    "np.random.seed(101)\n",
    "\n",
    "# Generate synthetic data\n",
    "race_ids = np.arange(1, 101)\n",
    "creature_names = ['Speedy Snail', 'Dashy Dragon', 'Rapid Rabbit', 'Fleet-Footed Fairy', 'Quick Quokka', 'Swift Sphinx', 'Nimble Niffler', 'Brisk Banshee']\n",
    "\n",
    "data = []\n",
    "for race in race_ids:\n",
    "    for creature in creature_names:\n",
    "        race_time = np.random.uniform(10, 120)  # Race times in seconds\n",
    "        data.append([race, creature, race_time])\n",
    "\n",
    "# Create DataFrame\n",
    "race_times = pd.DataFrame(data, columns=['race_id', 'creature_name', 'race_time'])\n",
    "\n",
    "# Display the dataset\n",
    "race_times.head()"
   ],
   "id": "688b84f3c598c3d7",
   "outputs": [],
   "execution_count": null
  },
  {
   "metadata": {},
   "cell_type": "code",
   "source": "",
   "id": "6bb8e9f0ac43b791",
   "outputs": [],
   "execution_count": null
  }
 ],
 "metadata": {
  "kernelspec": {
   "display_name": "Python 3",
   "language": "python",
   "name": "python3"
  },
  "language_info": {
   "codemirror_mode": {
    "name": "ipython",
    "version": 2
   },
   "file_extension": ".py",
   "mimetype": "text/x-python",
   "name": "python",
   "nbconvert_exporter": "python",
   "pygments_lexer": "ipython2",
   "version": "2.7.6"
  }
 },
 "nbformat": 4,
 "nbformat_minor": 5
}
