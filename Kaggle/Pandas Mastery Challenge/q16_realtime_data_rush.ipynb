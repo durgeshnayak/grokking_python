{
 "cells": [
  {
   "metadata": {},
   "cell_type": "markdown",
   "source": [
    "Q16 - Real-time Data Rush¶\n",
    "\n",
    "Question: Welcome to Real-time Data Rush!\n",
    "You are given a dataset of magical creatures and their real-time activities.\n",
    "Each creature performs various activities with different durations throughout the day.\n",
    "Your task is to analyze this time-based data to answer the following questions:\n",
    "\n",
    "- Calculate the total duration of activities for each creature.\n",
    "- Determine the creature with the longest single activity duration.\n",
    "- Identify the most common activity performed by each creature.\n",
    "- Calculate the average activity duration for each type of activity across all creatures.\n",
    "- Find the top 3 creatures with the highest average activity duration.\n",
    "\n",
    "Datasets:\n",
    "\n",
    "creature_activities: Contains columns (creature_id, creature_name, activity, duration), where activity is the type of activity and duration is the time spent on that activity in minutes."
   ],
   "id": "31ede37a5ba1b50e"
  },
  {
   "metadata": {},
   "cell_type": "code",
   "source": [
    "import pandas as pd\n",
    "import numpy as np\n",
    "\n",
    "# Seed for reproducibility\n",
    "np.random.seed(1212)\n",
    "\n",
    "# Generate synthetic data\n",
    "creature_ids = np.arange(1, 11)\n",
    "creature_names = ['Frodo', 'Gandalf', 'Hermione', 'Legolas', 'Bilbo', 'Galadriel', 'Dumbledore', 'Gimli', 'Harry', 'Aragorn']\n",
    "activities = ['Flying', 'Potion Making', 'Spell Casting', 'Herb Gathering', 'Treasure Hunting']\n",
    "durations = np.arange(1, 121)  # Durations from 1 to 120 minutes\n",
    "\n",
    "data = []\n",
    "for creature_id, creature_name in zip(creature_ids, creature_names):\n",
    "    num_activities = np.random.randint(5, 15)\n",
    "    for _ in range(num_activities):\n",
    "        activity = np.random.choice(activities)\n",
    "        duration = np.random.choice(durations)\n",
    "        data.append([creature_id, creature_name, activity, duration])\n",
    "\n",
    "# Create DataFrame\n",
    "creature_activities = pd.DataFrame(data, columns=['creature_id', 'creature_name', 'activity', 'duration'])\n",
    "\n",
    "# Display the dataset\n",
    "creature_activities.head()"
   ],
   "id": "96803f62e96ed080",
   "outputs": [],
   "execution_count": null
  },
  {
   "metadata": {},
   "cell_type": "code",
   "source": [
    "# Calculate the total duration of activities for each creature.\n",
    "total_activity_duration_creature = creature_activities.groupby('creature_name')['duration'].sum().reset_index()\n",
    "total_activity_duration_creature.columns = ['creature_name', 'total_duration']\n",
    "total_activity_duration_creature"
   ],
   "id": "7a7f09f46d008e80",
   "outputs": [],
   "execution_count": null
  },
  {
   "metadata": {},
   "cell_type": "code",
   "source": [
    "# Determine the creature with the longest single activity duration.\n",
    "creature_longest_activity = creature_activities.iloc[creature_activities['duration'].idxmax()]\n",
    "creature_longest_activity"
   ],
   "id": "8cd7dfa3ea465ed1",
   "outputs": [],
   "execution_count": null
  },
  {
   "metadata": {},
   "cell_type": "code",
   "source": [
    "# Identify the most common activity performed by each creature\n",
    "most_common_activity_creature = creature_activities.groupby('creature_name')['activity'].agg(lambda x: x.mode().iloc[0]).reset_index()\n",
    "most_common_activity_creature"
   ],
   "id": "d18f4e9adbc79685",
   "outputs": [],
   "execution_count": null
  },
  {
   "metadata": {},
   "cell_type": "code",
   "source": [
    "# Calculate the average activity duration for each type of activity across all creatures\n",
    "avg_activity_duration = creature_activities.groupby('activity')['duration'].mean().reset_index()\n",
    "avg_activity_duration"
   ],
   "id": "b5a43f757b64edf8",
   "outputs": [],
   "execution_count": null
  },
  {
   "metadata": {},
   "cell_type": "code",
   "source": [
    "# Find the top 3 creatures with the highest average activity duration\n",
    "avg_activity_duration_creature = creature_activities.groupby('creature_name')['duration'].mean().reset_index()\n",
    "avg_activity_duration_creature.columns = ['creature_name', 'avg_duration']\n",
    "avg_activity_duration_creature.nlargest(3, 'avg_duration')"
   ],
   "id": "6740800ccf0a7b84",
   "outputs": [],
   "execution_count": null
  },
  {
   "metadata": {},
   "cell_type": "code",
   "source": "",
   "id": "85bca31e4443e132",
   "outputs": [],
   "execution_count": null
  }
 ],
 "metadata": {
  "kernelspec": {
   "display_name": "Python 3",
   "language": "python",
   "name": "python3"
  },
  "language_info": {
   "codemirror_mode": {
    "name": "ipython",
    "version": 2
   },
   "file_extension": ".py",
   "mimetype": "text/x-python",
   "name": "python",
   "nbconvert_exporter": "python",
   "pygments_lexer": "ipython2",
   "version": "2.7.6"
  }
 },
 "nbformat": 4,
 "nbformat_minor": 5
}
