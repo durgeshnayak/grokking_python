{
 "cells": [
  {
   "metadata": {},
   "cell_type": "markdown",
   "source": [
    "Q2 - Time Travel with Multi-Index¶\n",
    "\n",
    "Question: Welcome to Time Travel with Multi-Index!\n",
    "You are given a multi-index time series dataset of sales data for different regions and product categories.\n",
    "\n",
    "Your task is to perform advanced time series analysis and manipulation to answer the following questions:\n",
    "- What is the total sales for each region and product category over time?\n",
    "- Calculate the moving average of sales for each region and product category.\n",
    "- Identify the region with the highest sales growth rate.\n",
    "- Determine the top-selling product category for each region.\n",
    "- Find the month with the highest overall sales.\n",
    "Datasets:\n",
    "\n",
    "sales_data: Contains multi-index (region, product_category) and columns (date, sales)."
   ],
   "id": "1df19af603f99ccd"
  },
  {
   "metadata": {},
   "cell_type": "code",
   "source": [
    "import pandas as pd\n",
    "import numpy as np\n",
    "\n",
    "# Seed for reproducibility\n",
    "np.random.seed(1)\n",
    "\n",
    "# Generate date range\n",
    "date_range = pd.date_range(start='2023-01-01', end='2023-12-31', freq='ME')\n",
    "\n",
    "# Regions and product categories\n",
    "regions = ['North Pole', 'South Pole', 'East Egg', 'Westworld']\n",
    "product_categories = ['Gizmos', 'Widgets', 'Doodads', 'Thingamajigs']\n",
    "\n",
    "# Generate synthetic sales data\n",
    "data = []\n",
    "for region in regions:\n",
    "    for category in product_categories:\n",
    "        sales = np.random.randint(1000, 5000, size=len(date_range))\n",
    "        for date, sale in zip(date_range, sales):\n",
    "            data.append([region, category, date, sale])\n",
    "\n",
    "# Create DataFrame\n",
    "sales_data = pd.DataFrame(data, columns=['Region', 'Product_Category', 'Date', 'Sales'])\n",
    "\n",
    "# Set multi-index\n",
    "sales_data.set_index(['Region', 'Product_Category', 'Date'], inplace=True)\n",
    "\n",
    "# Display the dataset\n",
    "sales_data.head()"
   ],
   "id": "6306ee180e34803d",
   "outputs": [],
   "execution_count": null
  },
  {
   "metadata": {},
   "cell_type": "code",
   "source": [
    "# Calculate the total sales for each region and product category over time\n",
    "total_sales_rp = sales_data.groupby(['Region', 'Product_Category']).resample('ME', level='Date').sum()\n",
    "total_sales_rp"
   ],
   "id": "99895bce629224aa",
   "outputs": [],
   "execution_count": null
  },
  {
   "metadata": {},
   "cell_type": "code",
   "source": [
    "# Calculate the moving average of sales for each region and product category\n",
    "moving_average_sales = total_sales_rp.groupby(['Region', 'Product_Category']).rolling(window=3).mean()\n",
    "moving_average_sales.reset_index(level=[0, 1])"
   ],
   "id": "72fa17f4df518eec",
   "outputs": [],
   "execution_count": null
  },
  {
   "metadata": {},
   "cell_type": "code",
   "source": [
    "# Identify the region with the highest sales growth rate\n",
    "sales_growth = total_sales_rp.groupby(level='Region').sum().pct_change().fillna(0)\n",
    "highest_growth_region = sales_growth['Sales'].idxmax()\n",
    "highest_growth_region"
   ],
   "id": "aecfe99ba921a126",
   "outputs": [],
   "execution_count": null
  },
  {
   "metadata": {},
   "cell_type": "code",
   "source": [
    "# Determine the top-selling product category for each region\n",
    "product_sale = total_sales_rp.groupby(['Region', 'Product_Category']).sum()\n",
    "top_selling_product = product_sale.groupby('Region').idxmax()\n",
    "top_selling_product"
   ],
   "id": "38acba7ac1a21302",
   "outputs": [],
   "execution_count": null
  },
  {
   "metadata": {},
   "cell_type": "code",
   "source": [
    "# Find the month with the highest overall sales\n",
    "total_monthly_sales = total_sales_rp.groupby('Date').sum()\n",
    "highest_sales_month = total_monthly_sales['Sales'].idxmax()\n",
    "highest_sales_month.strftime('%Y-%m')"
   ],
   "id": "434f4fd33dbd12c8",
   "outputs": [],
   "execution_count": null
  }
 ],
 "metadata": {
  "kernelspec": {
   "display_name": "Python 3",
   "language": "python",
   "name": "python3"
  },
  "language_info": {
   "codemirror_mode": {
    "name": "ipython",
    "version": 2
   },
   "file_extension": ".py",
   "mimetype": "text/x-python",
   "name": "python",
   "nbconvert_exporter": "python",
   "pygments_lexer": "ipython2",
   "version": "2.7.6"
  }
 },
 "nbformat": 4,
 "nbformat_minor": 5
}
