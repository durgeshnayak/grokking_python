{
 "cells": [
  {
   "metadata": {},
   "cell_type": "markdown",
   "source": [
    "Q15 - High Dimensional Hide and Seek\n",
    "\n",
    "Question: Welcome to High Dimensional Hide and Seek!\n",
    "You are given a dataset of magical artifacts and their multidimensional properties.\n",
    "Each artifact has several attributes across different dimensions.\n",
    "Your task is to analyze these high-dimensional data to answer the following questions:\n",
    "\n",
    "- Count the total number of artifacts in each category.\n",
    "- Calculate the average value of each attribute for each category.\n",
    "- Identify the category with the highest average \"magic intensity\" attribute.\n",
    "- Determine the artifact with the highest combined value of all attributes.\n",
    "- Find the top 3 categories with the highest variance in \"enchantment\" attribute.\n",
    "\n",
    "Datasets:\n",
    "\n",
    "magical_artifacts: Contains columns (artifact_id, category, attributes), where attributes is a dictionary with keys (magic_intensity, power_level, durability, enchantment, rarity)."
   ],
   "id": "73aaa2f482e4291a"
  },
  {
   "metadata": {},
   "cell_type": "code",
   "source": [
    "import pandas as pd\n",
    "import numpy as np\n",
    "import json\n",
    "\n",
    "# Seed for reproducibility\n",
    "np.random.seed(1111)\n",
    "\n",
    "# Generate synthetic data\n",
    "artifact_ids = np.arange(1, 21)\n",
    "categories = ['Wands', 'Potions', 'Amulets', 'Scrolls', 'Rings']\n",
    "attributes_keys = ['magic_intensity', 'power_level', 'durability', 'enchantment', 'rarity']\n",
    "\n",
    "data = []\n",
    "for artifact_id in artifact_ids:\n",
    "    category = np.random.choice(categories)\n",
    "    attributes = {\n",
    "        'magic_intensity': np.random.randint(1, 101),\n",
    "        'power_level': np.random.randint(1, 101),\n",
    "        'durability': np.random.randint(1, 101),\n",
    "        'enchantment': np.random.randint(1, 101),\n",
    "        'rarity': np.random.randint(1, 101)\n",
    "    }\n",
    "    data.append([artifact_id, category, json.dumps(attributes)])\n",
    "\n",
    "# Create DataFrame\n",
    "magical_artifacts = pd.DataFrame(data, columns=['artifact_id', 'category', 'attributes'])\n",
    "\n",
    "# Display the dataset\n",
    "magical_artifacts.head()"
   ],
   "id": "8c3222f163d7477d",
   "outputs": [],
   "execution_count": null
  },
  {
   "metadata": {},
   "cell_type": "code",
   "source": [
    "# Count the total number of artifacts in each category.\n",
    "artifact_count_per_category = magical_artifacts['category'].value_counts().reset_index()\n",
    "artifact_count_per_category.columns = ['category', 'artifact_count']\n",
    "artifact_count_per_category"
   ],
   "id": "a44bdbf79a98a9da",
   "outputs": [],
   "execution_count": null
  },
  {
   "metadata": {},
   "cell_type": "code",
   "source": [
    "# Extract attributes as a DataFrame and merge as columns\n",
    "attributes_df = magical_artifacts['attributes'].apply(lambda x: pd.Series(json.loads(x)))\n",
    "magical_artifacts = pd.concat([magical_artifacts.drop(columns=['attributes']), attributes_df], axis=1)\n",
    "magical_artifacts"
   ],
   "id": "286751d993d49cc0",
   "outputs": [],
   "execution_count": null
  },
  {
   "metadata": {},
   "cell_type": "code",
   "source": [
    "# Calculate the average value of each attribute for each category\n",
    "avg_attributes_category = magical_artifacts.groupby(['category'])[attributes_keys].mean().reset_index()\n",
    "avg_attributes_category"
   ],
   "id": "ef0874489eae09a1",
   "outputs": [],
   "execution_count": null
  },
  {
   "metadata": {},
   "cell_type": "code",
   "source": [
    "# Identify the category with the highest average \"magic intensity\" attribute\n",
    "avg_magic_intensity = magical_artifacts.groupby(['category'])['magic_intensity'].mean().reset_index()\n",
    "avg_magic_intensity.loc[avg_magic_intensity['magic_intensity'].idxmax()]"
   ],
   "id": "144079024d7f36",
   "outputs": [],
   "execution_count": null
  },
  {
   "metadata": {},
   "cell_type": "code",
   "source": [
    "# Determine the artifact with the highest combined value of all attributes.\n",
    "magical_artifacts['total_attribute_value'] = magical_artifacts[attributes_keys].sum(axis=1)\n",
    "artifact_highest_total_value = magical_artifacts.loc[magical_artifacts['total_attribute_value'].idxmax()]\n",
    "artifact_highest_total_value[['artifact_id', 'category', 'total_attribute_value']]"
   ],
   "id": "d2387928af3c5a0",
   "outputs": [],
   "execution_count": null
  },
  {
   "metadata": {},
   "cell_type": "code",
   "source": [
    "# Find the top 3 categories with the highest variance in \"enchantment\" attribute\n",
    "variance_enchantment_category = magical_artifacts.groupby(['category'])['enchantment'].var().reset_index()\n",
    "top3_categories = variance_enchantment_category.nlargest(3, 'enchantment')\n",
    "top3_categories"
   ],
   "id": "b58679a947f1a6d8",
   "outputs": [],
   "execution_count": null
  },
  {
   "metadata": {},
   "cell_type": "code",
   "source": "",
   "id": "2af713cc4e2ce76f",
   "outputs": [],
   "execution_count": null
  }
 ],
 "metadata": {
  "kernelspec": {
   "display_name": "Python 3",
   "language": "python",
   "name": "python3"
  },
  "language_info": {
   "codemirror_mode": {
    "name": "ipython",
    "version": 2
   },
   "file_extension": ".py",
   "mimetype": "text/x-python",
   "name": "python",
   "nbconvert_exporter": "python",
   "pygments_lexer": "ipython2",
   "version": "2.7.6"
  }
 },
 "nbformat": 4,
 "nbformat_minor": 5
}
