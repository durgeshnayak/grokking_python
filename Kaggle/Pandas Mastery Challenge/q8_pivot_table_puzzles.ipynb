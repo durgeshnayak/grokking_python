{
 "cells": [
  {
   "metadata": {},
   "cell_type": "markdown",
   "source": [
    "Q8 - Pivot Table Puzzles¶\n",
    "\n",
    "Question: Welcome to Pivot Table Puzzles!\n",
    "You are given a dataset of whimsical workshops attended by various mythical creatures.\n",
    "Each creature attends multiple workshops, and you need to analyze their attendance and performance.\n",
    "Your task is to use pivot tables to answer the following questions:\n",
    "\n",
    "- Create a pivot table showing the total hours attended by each creature for each workshop.\n",
    "- Calculate the average score of each creature for each workshop.\n",
    "- Identify the workshop with the highest average score.\n",
    "- Determine the total number of workshops attended by each creature.\n",
    "- Find the creature with the highest total score across all workshops.\n",
    "\n",
    "Datasets:\n",
    "\n",
    "workshop_attendance: Contains columns (creature_id, creature_name, workshop_name, hours_attended, score)."
   ],
   "id": "3dbeb02684cce702"
  },
  {
   "metadata": {},
   "cell_type": "code",
   "source": [
    "import pandas as pd\n",
    "import numpy as np\n",
    "\n",
    "# Seed for reproducibility\n",
    "np.random.seed(404)\n",
    "\n",
    "# Generate synthetic data\n",
    "creature_ids = np.arange(1, 21)\n",
    "creature_names = ['Unicorn Ulysses', 'Phoenix Phoebe', 'Dragon Draco', 'Goblin Greta', 'Elf Elrond']\n",
    "workshops = ['Wand Making', 'Spell Weaving', 'Potion Brewing', 'Crystal Gazing', 'Herbology']\n",
    "hours_options = np.arange(1, 11)\n",
    "score_options = np.arange(50, 101)\n",
    "\n",
    "data = []\n",
    "for creature in creature_ids:\n",
    "    creature_name = np.random.choice(creature_names)\n",
    "    num_workshops = np.random.randint(1, len(workshops) + 1)\n",
    "    attended_workshops = np.random.choice(workshops, num_workshops, replace=False)\n",
    "    for workshop in attended_workshops:\n",
    "        hours_attended = np.random.choice(hours_options)\n",
    "        score = np.random.choice(score_options)\n",
    "        data.append([creature, creature_name, workshop, hours_attended, score])\n",
    "\n",
    "# Create DataFrame\n",
    "workshop_attendance = pd.DataFrame(data, columns=['creature_id', 'creature_name', 'workshop_name', 'hours_attended', 'score'])\n",
    "\n",
    "# Display the dataset\n",
    "workshop_attendance.head()"
   ],
   "id": "8970529d196ba95b",
   "outputs": [],
   "execution_count": null
  },
  {
   "metadata": {},
   "cell_type": "code",
   "source": [
    "# Create a pivot table showing the total hours attended by each creature for each workshop.\n",
    "pivot_hours = workshop_attendance.pivot_table(index='creature_name', columns='workshop_name', values='hours_attended', aggfunc='sum', fill_value=0)\n",
    "pivot_hours"
   ],
   "id": "f2216c720db71765",
   "outputs": [],
   "execution_count": null
  },
  {
   "metadata": {},
   "cell_type": "code",
   "source": [
    "# Calculate the average score of each creature for each workshop\n",
    "average_score = workshop_attendance.pivot_table(index='creature_name', columns='workshop_name', values='score', aggfunc='mean', fill_value=0)\n",
    "average_score"
   ],
   "id": "c0950b5d5983ac9",
   "outputs": [],
   "execution_count": null
  },
  {
   "metadata": {},
   "cell_type": "code",
   "source": [
    "# Identify the workshop with the highest average score\n",
    "averagescore_per_workshop = workshop_attendance.groupby(['workshop_name'])['score'].mean().reset_index()\n",
    "highest_score_workshop = workshop_attendance.loc[averagescore_per_workshop['score'].idxmax()]\n",
    "highest_score_workshop"
   ],
   "id": "c0d5e466b83b3db3",
   "outputs": [],
   "execution_count": null
  },
  {
   "metadata": {},
   "cell_type": "code",
   "source": [
    "# Determine the total number of workshops attended by each creature\n",
    "total_workshops_creature = workshop_attendance.groupby(['creature_name'])['workshop_name'].count().reset_index()\n",
    "total_workshops_creature.columns = ['Creature Name', 'Workshops Attended']\n",
    "total_workshops_creature"
   ],
   "id": "7bf567199920bbb6",
   "outputs": [],
   "execution_count": null
  },
  {
   "metadata": {},
   "cell_type": "code",
   "source": [
    "# Find the creature with the highest total score across all workshops\n",
    "total_score_creature = workshop_attendance.groupby(['creature_name'])['score'].sum().reset_index()\n",
    "highest_score_creature = total_score_creature.loc[total_score_creature['score'].idxmax()]\n",
    "highest_score_creature"
   ],
   "id": "ff605294635f9d04",
   "outputs": [],
   "execution_count": null
  },
  {
   "metadata": {},
   "cell_type": "code",
   "source": "",
   "id": "5628b47fc2cc4906",
   "outputs": [],
   "execution_count": null
  }
 ],
 "metadata": {
  "kernelspec": {
   "display_name": "Python 3",
   "language": "python",
   "name": "python3"
  },
  "language_info": {
   "codemirror_mode": {
    "name": "ipython",
    "version": 2
   },
   "file_extension": ".py",
   "mimetype": "text/x-python",
   "name": "python",
   "nbconvert_exporter": "python",
   "pygments_lexer": "ipython2",
   "version": "2.7.6"
  }
 },
 "nbformat": 4,
 "nbformat_minor": 5
}
