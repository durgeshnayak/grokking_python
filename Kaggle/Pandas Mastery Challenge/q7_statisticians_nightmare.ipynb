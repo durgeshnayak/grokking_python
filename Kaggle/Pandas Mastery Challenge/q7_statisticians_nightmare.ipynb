{
 "cells": [
  {
   "metadata": {},
   "cell_type": "markdown",
   "source": [
    "Q7 - Statistician's Nightmare\n",
    "\n",
    "Question: Welcome to the Statistician's Nightmare!\n",
    "You are given a dataset of various magical creatures and their bizarre daily activities.\n",
    "The data is filled with quirky statistics and unusual measures.\n",
    "Your task is to perform statistical analysis to answer the following questions:\n",
    "\n",
    "- Calculate the mean, median, and mode of the hours each creature spends on different activities.\n",
    "- Identify the creature with the highest variance in activity hours.\n",
    "- Determine the correlation between the number of magical spells cast and the hours spent on activities.\n",
    "- Find outliers in the dataset based on activity hours.\n",
    "- Perform a hypothesis test to determine if the average hours spent by creatures on \"Flying\" is different from \"Potion Making.\"\n",
    "\n",
    "Datasets:\n",
    "\n",
    "creature_activities: Contains columns (creature_id, creature_name, activity, hours, spells_cast)."
   ],
   "id": "220a37fd89a0e703"
  },
  {
   "metadata": {},
   "cell_type": "code",
   "source": [
    "import pandas as pd\n",
    "import numpy as np\n",
    "from scipy import stats\n",
    "\n",
    "# Seed for reproducibility\n",
    "np.random.seed(303)\n",
    "\n",
    "# Generate synthetic data\n",
    "creature_ids = np.arange(1, 21)\n",
    "creature_names = ['Frodo Frog', 'Gimli Gnome', 'Luna Leprechaun', 'Percy Pixie', 'Trevor Troll']\n",
    "activities = ['Flying', 'Potion Making', 'Spell Casting', 'Herb Gathering', 'Treasure Hunting']\n",
    "hours_options = np.arange(0, 25)\n",
    "spells_cast_options = np.arange(0, 101)\n",
    "\n",
    "data = []\n",
    "for creature in creature_ids:\n",
    "    creature_name = np.random.choice(creature_names)\n",
    "    for activity in activities:\n",
    "        hours = np.random.choice(hours_options)\n",
    "        spells_cast = np.random.choice(spells_cast_options)\n",
    "        data.append([creature, creature_name, activity, hours, spells_cast])\n",
    "\n",
    "# Create DataFrame\n",
    "creature_activities = pd.DataFrame(data, columns=['creature_id', 'creature_name', 'activity', 'hours', 'spells_cast'])\n",
    "\n",
    "# Display the dataset\n",
    "creature_activities.head()"
   ],
   "id": "92ad448dcfba707a",
   "outputs": [],
   "execution_count": null
  },
  {
   "metadata": {},
   "cell_type": "code",
   "source": [
    "# Calculate the mean, median, and mode of the hours each creature spends on different activities.\n",
    "time_by_activity = creature_activities.groupby('creature_name', 'activity', axis='columns')['hours'].resetindex()\n",
    "time_by_activity"
   ],
   "id": "759c9d92a971bc8c",
   "outputs": [],
   "execution_count": null
  },
  {
   "metadata": {},
   "cell_type": "code",
   "source": "",
   "id": "ab8bf3b55f4dd292",
   "outputs": [],
   "execution_count": null
  }
 ],
 "metadata": {
  "kernelspec": {
   "display_name": "Python 3",
   "language": "python",
   "name": "python3"
  },
  "language_info": {
   "codemirror_mode": {
    "name": "ipython",
    "version": 2
   },
   "file_extension": ".py",
   "mimetype": "text/x-python",
   "name": "python",
   "nbconvert_exporter": "python",
   "pygments_lexer": "ipython2",
   "version": "2.7.6"
  }
 },
 "nbformat": 4,
 "nbformat_minor": 5
}
