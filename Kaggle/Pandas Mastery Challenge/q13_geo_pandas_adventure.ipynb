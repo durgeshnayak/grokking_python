{
 "cells": [
  {
   "metadata": {},
   "cell_type": "markdown",
   "source": [
    "Q13 - Geo Pandas Adventure\n",
    "\n",
    "Question: Welcome to Geo Pandas Adventure!\n",
    "You are given a dataset of magical locations and the whimsical creatures that inhabit them.\n",
    "Each location has different environmental properties and magical attributes.\n",
    "Your task is to analyze this geographical data to answer the following questions:\n",
    "\n",
    "- Count the total number of unique creatures in each location.\n",
    "- Calculate the average magical energy level for each location.\n",
    "- Identify the location with the highest diversity of creature types.\n",
    "- Determine the most common magical attribute in each location.\n",
    "- Find the top 3 locations with the highest average environmental scores.\n",
    "\n",
    "Datasets:\n",
    "\n",
    "magical_locations: Contains columns (location_id, location_name, creatures, magical_attributes, environmental_score), where creatures is a list of dictionaries with keys (creature_id, creature_name, creature_type, magical_energy)."
   ],
   "id": "78d3f2441a12d3a1"
  },
  {
   "metadata": {},
   "cell_type": "code",
   "source": [
    "import pandas as pd\n",
    "import numpy as np\n",
    "import json\n",
    "\n",
    "# Seed for reproducibility\n",
    "np.random.seed(909)\n",
    "\n",
    "# Generate synthetic data\n",
    "location_ids = np.arange(1, 6)\n",
    "location_names = ['Mystic Mountain', 'Enchanted Forest', 'Faerie Glen', 'Dragon’s Lair', 'Unicorn Meadow']\n",
    "creature_types = ['Dragon', 'Unicorn', 'Phoenix', 'Griffin', 'Mermaid']\n",
    "creature_names = ['Draco', 'Sparkle', 'Flare', 'Griff', 'Ariel']\n",
    "magical_attributes_options = ['Glowing Stones', 'Whispering Winds', 'Mystic Waters', 'Enchanted Trees', 'Floating Islands']\n",
    "environmental_scores = np.random.randint(50, 101, size=len(location_ids))\n",
    "\n",
    "data = []\n",
    "for location_id, location_name in zip(location_ids, location_names):\n",
    "    num_creatures = np.random.randint(5, 11)\n",
    "    creatures = []\n",
    "    for _ in range(num_creatures):\n",
    "        creature_id = int(np.random.randint(1, 1001))\n",
    "        creature_type = np.random.choice(creature_types)\n",
    "        creature_name = np.random.choice(creature_names)\n",
    "        magical_energy = int(np.random.randint(50, 501))\n",
    "        creatures.append({\n",
    "            'creature_id': creature_id,\n",
    "            'creature_name': creature_name,\n",
    "            'creature_type': creature_type,\n",
    "            'magical_energy': magical_energy\n",
    "        })\n",
    "    magical_attributes = np.random.choice(magical_attributes_options, np.random.randint(1, 4), replace=False).tolist()\n",
    "    data.append([location_id, location_name, json.dumps(creatures), magical_attributes, environmental_scores[location_id-1]])\n",
    "\n",
    "# Create DataFrame\n",
    "magical_locations = pd.DataFrame(data, columns=['location_id', 'location_name', 'creatures', 'magical_attributes', 'environmental_score'])\n",
    "\n",
    "# Display the dataset\n",
    "magical_locations.head()"
   ],
   "id": "60284caa235be190",
   "outputs": [],
   "execution_count": null
  },
  {
   "metadata": {},
   "cell_type": "code",
   "source": [
    "# Count the total number of unique creatures in each location.\n",
    "magical_locations['creature_count'] = magical_locations['creatures'].apply(lambda x: len(json.loads(x)))\n",
    "magical_locations[['location_name', 'creature_count']]"
   ],
   "id": "8d800bdfc85c86c8",
   "outputs": [],
   "execution_count": null
  },
  {
   "metadata": {},
   "cell_type": "code",
   "source": [
    "# Calculate the average magical energy level for each location.\n",
    "magical_locations['avg_energy_level'] = magical_locations['creatures'].apply(lambda x: pd.DataFrame(json.loads(x))['magical_energy'].mean())\n",
    "magical_locations[['location_name', 'avg_energy_level']]"
   ],
   "id": "d934bf05ae848443",
   "outputs": [],
   "execution_count": null
  },
  {
   "metadata": {},
   "cell_type": "code",
   "source": [
    "# Identify the location with the highest diversity of creature types.\n",
    "def creature_diversity(creatures_json):\n",
    "    creatures_df = pd.DataFrame(json.loads(creatures_json))\n",
    "    return creatures_df['creature_type'].nunique()\n",
    "\n",
    "magical_locations['creature_diversity'] = magical_locations['creatures'].apply(creature_diversity)\n",
    "location_highest_diversity = magical_locations.loc[magical_locations['creature_diversity'].idxmax()]\n",
    "location_highest_diversity[['location_name', 'creature_diversity']]"
   ],
   "id": "f8e7a2a6181e12c9",
   "outputs": [],
   "execution_count": null
  },
  {
   "metadata": {},
   "cell_type": "code",
   "source": [
    "# Determine the most common magical attribute in each location\n",
    "def most_common_attribute(attribute_list):\n",
    "    return pd.Series(attribute_list).mode().iloc[0]\n",
    "\n",
    "magical_locations['most_common_attribute'] = magical_locations['magical_attributes'].apply(most_common_attribute)\n",
    "magical_locations[['location_name', 'most_common_attribute']]"
   ],
   "id": "30aa4744015d24a7",
   "outputs": [],
   "execution_count": null
  },
  {
   "metadata": {},
   "cell_type": "code",
   "source": [
    "# Find the top 3 locations with the highest average environmental scores\n",
    "top_3_locations = magical_locations.nlargest(3, 'environmental_score')\n",
    "top_3_locations[['location_name', 'environmental_score']]"
   ],
   "id": "173e7f67ef0a7f5",
   "outputs": [],
   "execution_count": null
  },
  {
   "metadata": {},
   "cell_type": "code",
   "source": "",
   "id": "c908a106692a8372",
   "outputs": [],
   "execution_count": null
  }
 ],
 "metadata": {
  "kernelspec": {
   "display_name": "Python 3",
   "language": "python",
   "name": "python3"
  },
  "language_info": {
   "codemirror_mode": {
    "name": "ipython",
    "version": 2
   },
   "file_extension": ".py",
   "mimetype": "text/x-python",
   "name": "python",
   "nbconvert_exporter": "python",
   "pygments_lexer": "ipython2",
   "version": "2.7.6"
  }
 },
 "nbformat": 4,
 "nbformat_minor": 5
}
