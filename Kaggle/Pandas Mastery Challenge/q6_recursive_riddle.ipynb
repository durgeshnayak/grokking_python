{
 "cells": [
  {
   "metadata": {},
   "cell_type": "markdown",
   "source": [
    "Q6 - Recursive Riddle\n",
    "\n",
    "Question: Welcome to the Recursive Riddle!\n",
    "You are given a dataset containing information about a series of magical quests and the hierarchical structure of tasks within each quest.\n",
    "Each task may depend on the completion of other tasks. Your task is to use recursive techniques to answer the following questions:\n",
    "\n",
    "- Determine the total number of tasks in each quest.\n",
    "- Identify the task that has the most dependencies in each quest.\n",
    "- Calculate the total time required to complete each quest.\n",
    "- Find the deepest level of task dependency in each quest.\n",
    "- List the tasks in each quest in the order they should be completed.\n",
    "\n",
    "Datasets:\n",
    "\n",
    "magical_quests: Contains columns (quest_id, task_id, task_name, depends_on, time_required)."
   ],
   "id": "feb7f4472b0891d8"
  },
  {
   "metadata": {},
   "cell_type": "code",
   "source": [
    "import pandas as pd\n",
    "import numpy as np\n",
    "from collections import defaultdict\n",
    "\n",
    "# Seed for reproducibility\n",
    "np.random.seed(202)\n",
    "\n",
    "# Generate synthetic data\n",
    "quest_ids = np.arange(1, 6)\n",
    "task_ids = np.arange(1, 21)\n",
    "task_names = ['Gather Ingredients', 'Cast Spell', 'Brew Potion', 'Enchant Object', 'Defeat Monster', 'Rescue Ally', 'Find Hidden Path', 'Solve Puzzle', 'Forge Weapon', 'Tame Beast']\n",
    "depends_on_options = [None] + list(task_ids)\n",
    "\n",
    "data = []\n",
    "for quest in quest_ids:\n",
    "    num_tasks = np.random.randint(5, 10)\n",
    "    tasks = np.random.choice(task_ids, num_tasks, replace=False)\n",
    "    for task in tasks:\n",
    "        depends_on = np.random.choice(depends_on_options, np.random.randint(0, 3)).tolist() if np.random.rand() > 0.3 else None\n",
    "        time_required = np.random.randint(1, 5) * 10  # Time required in minutes\n",
    "        data.append([quest, task, np.random.choice(task_names), depends_on, time_required])\n",
    "\n",
    "# Create DataFrame\n",
    "magical_quests = pd.DataFrame(data, columns=['quest_id', 'task_id', 'task_name', 'depends_on', 'time_required'])\n",
    "\n",
    "# Convert lists of single elements to integers and empty lists to None\n",
    "magical_quests['depends_on'] = magical_quests['depends_on'].apply(lambda x: x if isinstance(x, list) and x else None)\n",
    "\n",
    "# Display the dataset\n",
    "magical_quests.head()"
   ],
   "id": "14f5ff593ab2f931",
   "outputs": [],
   "execution_count": null
  },
  {
   "metadata": {},
   "cell_type": "code",
   "source": [
    "def build_dependency_graph(df):\n",
    "    graph = defaultdict(list)\n",
    "    time_needed = {}\n",
    "    for _, row in df.iterrows():\n",
    "        graph[row['task_id']] = row['depends_on'] if row['depends_on'] is not None else []\n",
    "        time_needed[row['task_id']] = row['time_required']\n",
    "    return graph, time_needed\n"
   ],
   "id": "5c7eaf5107613498",
   "outputs": [],
   "execution_count": null
  },
  {
   "metadata": {},
   "cell_type": "code",
   "source": [
    "tasks_per_quest = magical_quests.groupby('quest_id')['task_id'].count().reset_index()\n",
    "tasks_per_quest.columns = ['Quest ID', 'Number of Tasks']\n",
    "tasks_per_quest"
   ],
   "id": "7abe1cbc36635f36",
   "outputs": [],
   "execution_count": null
  },
  {
   "metadata": {},
   "cell_type": "code",
   "source": [
    "# Identify the task that has the most dependencies in each quest\n",
    "def count_dependencies(task_id, graph, visited= None):\n",
    "    if visited is None:\n",
    "        visited = set()\n",
    "    if task_id in visited:\n",
    "        return 0\n",
    "    visited.add(task_id)\n",
    "    if not graph[task_id]:\n",
    "        return 0\n",
    "    dependencies = [count_dependencies(dep, graph, visited) for dep in graph[task_id] if dep in graph]\n",
    "    return 1 + (max(dependencies) if dependencies else 0)\n",
    "\n",
    "dependencies_count = []\n",
    "for quest, group in magical_quests.groupby('quest_id'):\n",
    "    graph, _ = build_dependency_graph(group)\n",
    "    for task_id in group['task_id']:\n",
    "        dependencies_count.append([quest, task_id, count_dependencies(task_id, graph)])\n",
    "\n",
    "dependencies_df = pd.DataFrame(dependencies_count, columns=['quest_id', 'task_id', 'dependency_count'])\n",
    "most_dependencies_task = dependencies_df.loc[dependencies_df.groupby('quest_id')['dependency_count'].idxmax()]\n",
    "most_dependencies_task"
   ],
   "id": "e366dc1e1a2c8fbd",
   "outputs": [],
   "execution_count": null
  },
  {
   "metadata": {},
   "cell_type": "code",
   "source": "",
   "id": "f401dfb19b6ec6b8",
   "outputs": [],
   "execution_count": null
  }
 ],
 "metadata": {
  "kernelspec": {
   "display_name": "Python 3",
   "language": "python",
   "name": "python3"
  },
  "language_info": {
   "codemirror_mode": {
    "name": "ipython",
    "version": 2
   },
   "file_extension": ".py",
   "mimetype": "text/x-python",
   "name": "python",
   "nbconvert_exporter": "python",
   "pygments_lexer": "ipython2",
   "version": "2.7.6"
  }
 },
 "nbformat": 4,
 "nbformat_minor": 5
}
