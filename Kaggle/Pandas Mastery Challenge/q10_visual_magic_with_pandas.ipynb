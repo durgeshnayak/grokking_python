{
 "cells": [
  {
   "metadata": {},
   "cell_type": "markdown",
   "source": [
    "Q10 - Visual Magic with Pandas\n",
    "\n",
    "Question: Welcome to Visual Magic with Pandas!\n",
    "You are given a dataset of mystical creatures and their magical powers.\n",
    "Each creature has different abilities, and you need to create visualizations to answer the following questions:\n",
    "\n",
    "- Create a bar chart showing the total power levels for each creature type.\n",
    "- Generate a pie chart representing the distribution of creatures by their habitat.\n",
    "- Plot a scatter plot to show the relationship between power level and age of the creatures.\n",
    "- Create a box plot to compare the power levels across different creature types.\n",
    "- Generate a line chart to show the change in power levels over different ages for each creature type.\n",
    "\n",
    "Datasets:\n",
    "\n",
    "mystical_creatures: Contains columns (creature_id, creature_type, creature_name, age, power_level, habitat)."
   ],
   "id": "58189f1dcb4f4047"
  },
  {
   "metadata": {},
   "cell_type": "code",
   "source": [
    "import pandas as pd\n",
    "import numpy as np\n",
    "import matplotlib.pyplot as plt\n",
    "import seaborn as sns\n",
    "from scipy.stats import alpha\n",
    "\n",
    "# Seed for reproducibility\n",
    "np.random.seed(606)\n",
    "\n",
    "# Generate synthetic data\n",
    "creature_ids = np.arange(1, 101)\n",
    "creature_types = ['Dragon', 'Unicorn', 'Phoenix', 'Griffin', 'Mermaid']\n",
    "creature_names = ['Draco', 'Sparkle', 'Flare', 'Griff', 'Ariel']\n",
    "habitats = ['Forest', 'Mountain', 'Sea', 'Sky', 'Cave']\n",
    "ages = np.arange(1, 101)\n",
    "power_levels = np.arange(50, 501)\n",
    "\n",
    "data = []\n",
    "for creature_id in creature_ids:\n",
    "    creature_type = np.random.choice(creature_types)\n",
    "    creature_name = np.random.choice(creature_names)\n",
    "    age = np.random.choice(ages)\n",
    "    power_level = np.random.choice(power_levels)\n",
    "    habitat = np.random.choice(habitats)\n",
    "    data.append([creature_id, creature_type, creature_name, age, power_level, habitat])\n",
    "\n",
    "# Create DataFrame\n",
    "mystical_creatures = pd.DataFrame(data, columns=['creature_id', 'creature_type', 'creature_name', 'age', 'power_level', 'habitat'])\n",
    "\n",
    "# Display the dataset\n",
    "mystical_creatures.head()"
   ],
   "id": "89ae8c8b23b26cf5",
   "outputs": [],
   "execution_count": null
  },
  {
   "metadata": {},
   "cell_type": "code",
   "source": [
    "# Create a bar chart showing the total power levels for each creature type.\n",
    "plt.figure(figsize=(10, 6))\n",
    "total_power_levels = mystical_creatures.groupby(['creature_type'])['power_level'].sum().reset_index()\n",
    "\n",
    "sns.barplot(x='creature_type', y='power_level', data=total_power_levels, palette='viridis')\n",
    "plt.title('Total Power Levels for Each Creature Type')\n",
    "plt.xlabel('Creature Type')\n",
    "plt.ylabel('Total Power Level')\n",
    "plt.show()"
   ],
   "id": "3270ffb5adc5491e",
   "outputs": [],
   "execution_count": null
  },
  {
   "metadata": {},
   "cell_type": "code",
   "source": [
    "# Generate a pie chart representing the distribution of creatures by their habitat.\n",
    "plt.figure(figsize=(8, 8))\n",
    "habitat_distribution = mystical_creatures['habitat'].value_counts()\n",
    "\n",
    "plt.pie(habitat_distribution, labels=habitat_distribution.index, autopct='%1.1f%%', colors=sns.color_palette('pastel'))\n",
    "plt.title('Distribution of Creatures by Habitat')\n",
    "plt.show()"
   ],
   "id": "6ba05c3f61e3cafe",
   "outputs": [],
   "execution_count": null
  },
  {
   "metadata": {},
   "cell_type": "code",
   "source": [
    "# Plot a scatter plot to show the relationship between power level and age of the creatures\n",
    "plt.figure(figsize=(10, 6))\n",
    "sns.scatterplot(x='age', y='power_level', data=mystical_creatures, hue='creature_type', palette='viridis', alpha=0.7)\n",
    "plt.title('Relationship between Power Level and Age of the Creatures')\n",
    "plt.xlabel('Age')\n",
    "plt.ylabel('Power Level')\n",
    "plt.show()"
   ],
   "id": "654c6cc09508362e",
   "outputs": [],
   "execution_count": null
  },
  {
   "metadata": {},
   "cell_type": "code",
   "source": [
    "# Create a box plot to compare the power levels across different creature types\n",
    "plt.figure(figsize=(10, 6))\n",
    "sns.boxplot(x='creature_type', y='power_level', data=mystical_creatures, palette='viridis')\n",
    "plt.title('Power Levels Across Different Creature Types')\n",
    "plt.xlabel('Creature Type')\n",
    "plt.ylabel('Power Level')\n",
    "plt.show()"
   ],
   "id": "d0b86f0827878826",
   "outputs": [],
   "execution_count": null
  }
 ],
 "metadata": {
  "kernelspec": {
   "display_name": "Python 3",
   "language": "python",
   "name": "python3"
  },
  "language_info": {
   "codemirror_mode": {
    "name": "ipython",
    "version": 2
   },
   "file_extension": ".py",
   "mimetype": "text/x-python",
   "name": "python",
   "nbconvert_exporter": "python",
   "pygments_lexer": "ipython2",
   "version": "2.7.6"
  }
 },
 "nbformat": 4,
 "nbformat_minor": 5
}
