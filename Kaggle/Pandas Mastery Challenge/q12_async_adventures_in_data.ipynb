{
 "cells": [
  {
   "metadata": {},
   "cell_type": "markdown",
   "source": [
    "Q12 - Async Adventures in Data\n",
    "\n",
    "Question: Welcome to Async Adventures in Data!\n",
    "You are given a dataset of magical quests undertaken by various whimsical characters.\n",
    "Each character can perform multiple quests, and each quest has different stages.\n",
    "Your task is to perform asynchronous data manipulation to answer the following questions:\n",
    "\n",
    "- Count the total number of quests each character has completed.\n",
    "- Calculate the average number of stages per quest for each character.\n",
    "- Identify the character with the highest average quest duration.\n",
    "- Determine the most common quest type for each character.\n",
    "- Find the character with the most diverse quest portfolio (i.e., highest number of unique quest types).\n",
    "\n",
    "Datasets:\n",
    "\n",
    "magical_quests: Contains columns (character_id, character_name, quests), where quests is a list of dictionaries with keys (quest_id, quest_type, stages, duration)."
   ],
   "id": "a47a350999fd7c86"
  },
  {
   "metadata": {},
   "cell_type": "code",
   "source": [
    "import pandas as pd\n",
    "import numpy as np\n",
    "import json\n",
    "\n",
    "# Seed for reproducibility\n",
    "np.random.seed(808)\n",
    "\n",
    "# Generate synthetic data\n",
    "character_ids = np.arange(1, 11)\n",
    "character_names = ['Frodo', 'Gandalf', 'Hermione', 'Legolas', 'Bilbo', 'Galadriel', 'Dumbledore', 'Gimli', 'Harry', 'Aragorn']\n",
    "quest_types = ['Treasure Hunt', 'Dragon Slaying', 'Potion Making', 'Spell Casting', 'Rescue Mission']\n",
    "stage_options = np.arange(1, 6)\n",
    "duration_options = np.arange(1, 101)\n",
    "\n",
    "data = []\n",
    "for character_id, character_name in zip(character_ids, character_names):\n",
    "    num_quests = np.random.randint(5, 11)\n",
    "    quests = []\n",
    "    for _ in range(num_quests):\n",
    "        quest_id = int(np.random.randint(1, 1001))\n",
    "        quest_type = np.random.choice(quest_types)\n",
    "        stages = int(np.random.choice(stage_options))\n",
    "        duration = int(np.random.choice(duration_options))\n",
    "        quests.append({\n",
    "            'quest_id': quest_id,\n",
    "            'quest_type': quest_type,\n",
    "            'stages': stages,\n",
    "            'duration': duration\n",
    "        })\n",
    "    data.append([character_id, character_name, json.dumps(quests)])\n",
    "\n",
    "# Create DataFrame\n",
    "magical_quests = pd.DataFrame(data, columns=['character_id', 'character_name', 'quests'])\n",
    "\n",
    "# Display the dataset\n",
    "magical_quests.head(10)"
   ],
   "id": "c0e8dd083a194ccb",
   "outputs": [],
   "execution_count": null
  },
  {
   "metadata": {},
   "cell_type": "code",
   "source": [
    "# Count the total number of quests each character has completed.\n",
    "magical_quests['total_quests'] = magical_quests['quests'].apply(lambda x: len(json.loads(x)))\n",
    "magical_quests[['character_name', 'total_quests']]"
   ],
   "id": "47729a4e8c00a273",
   "outputs": [],
   "execution_count": null
  },
  {
   "metadata": {},
   "cell_type": "code",
   "source": [
    "# Calculate the average number of stages per quest for each character\n",
    "magical_quests['avg_stages'] = magical_quests['quests'].apply(lambda x: pd.DataFrame(json.loads(x))['stages'].mean())\n",
    "magical_quests[['character_name', 'avg_stages']]"
   ],
   "id": "da38352fbfe0a92c",
   "outputs": [],
   "execution_count": null
  },
  {
   "metadata": {},
   "cell_type": "code",
   "source": [
    "# Identify the character with the highest average quest duration\n",
    "magical_quests['avg_duration'] = magical_quests['quests'].apply(lambda x: pd.DataFrame(json.loads(x))['duration'].mean())\n",
    "character_longest_quest = magical_quests.loc[magical_quests['avg_duration'].idxmax()]\n",
    "character_longest_quest"
   ],
   "id": "162127141b73b287",
   "outputs": [],
   "execution_count": null
  },
  {
   "metadata": {},
   "cell_type": "code",
   "source": [
    "# Determine the most common quest type for each character\n",
    "def most_common_quest_type(quests_json):\n",
    "    quests_df = pd.DataFrame(json.loads(quests_json))\n",
    "    return quests_df['quest_type'].mode().iloc[0]\n",
    "\n",
    "magical_quests['most_common_quest_type'] = magical_quests['quests'].apply(most_common_quest_type)\n",
    "magical_quests[['character_name', 'most_common_quest_type']]"
   ],
   "id": "4657bf0c8d18e8f8",
   "outputs": [],
   "execution_count": null
  },
  {
   "metadata": {},
   "cell_type": "code",
   "source": [
    "# Find the character with the most diverse quest portfolio (i.e., highest number of unique quest types)\n",
    "def unique_quest_types(quest_json):\n",
    "    quests_df = pd.DataFrame(json.loads(quest_json))\n",
    "    return quests_df['quest_type'].nunique()\n",
    "\n",
    "magical_quests['unique_quests_type'] = magical_quests['quests'].apply(unique_quest_types)\n",
    "character_diverse_quests = magical_quests.loc[magical_quests['unique_quests_type'].idxmax()]\n",
    "character_diverse_quests[['character_name', 'unique_quests_type']]"
   ],
   "id": "7795181d37ddbca0",
   "outputs": [],
   "execution_count": null
  },
  {
   "metadata": {},
   "cell_type": "code",
   "source": "",
   "id": "55b26fb7e5f02b65",
   "outputs": [],
   "execution_count": null
  }
 ],
 "metadata": {
  "kernelspec": {
   "display_name": "Python 3",
   "language": "python",
   "name": "python3"
  },
  "language_info": {
   "codemirror_mode": {
    "name": "ipython",
    "version": 2
   },
   "file_extension": ".py",
   "mimetype": "text/x-python",
   "name": "python",
   "nbconvert_exporter": "python",
   "pygments_lexer": "ipython2",
   "version": "2.7.6"
  }
 },
 "nbformat": 4,
 "nbformat_minor": 5
}
