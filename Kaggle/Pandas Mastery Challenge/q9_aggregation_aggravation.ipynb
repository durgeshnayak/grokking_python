{
 "cells": [
  {
   "metadata": {},
   "cell_type": "markdown",
   "source": [
    "Q9 - Aggregation Aggravation\n",
    "\n",
    "Question: Welcome to Aggregation Aggravation!\n",
    "You are given a dataset of enchanted items and their properties.\n",
    "Each item has multiple properties, and you need to perform various aggregations to answer the following questions:\n",
    "\n",
    "- Calculate the total weight and total value of items for each item type.\n",
    "- Identify the item type with the highest average value.\n",
    "- Determine the item with the highest weight in each item type.\n",
    "- Calculate the sum, mean, and standard deviation of the value of items for each item type.\n",
    "- Find the top 3 most common properties across all items.\n",
    "\n",
    "Datasets:\n",
    "\n",
    "enchanted_items: Contains columns (item_id, item_type, item_name, weight, value, properties)."
   ],
   "id": "7cf89d1dd969485a"
  },
  {
   "metadata": {},
   "cell_type": "code",
   "source": [
    "import pandas as pd\n",
    "import numpy as np\n",
    "\n",
    "# Seed for reproducibility\n",
    "np.random.seed(505)\n",
    "\n",
    "# Generate synthetic data\n",
    "item_ids = np.arange(1, 101)\n",
    "item_types = ['Magic Wand', 'Potion Bottle', 'Enchanted Amulet', 'Flying Carpet', 'Invisibility Cloak']\n",
    "item_names = ['Wand of Wonders', 'Bottle of Bliss', 'Amulet of Agility', 'Carpet of Comfort', 'Cloak of Concealment']\n",
    "weight_options = np.arange(1, 11)\n",
    "value_options = np.arange(100, 1001)\n",
    "properties_options = ['Glows in the Dark', 'Indestructible', 'Floats on Water', 'Grants Invisibility', 'Sings Softly']\n",
    "\n",
    "data = []\n",
    "for item_id in item_ids:\n",
    "    item_type = np.random.choice(item_types)\n",
    "    item_name = np.random.choice(item_names)\n",
    "    weight = np.random.choice(weight_options)\n",
    "    value = np.random.choice(value_options)\n",
    "    properties = ', '.join(np.random.choice(properties_options, np.random.randint(1, 4), replace=False))\n",
    "    data.append([item_id, item_type, item_name, weight, value, properties])\n",
    "\n",
    "# Create DataFrame\n",
    "enchanted_items = pd.DataFrame(data, columns=['item_id', 'item_type', 'item_name', 'weight', 'value', 'properties'])\n",
    "\n",
    "# Display the dataset\n",
    "enchanted_items.head()"
   ],
   "id": "f256622a3b16e039",
   "outputs": [],
   "execution_count": null
  },
  {
   "metadata": {},
   "cell_type": "code",
   "source": [
    "# Calculate the total weight and total value of items for each item type.\n",
    "total_weight_item = enchanted_items.groupby('item_type')['weight'].sum().reset_index()\n",
    "total_weight_item"
   ],
   "id": "762be4b1ac6dc615",
   "outputs": [],
   "execution_count": null
  },
  {
   "metadata": {},
   "cell_type": "code",
   "source": [
    "total_value_item = enchanted_items.groupby('item_type')['value'].sum().reset_index()\n",
    "total_value_item"
   ],
   "id": "2d2e56f5f9196791",
   "outputs": [],
   "execution_count": null
  },
  {
   "metadata": {},
   "cell_type": "code",
   "source": [
    "# Identify the item type with the highest average value.\n",
    "average_value_item = enchanted_items.groupby('item_type')['value'].mean().reset_index()\n",
    "highest_value_item = average_value_item.loc[average_value_item['value'].idxmax()]\n",
    "highest_value_item"
   ],
   "id": "668e718e997b8796",
   "outputs": [],
   "execution_count": null
  },
  {
   "metadata": {},
   "cell_type": "code",
   "source": [
    "# Determine the item with the highest weight in each item type\n",
    "max_weight_per_type = enchanted_items.loc[enchanted_items.groupby(['item_type'])['weight'].idxmax()].reset_index(drop=True)\n",
    "max_weight_per_type[['item_type', 'item_name', 'weight']]"
   ],
   "id": "85ca4ac280b7db79",
   "outputs": [],
   "execution_count": null
  },
  {
   "metadata": {},
   "cell_type": "code",
   "source": [
    "# Calculate the sum, mean, and standard deviation of the value of items for each item type\n",
    "stats_value_item_type = enchanted_items.groupby('item_type')['value'].aggregate(['sum', 'mean', 'std']).reset_index()\n",
    "stats_value_item_type"
   ],
   "id": "b8d04ea4e15e3f06",
   "outputs": [],
   "execution_count": null
  },
  {
   "metadata": {},
   "cell_type": "code",
   "source": [
    "# Find the top 3 most common properties across all items\n",
    "properties_split = enchanted_items['properties'].str.split(', ', expand=True).stack()\n",
    "properties_count = properties_split.value_counts().head(3)\n",
    "properties_count"
   ],
   "id": "d1f3088474dd3244",
   "outputs": [],
   "execution_count": null
  }
 ],
 "metadata": {
  "kernelspec": {
   "display_name": "Python 3",
   "language": "python",
   "name": "python3"
  },
  "language_info": {
   "codemirror_mode": {
    "name": "ipython",
    "version": 2
   },
   "file_extension": ".py",
   "mimetype": "text/x-python",
   "name": "python",
   "nbconvert_exporter": "python",
   "pygments_lexer": "ipython2",
   "version": "2.7.6"
  }
 },
 "nbformat": 4,
 "nbformat_minor": 5
}
