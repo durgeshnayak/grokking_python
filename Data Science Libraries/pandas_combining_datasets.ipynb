{
 "cells": [
  {
   "cell_type": "code",
   "execution_count": null,
   "id": "f2cf85a5-8d1d-4aa0-87fd-13ef3d79d542",
   "metadata": {},
   "outputs": [],
   "source": [
    "import numpy as np\n",
    "import pandas as pd"
   ]
  },
  {
   "cell_type": "markdown",
   "id": "b5e4092b-b261-450a-a63b-87a55ae04977",
   "metadata": {},
   "source": [
    "Helper Functions"
   ]
  },
  {
   "cell_type": "code",
   "execution_count": null,
   "id": "dee8f89d-c084-4ae8-8929-dcf0e354866b",
   "metadata": {},
   "outputs": [],
   "source": [
    "def make_df(cols, ind):\n",
    "    \"\"\"Quickly make a DataFrame\"\"\"\n",
    "    data = {c: [str(c) + str(i) for i in ind]\n",
    "    for c in cols}\n",
    "    return pd.DataFrame(data, ind)"
   ]
  },
  {
   "cell_type": "code",
   "execution_count": null,
   "id": "d8f08478-e30f-49fb-a420-32055c3a912e",
   "metadata": {},
   "outputs": [],
   "source": [
    "make_df('ABC', range(3))"
   ]
  },
  {
   "cell_type": "code",
   "execution_count": null,
   "id": "b88ead33-6242-482e-9479-f16790cd8081",
   "metadata": {},
   "outputs": [],
   "source": [
    "class display(object):\n",
    "    \"\"\"Display HTML representation of multiple objects\"\"\"\n",
    "    template = \"\"\"<div style=\"float: left; padding: 10px;\">\n",
    "    <p style='font-family:\"Courier New\", Courier, monospace'>{0}{1}\n",
    "    \"\"\"\n",
    "    def __init__(self, *args):\n",
    "        self.args = args\n",
    "    def _repr_html_(self):\n",
    "        return '\\n'.join(self.template.format(a, eval(a)._repr_html_())\n",
    "            for a in self.args)\n",
    "    def __repr__(self):\n",
    "        return '\\n\\n'.join(a + '\\n' + repr(eval(a))\n",
    "            for a in self.args)"
   ]
  },
  {
   "cell_type": "code",
   "execution_count": null,
   "id": "55ec3c4d-f1d0-4fec-943e-633ab093b17a",
   "metadata": {},
   "outputs": [],
   "source": [
    "ser1 = pd.Series(['A', 'B', 'C'], index=[1, 2, 3])\n",
    "ser2 = pd.Series(['D', 'E', 'F'], index=[4, 5, 6])\n",
    "pd.concat([ser1, ser2])"
   ]
  },
  {
   "cell_type": "code",
   "execution_count": null,
   "id": "105fa29e-8e0d-4c36-b0e2-9a5d942c0fa0",
   "metadata": {},
   "outputs": [],
   "source": [
    "df1 = make_df('AB', [1, 2])\n",
    "df2 = make_df('CD', [3, 4])\n",
    "display('df1', 'df2', 'pd.concat([df1, df2])') # default behavior is to concatenate row-wise within the DataFrame"
   ]
  },
  {
   "cell_type": "code",
   "execution_count": null,
   "id": "5dacd88b-bef1-4c61-bf43-9e43323480a1",
   "metadata": {},
   "outputs": [],
   "source": [
    "df3 = make_df('AB', [1, 2])\n",
    "df4 = make_df('CD', [1, 2])\n",
    "display('df3', 'df4', \"pd.concat([df3, df4], axis='columns')\")"
   ]
  },
  {
   "cell_type": "markdown",
   "id": "f506b7b1-926e-4d53-8979-12332516b0f5",
   "metadata": {},
   "source": [
    "Duplicate Indices"
   ]
  },
  {
   "cell_type": "code",
   "execution_count": null,
   "id": "34706a3b-c85e-42ef-9189-da824bf4bdba",
   "metadata": {},
   "outputs": [],
   "source": [
    "x = make_df('AB', [0, 1])\n",
    "y = make_df('AB', [2, 3])\n",
    "y.index = x.index\n",
    "display('x', 'y', 'pd.concat([x, y])') # DataFrame preserves duplicate indices after concatenation"
   ]
  },
  {
   "cell_type": "code",
   "execution_count": null,
   "id": "d8a70194-13ca-4145-84be-14e21682624d",
   "metadata": {},
   "outputs": [],
   "source": [
    "# Treat repeated indices as an error:\n",
    "try:\n",
    "    pd.concat([x, y], verify_integrity=True)\n",
    "except ValueError as e:\n",
    "    print(\"Value Error:\", e)"
   ]
  },
  {
   "cell_type": "code",
   "execution_count": null,
   "id": "8669c3ba-6723-4f90-84c5-ea331d89b5af",
   "metadata": {},
   "outputs": [],
   "source": [
    "# Ignore the index\n",
    "display('x', 'y', 'pd.concat([x, y], ignore_index=True)')"
   ]
  },
  {
   "cell_type": "code",
   "execution_count": null,
   "id": "cf17717b-36a3-4e89-a8be-a10142426d7b",
   "metadata": {},
   "outputs": [],
   "source": [
    "# Adding multiindex keys\n",
    "display('x', 'y', \"pd.concat([x, y], keys=['x', 'y'])\")"
   ]
  },
  {
   "cell_type": "markdown",
   "id": "a6d2fd61-f371-44fa-a27e-d6ea75c2f6a0",
   "metadata": {},
   "source": [
    "Concatenation with Joins"
   ]
  },
  {
   "cell_type": "code",
   "execution_count": null,
   "id": "53c898f0-8751-4be0-a72a-68c51459161f",
   "metadata": {},
   "outputs": [],
   "source": [
    "df5 = make_df('ABC', [1, 2])\n",
    "df6 = make_df('BCD', [3, 4])\n",
    "display('df5', 'df6', 'pd.concat([df5, df6])')"
   ]
  },
  {
   "cell_type": "code",
   "execution_count": null,
   "id": "2cbc0be2-4e71-448d-9f75-975d623bdf03",
   "metadata": {},
   "outputs": [],
   "source": [
    "display('df5', 'df6', \"pd.concat([df5, df6], join='inner')\")"
   ]
  },
  {
   "cell_type": "code",
   "execution_count": null,
   "id": "620dd0c2-016b-4cd5-92be-d52a84eb2831",
   "metadata": {},
   "outputs": [],
   "source": [
    "pd.concat([df5, df6.reindex(df5.columns, axis=1)])"
   ]
  },
  {
   "cell_type": "markdown",
   "id": "b448fd3f-153d-4eae-b502-b623646cb482",
   "metadata": {},
   "source": [
    "The append method"
   ]
  },
  {
   "cell_type": "code",
   "execution_count": null,
   "id": "fb1dea5a-7d8c-4b2d-8f3f-a22b26954835",
   "metadata": {},
   "outputs": [],
   "source": [
    "# display('df1', 'df2', 'df1.append(df2)') --> probably deprecated"
   ]
  },
  {
   "cell_type": "markdown",
   "id": "ca199e87-dd23-4eec-83a4-27f7d857293f",
   "metadata": {},
   "source": [
    "Types of Joins"
   ]
  },
  {
   "cell_type": "code",
   "execution_count": null,
   "id": "3c2c4b5c-bc18-41f3-a021-66f0bf02d0ed",
   "metadata": {},
   "outputs": [],
   "source": [
    "df1 = pd.DataFrame({'employee': ['Bob', 'Jake', 'Lisa', 'Sue'],\n",
    "                    'group': ['Accounting', 'Engineering', 'Engineering', 'HR']})\n",
    "df2 = pd.DataFrame({'employee': ['Lisa', 'Bob', 'Jake', 'Sue'],\n",
    "                    'hire_date': [2004, 2008, 2012, 2014]})\n",
    "display('df1', 'df2')"
   ]
  },
  {
   "cell_type": "code",
   "execution_count": null,
   "id": "2a4440ec-4dbd-4dda-be3f-0283454e5a54",
   "metadata": {},
   "outputs": [],
   "source": [
    "# one-to-one joins\n",
    "df3 = pd.merge(df1, df2)\n",
    "df3"
   ]
  },
  {
   "cell_type": "code",
   "execution_count": null,
   "id": "26ab7651-f729-4b65-8a0c-ffbce244c329",
   "metadata": {},
   "outputs": [],
   "source": [
    "# many-to-one joins\n",
    "df4 = pd.DataFrame({'group': ['Accounting', 'Engineering', 'HR'],\n",
    "                    'supervisor': ['Carly', 'Guido', 'Steve']})\n",
    "display('df3', 'df4', 'pd.merge(df3, df4)')"
   ]
  },
  {
   "cell_type": "code",
   "execution_count": null,
   "id": "35940371-5e69-4268-b935-dee194c39b93",
   "metadata": {},
   "outputs": [],
   "source": [
    "# many-to-many joins\n",
    "df5 = pd.DataFrame({'group': ['Accounting', 'Accounting', 'Engineering', 'Engineering', 'HR', 'HR'],\n",
    "                    'skills': ['math', 'spreadsheets', 'software', 'math', 'spreadsheets', 'organization']})\n",
    "display('df1', 'df5', \"pd.merge(df1, df5)\")                     "
   ]
  },
  {
   "cell_type": "markdown",
   "id": "47d13aef-d486-4c4d-b05b-aad7257b92c9",
   "metadata": {},
   "source": [
    "Specification of the Merge Key"
   ]
  },
  {
   "cell_type": "code",
   "execution_count": null,
   "id": "0e768d64",
   "metadata": {},
   "outputs": [],
   "source": [
    "# the on keyword\n",
    "display('df1', 'df2', \"pd.merge(df1, df2, on='employee')\") # this option works only if both the left and right DataFrames have the specified column name"
   ]
  },
  {
   "cell_type": "code",
   "execution_count": null,
   "id": "5974982d",
   "metadata": {},
   "outputs": [],
   "source": [
    "# the left_on and right_on keywords\n",
    "df6 = pd.DataFrame({'name': ['Bob', 'Jake', 'Lisa', 'Sue'],\n",
    "                    'salary': [70000, 80000, 120000, 90000]})\n",
    "display('df1', 'df6', \"pd.merge(df1, df6, left_on='employee', right_on='name').drop('name', axis=1)\")"
   ]
  },
  {
   "cell_type": "code",
   "execution_count": null,
   "id": "597f96bb",
   "metadata": {},
   "outputs": [],
   "source": [
    "display('df1', 'df2')"
   ]
  },
  {
   "cell_type": "code",
   "execution_count": null,
   "id": "3b6185f8",
   "metadata": {},
   "outputs": [],
   "source": [
    "df1a = df1.set_index('employee')\n",
    "df2a = df2.set_index('employee')\n",
    "display('df1a', 'df2a')"
   ]
  },
  {
   "cell_type": "code",
   "execution_count": null,
   "id": "bd8c8172",
   "metadata": {},
   "outputs": [],
   "source": [
    "# the left_index and right_index keywords\n",
    "display('df1a', 'df2a', \"pd.merge(df1a, df2a, left_index=True, right_index=True)\")"
   ]
  },
  {
   "cell_type": "code",
   "execution_count": null,
   "id": "04e8437a",
   "metadata": {},
   "outputs": [],
   "source": [
    "# the join method of the DataFrame\n",
    "df1a.join(df2a)"
   ]
  },
  {
   "cell_type": "code",
   "execution_count": null,
   "id": "04642fa9",
   "metadata": {},
   "outputs": [],
   "source": [
    "# mixing left_index with right_on OR right_index with left_on\n",
    "display('df1a', 'df6', \"pd.merge(df1a, df6, left_index=True, right_on='name')\")"
   ]
  },
  {
   "cell_type": "markdown",
   "id": "57e05d67",
   "metadata": {},
   "source": [
    "Set Arithematic for Joins"
   ]
  },
  {
   "cell_type": "code",
   "execution_count": null,
   "id": "d22102cb",
   "metadata": {},
   "outputs": [],
   "source": [
    "df7 = pd.DataFrame({'name': ['Peter', 'Paul', 'Mary'],\n",
    "                    'food': ['fish', 'beans', 'bread']},\n",
    "                    columns=['name', 'food'])\n",
    "df8 = pd.DataFrame({'name': ['Mary', 'Joseph'],\n",
    "                    'drink': ['wine', 'beer']},\n",
    "                    columns=['name', 'drink'])\n",
    "display('df7', 'df8', 'pd.merge(df7, df8)') # the result of this merge will contain the intersection of the two sets of inputs"
   ]
  },
  {
   "cell_type": "code",
   "execution_count": null,
   "id": "2ed5f1e2",
   "metadata": {},
   "outputs": [],
   "source": [
    "# inner join\n",
    "pd.merge(df7, df8, how='inner')"
   ]
  },
  {
   "cell_type": "code",
   "execution_count": null,
   "id": "6550fc24",
   "metadata": {},
   "outputs": [],
   "source": [
    "# outer join\n",
    "pd.merge(df7, df8, how='outer') # the result of this merge will contain the union of the two sets of inputs with NaN for missing values in each set of inputs"
   ]
  },
  {
   "cell_type": "code",
   "execution_count": null,
   "id": "5c40889c",
   "metadata": {},
   "outputs": [],
   "source": [
    "# left join\n",
    "pd.merge(df7, df8, how='left') # the result of this merge will contain the intersection of the two sets of inputs along with remaining entries from the left input with NaN for missing values"
   ]
  },
  {
   "cell_type": "code",
   "execution_count": null,
   "id": "8fb51266",
   "metadata": {},
   "outputs": [],
   "source": [
    "# right join\n",
    "pd.merge(df7, df8, how='right') # the result of this merge will contain the intersection of the two sets of inputs along with remaining entries from the right input with NaN for missing values"
   ]
  },
  {
   "cell_type": "markdown",
   "id": "edbbf597",
   "metadata": {},
   "source": [
    "Overlapping Column Names: The suffixes keyword"
   ]
  },
  {
   "cell_type": "code",
   "execution_count": null,
   "id": "8110e2a9",
   "metadata": {},
   "outputs": [],
   "source": [
    "df9 = pd.DataFrame({'name': ['Bob', 'Jake', 'Lisa', 'Sue'],\n",
    "                    'rank': [1, 2, 3, 4]})\n",
    "df10 = pd.DataFrame({'name': ['Jake', 'Lisa', 'Bob', 'Sue'],\n",
    "                     'rank': [3, 4, 2, 1]})\n",
    "pd.merge(df9, df10, on='name', suffixes=['_L', '_R'])"
   ]
  },
  {
   "cell_type": "code",
   "execution_count": null,
   "id": "e909d24e",
   "metadata": {},
   "outputs": [],
   "source": []
  }
 ],
 "metadata": {
  "kernelspec": {
   "display_name": "base",
   "language": "python",
   "name": "python3"
  },
  "language_info": {
   "codemirror_mode": {
    "name": "ipython",
    "version": 3
   },
   "file_extension": ".py",
   "mimetype": "text/x-python",
   "name": "python",
   "nbconvert_exporter": "python",
   "pygments_lexer": "ipython3",
   "version": "3.12.7"
  }
 },
 "nbformat": 4,
 "nbformat_minor": 5
}
