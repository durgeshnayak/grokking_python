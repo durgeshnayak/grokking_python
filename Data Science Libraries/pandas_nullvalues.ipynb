{
 "cells": [
  {
   "cell_type": "code",
   "id": "initial_id",
   "metadata": {
    "collapsed": true
   },
   "source": [
    "import numpy as np\n",
    "import pandas as pd"
   ],
   "outputs": [],
   "execution_count": null
  },
  {
   "metadata": {},
   "cell_type": "markdown",
   "source": "Detecting Null Values",
   "id": "d784be3aea7c9326"
  },
  {
   "metadata": {},
   "cell_type": "code",
   "source": [
    " data = pd.Series([1, np.nan, 'hello', None])\n",
    " data.isnull()"
   ],
   "id": "18b5f0a1fb901b46",
   "outputs": [],
   "execution_count": null
  },
  {
   "metadata": {},
   "cell_type": "code",
   "source": "data[data.notnull()]",
   "id": "dbefaae3988a973d",
   "outputs": [],
   "execution_count": null
  },
  {
   "metadata": {},
   "cell_type": "markdown",
   "source": "Dropping Null values",
   "id": "ef4e9aeb35f0417e"
  },
  {
   "metadata": {},
   "cell_type": "code",
   "source": "data.dropna()",
   "id": "775f49d16b9c7ff7",
   "outputs": [],
   "execution_count": null
  },
  {
   "metadata": {},
   "cell_type": "markdown",
   "source": [
    "We cannot drop single values from a DataFrame; we can only drop entire rows or columns.\n",
    "Depending on the application, you might want one or the other, so dropna includes a number of options for a DataFrame.\n",
    "By default, dropna will drop all rows in which any null value is present:"
   ],
   "id": "d03208166b5d2cb1"
  },
  {
   "metadata": {},
   "cell_type": "code",
   "source": [
    "df = pd.DataFrame([[1, np.nan, 2],\n",
    "                   [2, 3, 5],\n",
    "                   [np.nan, 4, 6]])\n",
    "df.dropna()"
   ],
   "id": "4b89a95d5a5c6b6c",
   "outputs": [],
   "execution_count": null
  },
  {
   "metadata": {},
   "cell_type": "markdown",
   "source": "Alternatively, you can drop NA values along a different axis. Using axis=1 or axis='columns' drops all columns containing a null value:",
   "id": "2a4b17e94522451d"
  },
  {
   "metadata": {},
   "cell_type": "code",
   "source": [
    "df = pd.DataFrame([[1, np.nan, 2],\n",
    "                   [2, 3, 5],\n",
    "                   [np.nan, 4, 6]])\n",
    "df.dropna(axis=1)"
   ],
   "id": "df3e4697ada7a66c",
   "outputs": [],
   "execution_count": null
  },
  {
   "metadata": {},
   "cell_type": "markdown",
   "source": [
    "But this drops some good data as well; you might rather be interested in dropping rows or columns with all NA values, or a majority of NA values. This can be specified\n",
    "through the 'how' or 'thresh' parameters, which allow fine control of the number of nulls to allow through."
   ],
   "id": "de966e06409ac803"
  },
  {
   "metadata": {},
   "cell_type": "code",
   "source": [
    "df = pd.DataFrame([[1, np.nan, 2],\n",
    "                   [2, 3, 5],\n",
    "                   [np.nan, 4, 6]])\n",
    "df[3] = np.nan\n",
    "df.dropna(axis='columns', how='all')"
   ],
   "id": "1cd095856a0add74",
   "outputs": [],
   "execution_count": null
  },
  {
   "metadata": {},
   "cell_type": "markdown",
   "source": "For finer-grained control, the thresh parameter lets you specify a minimum number of non-null values for the row/column to be kept:",
   "id": "fc8e192f114358a8"
  },
  {
   "metadata": {},
   "cell_type": "code",
   "source": [
    "df = pd.DataFrame([[1, np.nan, 2],\n",
    "                   [2, 3, 5],\n",
    "                   [np.nan, 4, 6]])\n",
    "df[3] = np.nan\n",
    "df.dropna(axis='rows', thresh=3)"
   ],
   "id": "3821a9052c6b736d",
   "outputs": [],
   "execution_count": null
  },
  {
   "metadata": {},
   "cell_type": "markdown",
   "source": "Filling Null values",
   "id": "ea75a9e6942f03ed"
  },
  {
   "metadata": {},
   "cell_type": "code",
   "source": [
    "data = pd.Series([1, np.nan, 2, None, 3], index=list('abcde'), dtype='Int32')\n",
    "data"
   ],
   "id": "b68d61625613a635",
   "outputs": [],
   "execution_count": null
  },
  {
   "metadata": {},
   "cell_type": "code",
   "source": "data.fillna(0)",
   "id": "65acfc724444db65",
   "outputs": [],
   "execution_count": null
  },
  {
   "metadata": {},
   "cell_type": "code",
   "source": [
    "data = pd.Series([1, np.nan, 2, None, 3], index=list('abcde'), dtype='Int32')\n",
    "data.fillna(method=\"ffill\")"
   ],
   "id": "1c8cec6444c704c2",
   "outputs": [],
   "execution_count": null
  },
  {
   "metadata": {},
   "cell_type": "code",
   "source": [
    "data = pd.Series([1, np.nan, 2, None, 3], index=list('abcde'), dtype='Int32')\n",
    "data.fillna(method=\"bfill\")"
   ],
   "id": "7eb7015ab69ac0ea",
   "outputs": [],
   "execution_count": null
  },
  {
   "metadata": {},
   "cell_type": "code",
   "source": [
    "# in case of a DataFrame we can also specify an axis along which fills should take place\n",
    "df = pd.DataFrame([[1, np.nan, 2],\n",
    "                   [2, 3, 5],\n",
    "                   [np.nan, 4, 6]])\n",
    "df.fillna(axis=1, method=\"ffill\")"
   ],
   "id": "3e048279228e8e55",
   "outputs": [],
   "execution_count": null
  }
 ],
 "metadata": {
  "kernelspec": {
   "display_name": "Python 3",
   "language": "python",
   "name": "python3"
  },
  "language_info": {
   "codemirror_mode": {
    "name": "ipython",
    "version": 2
   },
   "file_extension": ".py",
   "mimetype": "text/x-python",
   "name": "python",
   "nbconvert_exporter": "python",
   "pygments_lexer": "ipython2",
   "version": "2.7.6"
  }
 },
 "nbformat": 4,
 "nbformat_minor": 5
}
