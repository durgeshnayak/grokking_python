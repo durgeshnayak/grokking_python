{
 "cells": [
  {
   "cell_type": "code",
   "id": "initial_id",
   "metadata": {
    "collapsed": true
   },
   "source": [
    "import numpy as np\n",
    "import pandas as pd"
   ],
   "outputs": [],
   "execution_count": null
  },
  {
   "metadata": {},
   "cell_type": "markdown",
   "source": "UFuncs - Index Preservation",
   "id": "d3ad469beffd643a"
  },
  {
   "metadata": {},
   "cell_type": "code",
   "source": [
    "rng = np.random.default_rng(25)\n",
    "ser = pd.Series(rng.integers(0, 10, 4))\n",
    "ser"
   ],
   "id": "3114c45a8c40fed6",
   "outputs": [],
   "execution_count": null
  },
  {
   "metadata": {},
   "cell_type": "code",
   "source": [
    "df = pd.DataFrame(rng.integers(0, 10, (3, 4)), columns=['A', 'B', 'C', 'D'])\n",
    "df"
   ],
   "id": "fce922d7dc4bf647",
   "outputs": [],
   "execution_count": null
  },
  {
   "metadata": {},
   "cell_type": "code",
   "source": "np.exp(ser)",
   "id": "5ffb6fde4f4903e7",
   "outputs": [],
   "execution_count": null
  },
  {
   "metadata": {},
   "cell_type": "code",
   "source": "np.sin(df * np.pi / 4)",
   "id": "1c9e8b7e1fb88c9",
   "outputs": [],
   "execution_count": null
  },
  {
   "metadata": {},
   "cell_type": "markdown",
   "source": "UFuncs - Index Alignment",
   "id": "fae583439d8884cb"
  },
  {
   "metadata": {},
   "cell_type": "markdown",
   "source": "Index alignment in Series",
   "id": "ce85df0fd48caefb"
  },
  {
   "metadata": {},
   "cell_type": "code",
   "source": [
    "area = pd.Series({'California': 423967,\n",
    "             'Texas': 695662,\n",
    "             'New York': 141297,\n",
    "             'Pennsylvania': 119280})\n",
    "population = pd.Series({'California': 39538223,\n",
    "                   'Texas': 29145505,\n",
    "                   'Florida': 21538187,\n",
    "                   'New York': 20201249,\n",
    "                       })\n",
    "population / area"
   ],
   "id": "cb4ceea78b06491b",
   "outputs": [],
   "execution_count": null
  },
  {
   "metadata": {},
   "cell_type": "code",
   "source": "area.index.union(population.index)",
   "id": "370bb7f9661b7c34",
   "outputs": [],
   "execution_count": null
  },
  {
   "metadata": {},
   "cell_type": "code",
   "source": "population.divide(area, fill_value=1)",
   "id": "e40c277febd96cb1",
   "outputs": [],
   "execution_count": null
  },
  {
   "metadata": {},
   "cell_type": "markdown",
   "source": "Index alignment in DataFrames",
   "id": "f1bda4799639542d"
  },
  {
   "metadata": {},
   "cell_type": "code",
   "source": [
    "A = pd.DataFrame(rng.integers(0, 20, (2, 2)), columns=['a', 'b'])\n",
    "A"
   ],
   "id": "d3fa513b7b57af3a",
   "outputs": [],
   "execution_count": null
  },
  {
   "metadata": {},
   "cell_type": "code",
   "source": [
    "B = pd.DataFrame(rng.integers(0, 20, (3, 3)), columns=['a', 'b', 'c'])\n",
    "B"
   ],
   "id": "7c1b73ee390ef126",
   "outputs": [],
   "execution_count": null
  },
  {
   "metadata": {},
   "cell_type": "code",
   "source": "A + B",
   "id": "b86a4b18a201118b",
   "outputs": [],
   "execution_count": null
  },
  {
   "metadata": {},
   "cell_type": "code",
   "source": "A.add(B, fill_value=A.values.mean())",
   "id": "59e97eba5273063e",
   "outputs": [],
   "execution_count": null
  },
  {
   "metadata": {},
   "cell_type": "markdown",
   "source": "Operations between DataFrame and Series",
   "id": "a9f7d5de25c4149"
  },
  {
   "metadata": {},
   "cell_type": "code",
   "source": [
    "A = rng.integers(10, size=(3, 4))\n",
    "A"
   ],
   "id": "c18130ec7c9769c8",
   "outputs": [],
   "execution_count": null
  },
  {
   "metadata": {},
   "cell_type": "code",
   "source": [
    "df = pd.DataFrame(A, columns=['Q', 'R', 'S', 'T'])\n",
    "df"
   ],
   "id": "11e3561ab90fc1bf",
   "outputs": [],
   "execution_count": null
  },
  {
   "metadata": {},
   "cell_type": "code",
   "source": "df - df.iloc[0]",
   "id": "2710582cfeb552ff",
   "outputs": [],
   "execution_count": null
  },
  {
   "metadata": {},
   "cell_type": "code",
   "source": "df.subtract(df['R'], axis=0)",
   "id": "6572d9e9c1574432",
   "outputs": [],
   "execution_count": null
  },
  {
   "metadata": {},
   "cell_type": "code",
   "source": [
    "halfrow = df.iloc[0, ::2]\n",
    "halfrow"
   ],
   "id": "4de3ba3a442d99d",
   "outputs": [],
   "execution_count": null
  },
  {
   "metadata": {},
   "cell_type": "code",
   "source": "df - halfrow",
   "id": "d1a04e5f3fabb60b",
   "outputs": [],
   "execution_count": null
  }
 ],
 "metadata": {
  "kernelspec": {
   "display_name": "Python 3",
   "language": "python",
   "name": "python3"
  },
  "language_info": {
   "codemirror_mode": {
    "name": "ipython",
    "version": 2
   },
   "file_extension": ".py",
   "mimetype": "text/x-python",
   "name": "python",
   "nbconvert_exporter": "python",
   "pygments_lexer": "ipython2",
   "version": "2.7.6"
  }
 },
 "nbformat": 4,
 "nbformat_minor": 5
}
