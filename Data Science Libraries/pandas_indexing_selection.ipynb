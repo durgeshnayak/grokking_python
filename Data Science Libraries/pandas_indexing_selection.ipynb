{
 "cells": [
  {
   "cell_type": "code",
   "execution_count": null,
   "id": "4bbca4fcc2a9236c",
   "metadata": {},
   "outputs": [],
   "source": [
    "import numpy as np\n",
    "import pandas as pd"
   ]
  },
  {
   "cell_type": "markdown",
   "id": "66f86b22ece649a9",
   "metadata": {},
   "source": [
    "Data Selection in Series"
   ]
  },
  {
   "cell_type": "markdown",
   "id": "77c1122350a11c89",
   "metadata": {},
   "source": [
    "Series as Dictionary"
   ]
  },
  {
   "cell_type": "code",
   "execution_count": null,
   "id": "aaa7513661578b5b",
   "metadata": {},
   "outputs": [],
   "source": [
    "data = pd.Series([0.25, 0.50, 0.75, 1.0], index=['a', 'b', 'c', 'd'])\n",
    "data"
   ]
  },
  {
   "cell_type": "code",
   "execution_count": null,
   "id": "44cdaf8585e8e4a4",
   "metadata": {},
   "outputs": [],
   "source": [
    "data['b']"
   ]
  },
  {
   "cell_type": "code",
   "execution_count": null,
   "id": "cd76394cdae83285",
   "metadata": {},
   "outputs": [],
   "source": [
    "'a' in data"
   ]
  },
  {
   "cell_type": "code",
   "execution_count": null,
   "id": "7964bd7c735c853f",
   "metadata": {},
   "outputs": [],
   "source": [
    "data.keys()"
   ]
  },
  {
   "cell_type": "code",
   "execution_count": null,
   "id": "434bf50a13d8214a",
   "metadata": {},
   "outputs": [],
   "source": [
    "list(data.items())"
   ]
  },
  {
   "cell_type": "code",
   "execution_count": null,
   "id": "eb8654cdb5e01006",
   "metadata": {},
   "outputs": [],
   "source": [
    "data['e'] = 1.25"
   ]
  },
  {
   "cell_type": "markdown",
   "id": "5cf9b346f6135282",
   "metadata": {},
   "source": [
    "Series as One-Dimensional Array"
   ]
  },
  {
   "cell_type": "code",
   "execution_count": null,
   "id": "6ae4c1ddba00b752",
   "metadata": {},
   "outputs": [],
   "source": [
    "# slicing by explicit index, final index is included\n",
    "data['a':'c']"
   ]
  },
  {
   "cell_type": "code",
   "execution_count": null,
   "id": "f02849cace581e02",
   "metadata": {},
   "outputs": [],
   "source": [
    "# slicing by implicit index, final index is excluded\n",
    "data[0:3]"
   ]
  },
  {
   "cell_type": "code",
   "execution_count": null,
   "id": "28c51c16a613588",
   "metadata": {},
   "outputs": [],
   "source": [
    "# masking\n",
    "data[(data > 0.3) & (data < 0.8)]"
   ]
  },
  {
   "cell_type": "code",
   "execution_count": null,
   "id": "da66d70ea582d7e2",
   "metadata": {},
   "outputs": [],
   "source": [
    "# fancy indexing\n",
    "data[['a', 'd']]"
   ]
  },
  {
   "cell_type": "markdown",
   "id": "a25bd28702d619f6",
   "metadata": {},
   "source": [
    "Indexers"
   ]
  },
  {
   "cell_type": "code",
   "execution_count": null,
   "id": "ea724abe9f41e296",
   "metadata": {},
   "outputs": [],
   "source": [
    "data = pd.Series(['a', 'b', 'c'], index=[1, 3, 5])\n",
    "data"
   ]
  },
  {
   "cell_type": "code",
   "execution_count": null,
   "id": "8c685836a210e2c6",
   "metadata": {},
   "outputs": [],
   "source": [
    "data[1] # uses explicit index"
   ]
  },
  {
   "cell_type": "code",
   "execution_count": null,
   "id": "f5bf973b43e49f03",
   "metadata": {},
   "outputs": [],
   "source": [
    "data[1:3] # uses implicit index"
   ]
  },
  {
   "cell_type": "code",
   "execution_count": null,
   "id": "a61c30176bd7b50b",
   "metadata": {},
   "outputs": [],
   "source": [
    "# loc allows indexing and slicing that always references the explicit index\n",
    "data.loc[1]"
   ]
  },
  {
   "cell_type": "code",
   "execution_count": null,
   "id": "fea72dac44d6cc0f",
   "metadata": {},
   "outputs": [],
   "source": [
    "data.loc[1:3]"
   ]
  },
  {
   "cell_type": "code",
   "execution_count": null,
   "id": "abb58553287093aa",
   "metadata": {},
   "outputs": [],
   "source": [
    "# iloc allows indexing and slicing that always references the implicit index\n",
    "data.iloc[1]"
   ]
  },
  {
   "cell_type": "code",
   "execution_count": null,
   "id": "4f02045d005d26a7",
   "metadata": {},
   "outputs": [],
   "source": [
    "data.iloc[1:3]"
   ]
  },
  {
   "cell_type": "markdown",
   "id": "cfa92098cd7f43a3",
   "metadata": {},
   "source": [
    "Data Selection in DataFrames"
   ]
  },
  {
   "cell_type": "markdown",
   "id": "34a16437673108ca",
   "metadata": {},
   "source": [
    "DataFrame as Dictionary"
   ]
  },
  {
   "cell_type": "code",
   "execution_count": null,
   "id": "5f364b982b4667f8",
   "metadata": {},
   "outputs": [],
   "source": [
    "area = pd.Series({'California': 423967,\n",
    "             'Texas': 695662,\n",
    "             'Florida': 170312,\n",
    "             'New York': 141297,\n",
    "             'Pennsylvania': 119280})\n",
    "pop = pd.Series({'California': 39538223,\n",
    "                   'Texas': 29145505,\n",
    "                   'Florida': 21538187,\n",
    "                   'New York': 20201249,\n",
    "                   'Pennsylvania': 13002700})\n",
    "data = pd.DataFrame({'area': area, 'pop': pop})\n",
    "data"
   ]
  },
  {
   "cell_type": "code",
   "execution_count": null,
   "id": "7c7e37db05a2287f",
   "metadata": {},
   "outputs": [],
   "source": [
    "data['area']"
   ]
  },
  {
   "cell_type": "code",
   "execution_count": null,
   "id": "5d0970c0add93232",
   "metadata": {},
   "outputs": [],
   "source": [
    "data.area"
   ]
  },
  {
   "cell_type": "code",
   "execution_count": null,
   "id": "a847080fa2c5fd7b",
   "metadata": {},
   "outputs": [],
   "source": [
    "data['density'] = data['pop'] / data['area']\n",
    "data"
   ]
  },
  {
   "cell_type": "markdown",
   "id": "9343980e16ef4d7d",
   "metadata": {},
   "source": [
    "DataFrame as Two-Dimensional Array"
   ]
  },
  {
   "cell_type": "code",
   "execution_count": null,
   "id": "9ed67936fa9f3862",
   "metadata": {},
   "outputs": [],
   "source": [
    "data.values"
   ]
  },
  {
   "cell_type": "code",
   "execution_count": null,
   "id": "febecdc63fe8b033",
   "metadata": {},
   "outputs": [],
   "source": [
    "data.T"
   ]
  },
  {
   "cell_type": "code",
   "execution_count": null,
   "id": "abd781f05528d2e5",
   "metadata": {},
   "outputs": [],
   "source": [
    "# accessing elements by implicit index will return first row of the data in the DataFrame"
   ]
  },
  {
   "cell_type": "code",
   "execution_count": null,
   "id": "af68b494e863f9b1",
   "metadata": {},
   "outputs": [],
   "source": [
    "data.values[0]"
   ]
  },
  {
   "cell_type": "code",
   "execution_count": null,
   "id": "a86990ac8350777",
   "metadata": {},
   "outputs": [],
   "source": [
    "# passing a single index to the DataFrame will return the corresponding column which is a Series object"
   ]
  },
  {
   "cell_type": "code",
   "execution_count": null,
   "id": "9d1de7231f325082",
   "metadata": {},
   "outputs": [],
   "source": [
    "data['density']"
   ]
  },
  {
   "cell_type": "code",
   "execution_count": null,
   "id": "99a57375cd4d5604",
   "metadata": {},
   "outputs": [],
   "source": [
    "# to use the implicit indexes we need to use iloc, row headers and column headers are maintained in the result\n",
    "data.iloc[:3, :2]"
   ]
  },
  {
   "cell_type": "code",
   "execution_count": null,
   "id": "69a5bce14f942dd4",
   "metadata": {},
   "outputs": [],
   "source": [
    "# to use the explicit indexes we need to use iloc and the explicit index and columns names\n",
    "data.loc[:'Florida', :'pop']"
   ]
  },
  {
   "cell_type": "code",
   "execution_count": null,
   "id": "3eee703f85b79c30",
   "metadata": {},
   "outputs": [],
   "source": [
    "# masking and fancy indexing\n",
    "data.loc[(data.density > 120), 'pop':'density']"
   ]
  },
  {
   "cell_type": "markdown",
   "id": "293165ef5ed5a2f",
   "metadata": {},
   "source": [
    "Additional conventions"
   ]
  },
  {
   "cell_type": "code",
   "execution_count": null,
   "id": "22834ca678071373",
   "metadata": {},
   "outputs": [],
   "source": [
    "# indexing refers to columns while slicing refers to rows"
   ]
  },
  {
   "cell_type": "code",
   "execution_count": null,
   "id": "defacd1680098ec3",
   "metadata": {},
   "outputs": [],
   "source": [
    "data['Florida':'New York']"
   ]
  },
  {
   "cell_type": "code",
   "execution_count": null,
   "id": "afaab521038ffc4b",
   "metadata": {},
   "outputs": [],
   "source": [
    "# slicing can also be done based on implicit indexes\n",
    "data.iloc[1:3]"
   ]
  },
  {
   "cell_type": "code",
   "execution_count": null,
   "id": "4420c86abc17aabd",
   "metadata": {},
   "outputs": [],
   "source": [
    "# direct masking operations are interpreted row-wise\n",
    "data[data.density > 120]"
   ]
  }
 ],
 "metadata": {
  "kernelspec": {
   "display_name": "Python [conda env:base] *",
   "language": "python",
   "name": "conda-base-py"
  },
  "language_info": {
   "codemirror_mode": {
    "name": "ipython",
    "version": 3
   },
   "file_extension": ".py",
   "mimetype": "text/x-python",
   "name": "python",
   "nbconvert_exporter": "python",
   "pygments_lexer": "ipython3",
   "version": "3.12.7"
  }
 },
 "nbformat": 4,
 "nbformat_minor": 5
}
