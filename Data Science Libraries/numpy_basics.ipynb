{
 "cells": [
  {
   "cell_type": "code",
   "id": "initial_id",
   "metadata": {
    "ExecuteTime": {
     "end_time": "2025-03-03T09:58:45.594054Z",
     "start_time": "2025-03-03T09:58:45.592303Z"
    }
   },
   "source": [
    "import numpy as np"
   ],
   "outputs": [],
   "execution_count": 21
  },
  {
   "cell_type": "markdown",
   "id": "1685b49a40a93839",
   "metadata": {
    "collapsed": false,
    "jupyter": {
     "outputs_hidden": false
    }
   },
   "source": [
    "Print NumPy version"
   ]
  },
  {
   "cell_type": "code",
   "id": "d3afae09f5d0a019",
   "metadata": {
    "collapsed": false,
    "jupyter": {
     "outputs_hidden": false
    },
    "ExecuteTime": {
     "end_time": "2025-03-03T09:58:48.741752Z",
     "start_time": "2025-03-03T09:58:48.739738Z"
    }
   },
   "source": [
    "print(np.__version__)"
   ],
   "outputs": [
    {
     "name": "stdout",
     "output_type": "stream",
     "text": [
      "2.2.2\n"
     ]
    }
   ],
   "execution_count": 22
  },
  {
   "cell_type": "markdown",
   "id": "85b7c02e-af67-4e3b-b5ed-ca0203c16d44",
   "metadata": {},
   "source": [
    "Creatin arrays from Python Lists"
   ]
  },
  {
   "cell_type": "code",
   "id": "6c5586bf-9d67-493a-bae8-bae3cc699cf2",
   "metadata": {
    "ExecuteTime": {
     "end_time": "2025-03-03T09:58:50.903709Z",
     "start_time": "2025-03-03T09:58:50.901230Z"
    }
   },
   "source": [
    "# Integer array\n",
    "np.array([1, 2, 3, 4, 5])"
   ],
   "outputs": [
    {
     "data": {
      "text/plain": [
       "array([1, 2, 3, 4, 5])"
      ]
     },
     "execution_count": 23,
     "metadata": {},
     "output_type": "execute_result"
    }
   ],
   "execution_count": 23
  },
  {
   "cell_type": "markdown",
   "id": "b1e9f890-f025-4aa6-af74-49fe718e6f5f",
   "metadata": {},
   "source": [
    "Setting the type explicitly when creating an array"
   ]
  },
  {
   "cell_type": "code",
   "id": "0436b102-c088-44c0-98e5-09fdba88cd6c",
   "metadata": {
    "ExecuteTime": {
     "end_time": "2025-03-03T09:58:55.283745Z",
     "start_time": "2025-03-03T09:58:55.280829Z"
    }
   },
   "source": [
    "np.array([1, 2, 3], dtype = np.float32)"
   ],
   "outputs": [
    {
     "data": {
      "text/plain": [
       "array([1., 2., 3.], dtype=float32)"
      ]
     },
     "execution_count": 24,
     "metadata": {},
     "output_type": "execute_result"
    }
   ],
   "execution_count": 24
  },
  {
   "cell_type": "markdown",
   "id": "ea57aa88-3a95-40b7-b970-b91b66d4fdfd",
   "metadata": {},
   "source": [
    "Creating multi-dimensional arrays from nested lists"
   ]
  },
  {
   "cell_type": "code",
   "id": "3a9e65a4-dfb4-4bf1-a084-a45dae281ca7",
   "metadata": {
    "ExecuteTime": {
     "end_time": "2025-03-03T09:58:57.532494Z",
     "start_time": "2025-03-03T09:58:57.529569Z"
    }
   },
   "source": [
    "# Nested lists create multi-dimensional arrays\n",
    "np.array([range(i, i + 3) for i in [2, 4, 6]])"
   ],
   "outputs": [
    {
     "data": {
      "text/plain": [
       "array([[2, 3, 4],\n",
       "       [4, 5, 6],\n",
       "       [6, 7, 8]])"
      ]
     },
     "execution_count": 25,
     "metadata": {},
     "output_type": "execute_result"
    }
   ],
   "execution_count": 25
  },
  {
   "cell_type": "markdown",
   "id": "118b47a5d3eb5f9d",
   "metadata": {
    "collapsed": false,
    "jupyter": {
     "outputs_hidden": false
    }
   },
   "source": [
    "Creating arrays from scratch"
   ]
  },
  {
   "cell_type": "code",
   "id": "71f0d941622a757d",
   "metadata": {
    "collapsed": false,
    "jupyter": {
     "outputs_hidden": false
    },
    "ExecuteTime": {
     "end_time": "2025-03-03T09:59:02.647488Z",
     "start_time": "2025-03-03T09:59:02.645109Z"
    }
   },
   "source": [
    "# Create a length 10 array filled with 0s\n",
    "x10 = np.zeros(10, dtype=int)\n",
    "print(x10)"
   ],
   "outputs": [
    {
     "name": "stdout",
     "output_type": "stream",
     "text": [
      "[0 0 0 0 0 0 0 0 0 0]\n"
     ]
    }
   ],
   "execution_count": 26
  },
  {
   "cell_type": "code",
   "id": "62056f1198e9370c",
   "metadata": {
    "collapsed": false,
    "jupyter": {
     "outputs_hidden": false
    },
    "ExecuteTime": {
     "end_time": "2025-03-03T09:59:37.436232Z",
     "start_time": "2025-03-03T09:59:37.434038Z"
    }
   },
   "source": [
    "# Create a 3x5 floating point array filled with 1s\n",
    "x35 = np.ones((3, 5), dtype=float)\n",
    "print(x35)"
   ],
   "outputs": [
    {
     "name": "stdout",
     "output_type": "stream",
     "text": [
      "[[1. 1. 1. 1. 1.]\n",
      " [1. 1. 1. 1. 1.]\n",
      " [1. 1. 1. 1. 1.]]\n"
     ]
    }
   ],
   "execution_count": 27
  },
  {
   "cell_type": "code",
   "id": "cbdb08a6ded9a610",
   "metadata": {
    "collapsed": false,
    "jupyter": {
     "outputs_hidden": false
    },
    "ExecuteTime": {
     "end_time": "2025-03-03T09:59:41.075137Z",
     "start_time": "2025-03-03T09:59:41.072880Z"
    }
   },
   "source": [
    "# Create a 3x5 array filled with Pi\n",
    "xpi = np.full((3, 5), 3.14)\n",
    "print(xpi)"
   ],
   "outputs": [
    {
     "name": "stdout",
     "output_type": "stream",
     "text": [
      "[[3.14 3.14 3.14 3.14 3.14]\n",
      " [3.14 3.14 3.14 3.14 3.14]\n",
      " [3.14 3.14 3.14 3.14 3.14]]\n"
     ]
    }
   ],
   "execution_count": 28
  },
  {
   "cell_type": "code",
   "id": "e9fd16baa1efcc09",
   "metadata": {
    "collapsed": false,
    "jupyter": {
     "outputs_hidden": false
    },
    "ExecuteTime": {
     "end_time": "2025-03-03T09:59:50.792938Z",
     "start_time": "2025-03-03T09:59:50.790910Z"
    }
   },
   "source": [
    "# Create an array filled with a sequence starting at 0, ending at 20 and steps of 2\n",
    "xseq = np.arange(0, 20, 2)\n",
    "print(xseq)"
   ],
   "outputs": [
    {
     "name": "stdout",
     "output_type": "stream",
     "text": [
      "[ 0  2  4  6  8 10 12 14 16 18]\n"
     ]
    }
   ],
   "execution_count": 29
  },
  {
   "cell_type": "code",
   "id": "3d2cde4dcf6e157",
   "metadata": {
    "collapsed": false,
    "jupyter": {
     "outputs_hidden": false
    },
    "ExecuteTime": {
     "end_time": "2025-03-03T09:59:53.194581Z",
     "start_time": "2025-03-03T09:59:53.192177Z"
    }
   },
   "source": [
    "# Create an array of 5 values evenly spaced between 0 and 1\n",
    "xdist = np.linspace(0, 1, 5)\n",
    "print(xdist)"
   ],
   "outputs": [
    {
     "name": "stdout",
     "output_type": "stream",
     "text": [
      "[0.   0.25 0.5  0.75 1.  ]\n"
     ]
    }
   ],
   "execution_count": 30
  },
  {
   "cell_type": "code",
   "id": "7f747763209f4aec",
   "metadata": {
    "collapsed": false,
    "jupyter": {
     "outputs_hidden": false
    },
    "ExecuteTime": {
     "end_time": "2025-03-03T09:59:58.276632Z",
     "start_time": "2025-03-03T09:59:58.274144Z"
    }
   },
   "source": [
    "# Create a 3x3 array of uniformly distributed pseudorandom values between 0 and 1\n",
    "xrand = np.random.random((3, 3))\n",
    "print(xrand)"
   ],
   "outputs": [
    {
     "name": "stdout",
     "output_type": "stream",
     "text": [
      "[[0.17527927 0.38894877 0.90910734]\n",
      " [0.09923768 0.00490162 0.85319256]\n",
      " [0.80215381 0.90641362 0.17842029]]\n"
     ]
    }
   ],
   "execution_count": 31
  },
  {
   "cell_type": "code",
   "id": "674bc0301d318f6e",
   "metadata": {
    "collapsed": false,
    "jupyter": {
     "outputs_hidden": false
    },
    "ExecuteTime": {
     "end_time": "2025-03-03T10:00:01.676849Z",
     "start_time": "2025-03-03T10:00:01.674587Z"
    }
   },
   "source": [
    "# Create a 3x3 array of normally distributed pseudorandom values with a mean of 0 and standard deviation of 1\n",
    "xstd = np.random.normal(0, 1, (3, 3))\n",
    "print(xstd)"
   ],
   "outputs": [
    {
     "name": "stdout",
     "output_type": "stream",
     "text": [
      "[[-0.52482006  1.65070317 -0.11899014]\n",
      " [ 0.85913504 -2.3214682   1.19729531]\n",
      " [ 0.25469108  0.30831095 -1.24028997]]\n"
     ]
    }
   ],
   "execution_count": 32
  },
  {
   "cell_type": "code",
   "id": "6e1f89443553ae4b",
   "metadata": {
    "collapsed": false,
    "jupyter": {
     "outputs_hidden": false
    },
    "ExecuteTime": {
     "end_time": "2025-03-03T10:00:04.801283Z",
     "start_time": "2025-03-03T10:00:04.798911Z"
    }
   },
   "source": [
    "# Create a 3x3 matrix of pseudorandom values between 0 and 10\n",
    "xprand = np.random.randint(0, 10, (3, 3))\n",
    "print(xprand)"
   ],
   "outputs": [
    {
     "name": "stdout",
     "output_type": "stream",
     "text": [
      "[[8 1 2]\n",
      " [5 3 2]\n",
      " [6 3 6]]\n"
     ]
    }
   ],
   "execution_count": 33
  },
  {
   "cell_type": "code",
   "id": "6c7cd579e5803a10",
   "metadata": {
    "collapsed": false,
    "jupyter": {
     "outputs_hidden": false
    },
    "ExecuteTime": {
     "end_time": "2025-03-03T10:00:12.097883Z",
     "start_time": "2025-03-03T10:00:12.095565Z"
    }
   },
   "source": [
    "# Create an identity matrix\n",
    "xiden = np.eye(3)\n",
    "print(xiden)"
   ],
   "outputs": [
    {
     "name": "stdout",
     "output_type": "stream",
     "text": [
      "[[1. 0. 0.]\n",
      " [0. 1. 0.]\n",
      " [0. 0. 1.]]\n"
     ]
    }
   ],
   "execution_count": 34
  },
  {
   "cell_type": "markdown",
   "id": "c7642ad9-d704-4e58-b5a4-234fae7a6a02",
   "metadata": {},
   "source": [
    "-------------------------------------------BASICS OF NUMPY ARRAYS-----------------------------------------"
   ]
  },
  {
   "cell_type": "markdown",
   "id": "a0150ab47fad4e22",
   "metadata": {
    "collapsed": false,
    "jupyter": {
     "outputs_hidden": false
    }
   },
   "source": [
    "Create a random number generator and seed it"
   ]
  },
  {
   "cell_type": "code",
   "id": "14f24bb64516c77a",
   "metadata": {
    "collapsed": false,
    "jupyter": {
     "outputs_hidden": false
    },
    "ExecuteTime": {
     "end_time": "2025-03-03T10:00:17.946561Z",
     "start_time": "2025-03-03T10:00:17.944265Z"
    }
   },
   "source": [
    "rng = np.random.default_rng(seed=170)"
   ],
   "outputs": [],
   "execution_count": 35
  },
  {
   "cell_type": "markdown",
   "id": "b393b38c773e2c06",
   "metadata": {
    "collapsed": false,
    "jupyter": {
     "outputs_hidden": false
    }
   },
   "source": [
    "Create 1d, 2d and 3d array"
   ]
  },
  {
   "cell_type": "code",
   "id": "bff303f8ae5d53fb",
   "metadata": {
    "collapsed": false,
    "jupyter": {
     "outputs_hidden": false
    },
    "ExecuteTime": {
     "end_time": "2025-03-03T10:00:35.385313Z",
     "start_time": "2025-03-03T10:00:35.383108Z"
    }
   },
   "source": [
    "x1 = rng.integers(10, size=6) #1d array\n",
    "x2 = rng.integers(10, size=(3, 4)) #2d array\n",
    "x3 = rng.integers(10, size=(3, 4, 5)) #3d array"
   ],
   "outputs": [],
   "execution_count": 36
  },
  {
   "cell_type": "markdown",
   "id": "1c06dbba534c379d",
   "metadata": {
    "collapsed": false,
    "jupyter": {
     "outputs_hidden": false
    }
   },
   "source": [
    "ndim - number of dimensions, shape - the size of each dimension, size - the total size of the array and dtype - the type of each element"
   ]
  },
  {
   "cell_type": "code",
   "id": "bac8fa0615aa7011",
   "metadata": {
    "collapsed": false,
    "jupyter": {
     "outputs_hidden": false
    },
    "ExecuteTime": {
     "end_time": "2025-03-03T10:00:56.569760Z",
     "start_time": "2025-03-03T10:00:56.567348Z"
    }
   },
   "source": [
    "print(f'x3 dim: {x3.ndim}')\n",
    "print(f'x3 shape: {x3.shape}')\n",
    "print(f'x3 size: {x3.size}')\n",
    "print(f'x3 dtype: {x3.dtype}')"
   ],
   "outputs": [
    {
     "name": "stdout",
     "output_type": "stream",
     "text": [
      "x3 dim: 3\n",
      "x3 shape: (3, 4, 5)\n",
      "x3 size: 60\n",
      "x3 dtype: int64\n"
     ]
    }
   ],
   "execution_count": 37
  },
  {
   "cell_type": "markdown",
   "id": "d19194e7ba74b3c0",
   "metadata": {
    "collapsed": false,
    "jupyter": {
     "outputs_hidden": false
    }
   },
   "source": [
    "Array Indexing"
   ]
  },
  {
   "cell_type": "code",
   "id": "e200ba2bf81b56a9",
   "metadata": {
    "collapsed": false,
    "jupyter": {
     "outputs_hidden": false
    },
    "ExecuteTime": {
     "end_time": "2025-03-03T10:01:27.612622Z",
     "start_time": "2025-03-03T10:01:27.610054Z"
    }
   },
   "source": [
    "print(f'x1: {x1}')\n",
    "print(f'{x1[3]}')\n",
    "print(f'{x1[-1]}')"
   ],
   "outputs": [
    {
     "name": "stdout",
     "output_type": "stream",
     "text": [
      "x1: [7 7 6 9 3 8]\n",
      "9\n",
      "8\n"
     ]
    }
   ],
   "execution_count": 38
  },
  {
   "cell_type": "code",
   "id": "32fd5452a395fca0",
   "metadata": {
    "collapsed": false,
    "jupyter": {
     "outputs_hidden": false
    },
    "ExecuteTime": {
     "end_time": "2025-03-03T10:01:37.603367Z",
     "start_time": "2025-03-03T10:01:37.601008Z"
    }
   },
   "source": [
    "print(f'x2: {x2}')\n",
    "print(f'{x2[2, 3]}')\n",
    "print(f'{x2[0, -1]}')"
   ],
   "outputs": [
    {
     "name": "stdout",
     "output_type": "stream",
     "text": [
      "x2: [[3 9 3 1]\n",
      " [7 9 6 0]\n",
      " [0 0 2 6]]\n",
      "6\n",
      "1\n"
     ]
    }
   ],
   "execution_count": 39
  },
  {
   "cell_type": "markdown",
   "id": "ad2e97dcbdf3aafc",
   "metadata": {
    "collapsed": false,
    "jupyter": {
     "outputs_hidden": false
    }
   },
   "source": [
    "Array Slicing"
   ]
  },
  {
   "cell_type": "code",
   "id": "eb448a55f4842473",
   "metadata": {
    "collapsed": false,
    "jupyter": {
     "outputs_hidden": false
    },
    "ExecuteTime": {
     "end_time": "2025-03-03T10:02:24.313759Z",
     "start_time": "2025-03-03T10:02:24.310996Z"
    }
   },
   "source": [
    "print(f'x1: {x1}')\n",
    "print(f'First 3 elements of x1: {x1[:3]}')\n",
    "print(f'Alternate elements starting with the second element of x1: {x1[1::2]}')\n",
    "print(f'Alternate elements of x1 starting from the last element: {x1[-1::2]}')"
   ],
   "outputs": [
    {
     "name": "stdout",
     "output_type": "stream",
     "text": [
      "x1: [7 7 6 9 3 8]\n",
      "First 3 elements of x1: [7 7 6]\n",
      "Alternate elements starting with the second element of x1: [7 9 8]\n",
      "Alternate elements of x1 starting from the last element: [8]\n"
     ]
    }
   ],
   "execution_count": 40
  },
  {
   "cell_type": "markdown",
   "id": "3bc061d707607bec",
   "metadata": {
    "collapsed": false,
    "jupyter": {
     "outputs_hidden": false
    }
   },
   "source": [
    "Multi-dimensional sub-arrays"
   ]
  },
  {
   "cell_type": "code",
   "id": "a436e981d72a9003",
   "metadata": {
    "collapsed": false,
    "jupyter": {
     "outputs_hidden": false
    },
    "ExecuteTime": {
     "end_time": "2025-03-03T10:06:07.274853Z",
     "start_time": "2025-03-03T10:06:07.272091Z"
    }
   },
   "source": [
    "print(f'x2: {x2}')\n",
    "print(f'First 2 rows and 3 columns of x2: {x2[:2, :3]}')\n",
    "print(f'Every second column of all 3 rows of x2:{x2[:, ::2]}')\n",
    "print(f'All rows and columns reversed for x2:{x2[::-1,::-1]}')"
   ],
   "outputs": [
    {
     "name": "stdout",
     "output_type": "stream",
     "text": [
      "x2: [[3 9 3 1]\n",
      " [7 9 6 0]\n",
      " [0 0 2 6]]\n",
      "First 2 rows and 3 columns of x2: [[3 9 3]\n",
      " [7 9 6]]\n",
      "Every second column of all 3 rows of x2:[[3 3]\n",
      " [7 6]\n",
      " [0 2]]\n",
      "All rows and columns reversed for x2:[[6 2 0 0]\n",
      " [0 6 9 7]\n",
      " [1 3 9 3]]\n"
     ]
    }
   ],
   "execution_count": 45
  },
  {
   "cell_type": "markdown",
   "id": "aaedcd216c3c0e7d",
   "metadata": {
    "collapsed": false,
    "jupyter": {
     "outputs_hidden": false
    }
   },
   "source": [
    "Selectively extracting rows and columns"
   ]
  },
  {
   "cell_type": "code",
   "id": "7daa9d78165801b4",
   "metadata": {
    "collapsed": false,
    "jupyter": {
     "outputs_hidden": false
    },
    "ExecuteTime": {
     "end_time": "2025-03-03T10:06:33.950723Z",
     "start_time": "2025-03-03T10:06:33.948423Z"
    }
   },
   "source": [
    "print(f'Last column of x2: {x2[:, -1]}')\n",
    "print(f'First row of x2: {x2[0, :]}')"
   ],
   "outputs": [
    {
     "name": "stdout",
     "output_type": "stream",
     "text": [
      "Last column of x2: [1 0 6]\n",
      "First row of x2: [3 9 3 1]\n"
     ]
    }
   ],
   "execution_count": 46
  },
  {
   "cell_type": "markdown",
   "id": "4362fd4cb84c011f",
   "metadata": {
    "collapsed": false,
    "jupyter": {
     "outputs_hidden": false
    }
   },
   "source": [
    "Sub-arrays as No-copy Views"
   ]
  },
  {
   "cell_type": "code",
   "id": "4002436ac3c575d9",
   "metadata": {
    "collapsed": false,
    "jupyter": {
     "outputs_hidden": false
    },
    "ExecuteTime": {
     "end_time": "2025-03-03T10:06:43.094177Z",
     "start_time": "2025-03-03T10:06:43.091866Z"
    }
   },
   "source": [
    "print(f'A 2x2 sub-array extracted from x2 by selecting first two columns of first two rows: {x2[:2, :2]}')\n",
    "print('Any modifications to elements of the above array will modify the original array (x2) as well.')\n"
   ],
   "outputs": [
    {
     "name": "stdout",
     "output_type": "stream",
     "text": [
      "A 2x2 sub-array extracted from x2 by selecting first two columns of first two rows: [[3 9]\n",
      " [7 9]]\n",
      "Any modifications to elements of the above array will modify the original array (x2) as well.\n"
     ]
    }
   ],
   "execution_count": 47
  },
  {
   "cell_type": "markdown",
   "id": "9c98549c5a0469a0",
   "metadata": {
    "collapsed": false,
    "jupyter": {
     "outputs_hidden": false
    }
   },
   "source": [
    "Creating copies of Arrays"
   ]
  },
  {
   "cell_type": "code",
   "id": "259f00fd731b9310",
   "metadata": {
    "collapsed": false,
    "jupyter": {
     "outputs_hidden": false
    },
    "ExecuteTime": {
     "end_time": "2025-03-03T10:06:52.463068Z",
     "start_time": "2025-03-03T10:06:52.460996Z"
    }
   },
   "source": [
    "x2_sub_copy = x2[:2, :2].copy()\n",
    "print(x2_sub_copy)"
   ],
   "outputs": [
    {
     "name": "stdout",
     "output_type": "stream",
     "text": [
      "[[3 9]\n",
      " [7 9]]\n"
     ]
    }
   ],
   "execution_count": 48
  },
  {
   "cell_type": "markdown",
   "id": "8d8c51b3e6853164",
   "metadata": {
    "collapsed": false,
    "jupyter": {
     "outputs_hidden": false
    }
   },
   "source": [
    "Reshaping of Arrays - the size of the initial array must be equal to the size of the re-shaped array."
   ]
  },
  {
   "cell_type": "code",
   "id": "526160039b87bf23",
   "metadata": {
    "collapsed": false,
    "jupyter": {
     "outputs_hidden": false
    },
    "ExecuteTime": {
     "end_time": "2025-03-03T10:06:58.096804Z",
     "start_time": "2025-03-03T10:06:58.094581Z"
    }
   },
   "source": [
    "grid = np.arange(1, 10).reshape(3, 3)\n",
    "print(grid)"
   ],
   "outputs": [
    {
     "name": "stdout",
     "output_type": "stream",
     "text": [
      "[[1 2 3]\n",
      " [4 5 6]\n",
      " [7 8 9]]\n"
     ]
    }
   ],
   "execution_count": 49
  },
  {
   "cell_type": "code",
   "id": "5df4ea2a55e18fd3",
   "metadata": {
    "collapsed": false,
    "jupyter": {
     "outputs_hidden": false
    },
    "ExecuteTime": {
     "end_time": "2025-03-03T10:07:07.489432Z",
     "start_time": "2025-03-03T10:07:07.486837Z"
    }
   },
   "source": [
    "grid = np.array([x for x in range(1, 10)])\n",
    "# Reshaping grid to a row vector\n",
    "print(grid.reshape(1,9))"
   ],
   "outputs": [
    {
     "name": "stdout",
     "output_type": "stream",
     "text": [
      "[[1 2 3 4 5 6 7 8 9]]\n"
     ]
    }
   ],
   "execution_count": 50
  },
  {
   "cell_type": "code",
   "id": "6db85b98c9c06bd0",
   "metadata": {
    "collapsed": false,
    "jupyter": {
     "outputs_hidden": false
    },
    "ExecuteTime": {
     "end_time": "2025-03-03T10:07:11.582875Z",
     "start_time": "2025-03-03T10:07:11.580500Z"
    }
   },
   "source": [
    "# Reshaping row vector to column vector\n",
    "print(grid.reshape(9, 1))"
   ],
   "outputs": [
    {
     "name": "stdout",
     "output_type": "stream",
     "text": [
      "[[1]\n",
      " [2]\n",
      " [3]\n",
      " [4]\n",
      " [5]\n",
      " [6]\n",
      " [7]\n",
      " [8]\n",
      " [9]]\n"
     ]
    }
   ],
   "execution_count": 51
  },
  {
   "cell_type": "code",
   "id": "6a376035e823c5f8",
   "metadata": {
    "collapsed": false,
    "jupyter": {
     "outputs_hidden": false
    },
    "ExecuteTime": {
     "end_time": "2025-03-03T10:07:15.078027Z",
     "start_time": "2025-03-03T10:07:15.075780Z"
    }
   },
   "source": [
    "print(grid[np.newaxis, :])"
   ],
   "outputs": [
    {
     "name": "stdout",
     "output_type": "stream",
     "text": [
      "[[1 2 3 4 5 6 7 8 9]]\n"
     ]
    }
   ],
   "execution_count": 52
  },
  {
   "cell_type": "code",
   "id": "faed6cc43f8d351c",
   "metadata": {
    "collapsed": false,
    "jupyter": {
     "outputs_hidden": false
    },
    "ExecuteTime": {
     "end_time": "2025-03-03T10:07:16.520572Z",
     "start_time": "2025-03-03T10:07:16.518353Z"
    }
   },
   "source": [
    "print(grid[:, np.newaxis])"
   ],
   "outputs": [
    {
     "name": "stdout",
     "output_type": "stream",
     "text": [
      "[[1]\n",
      " [2]\n",
      " [3]\n",
      " [4]\n",
      " [5]\n",
      " [6]\n",
      " [7]\n",
      " [8]\n",
      " [9]]\n"
     ]
    }
   ],
   "execution_count": 53
  },
  {
   "cell_type": "markdown",
   "id": "9a1fa419c4ec1faf",
   "metadata": {
    "collapsed": false,
    "jupyter": {
     "outputs_hidden": false
    }
   },
   "source": [
    "Concatenation and splitting of Arrays"
   ]
  },
  {
   "cell_type": "code",
   "id": "68209d945e4839d2",
   "metadata": {
    "collapsed": false,
    "jupyter": {
     "outputs_hidden": false
    },
    "ExecuteTime": {
     "end_time": "2025-03-03T10:07:29.295874Z",
     "start_time": "2025-03-03T10:07:29.293520Z"
    }
   },
   "source": [
    "x1 = np.array([x for x in range(1, 6)])\n",
    "x2 = np.array([x for x in range(6, 11)])\n",
    "x_con = np.concatenate([x1, x2])\n",
    "print(x_con)"
   ],
   "outputs": [
    {
     "name": "stdout",
     "output_type": "stream",
     "text": [
      "[ 1  2  3  4  5  6  7  8  9 10]\n"
     ]
    }
   ],
   "execution_count": 54
  },
  {
   "cell_type": "code",
   "id": "fe5c0d84b36e97c3",
   "metadata": {
    "collapsed": false,
    "jupyter": {
     "outputs_hidden": false
    },
    "ExecuteTime": {
     "end_time": "2025-03-03T10:07:33.531709Z",
     "start_time": "2025-03-03T10:07:33.529403Z"
    }
   },
   "source": [
    "x_grid = np.array([[1, 2, 3],\n",
    "                   [4, 5, 6]])\n",
    "x_grid_con = np.concatenate([x_grid, x_grid])\n",
    "print(x_grid_con)"
   ],
   "outputs": [
    {
     "name": "stdout",
     "output_type": "stream",
     "text": [
      "[[1 2 3]\n",
      " [4 5 6]\n",
      " [1 2 3]\n",
      " [4 5 6]]\n"
     ]
    }
   ],
   "execution_count": 55
  },
  {
   "cell_type": "code",
   "id": "389ff8bf233f1f96",
   "metadata": {
    "collapsed": false,
    "jupyter": {
     "outputs_hidden": false
    },
    "ExecuteTime": {
     "end_time": "2025-03-03T10:07:46.996581Z",
     "start_time": "2025-03-03T10:07:46.994636Z"
    }
   },
   "source": [
    "x_grid_con = np.concatenate([x_grid, x_grid], axis=1)\n",
    "print(x_grid_con)"
   ],
   "outputs": [
    {
     "name": "stdout",
     "output_type": "stream",
     "text": [
      "[[1 2 3 1 2 3]\n",
      " [4 5 6 4 5 6]]\n"
     ]
    }
   ],
   "execution_count": 56
  },
  {
   "metadata": {
    "ExecuteTime": {
     "end_time": "2025-03-03T10:10:06.030088Z",
     "start_time": "2025-03-03T10:10:06.028689Z"
    }
   },
   "cell_type": "code",
   "source": "# For working with arrays of mixed dimensions, it can be clearer to use np.vstack (vertical stack) and np.hstack (horizontal stack) functions",
   "id": "e909473e51e47b63",
   "outputs": [],
   "execution_count": 57
  },
  {
   "metadata": {
    "collapsed": false,
    "jupyter": {
     "outputs_hidden": false
    },
    "ExecuteTime": {
     "end_time": "2025-03-03T10:10:43.351236Z",
     "start_time": "2025-03-03T10:10:43.349165Z"
    }
   },
   "cell_type": "code",
   "source": [
    "x_vstack = np.vstack([x1, x2])\n",
    "print(x_vstack)"
   ],
   "id": "86bb114a524d120",
   "outputs": [
    {
     "name": "stdout",
     "output_type": "stream",
     "text": [
      "[[ 1  2  3  4  5]\n",
      " [ 6  7  8  9 10]]\n"
     ]
    }
   ],
   "execution_count": 58
  },
  {
   "cell_type": "code",
   "id": "702a2e5501383215",
   "metadata": {
    "collapsed": false,
    "jupyter": {
     "outputs_hidden": false
    },
    "ExecuteTime": {
     "end_time": "2025-03-03T10:10:45.018129Z",
     "start_time": "2025-03-03T10:10:45.015729Z"
    }
   },
   "source": [
    "x_hstack = np.hstack([x1, x2])\n",
    "print(x_hstack)"
   ],
   "outputs": [
    {
     "name": "stdout",
     "output_type": "stream",
     "text": [
      "[ 1  2  3  4  5  6  7  8  9 10]\n"
     ]
    }
   ],
   "execution_count": 59
  },
  {
   "metadata": {
    "ExecuteTime": {
     "end_time": "2025-03-03T10:40:58.714939Z",
     "start_time": "2025-03-03T10:40:58.712533Z"
    }
   },
   "cell_type": "code",
   "source": [
    "column_array = [[100],\n",
    "                [100]]\n",
    "x_vhstack = np.hstack([x_vstack, column_array])\n",
    "print(x_vhstack)"
   ],
   "id": "48b7ef7a08c6bb0",
   "outputs": [
    {
     "name": "stdout",
     "output_type": "stream",
     "text": [
      "[[  1   2   3   4   5 100]\n",
      " [  6   7   8   9  10 100]]\n"
     ]
    }
   ],
   "execution_count": 63
  },
  {
   "cell_type": "code",
   "id": "54c35b829c2fddf6",
   "metadata": {
    "collapsed": false,
    "jupyter": {
     "outputs_hidden": false
    },
    "ExecuteTime": {
     "end_time": "2025-03-03T10:58:30.749704Z",
     "start_time": "2025-03-03T10:58:30.746805Z"
    }
   },
   "source": [
    "x1, x2, x3 = np.split(x_hstack, [3, 6])\n",
    "print(x1, x2, x3)"
   ],
   "outputs": [
    {
     "name": "stdout",
     "output_type": "stream",
     "text": [
      "[1 2 3] [4 5 6] [ 7  8  9 10]\n"
     ]
    }
   ],
   "execution_count": 64
  },
  {
   "cell_type": "code",
   "id": "a3b9f88fec518013",
   "metadata": {
    "collapsed": false,
    "jupyter": {
     "outputs_hidden": false
    },
    "ExecuteTime": {
     "end_time": "2025-03-03T10:58:32.119298Z",
     "start_time": "2025-03-03T10:58:32.116668Z"
    }
   },
   "source": [
    "grid = np.arange(16).reshape(4, 4)\n",
    "upper, lower = np.vsplit(grid, [2])\n",
    "print(upper)\n",
    "print(lower)"
   ],
   "outputs": [
    {
     "name": "stdout",
     "output_type": "stream",
     "text": [
      "[[0 1 2 3]\n",
      " [4 5 6 7]]\n",
      "[[ 8  9 10 11]\n",
      " [12 13 14 15]]\n"
     ]
    }
   ],
   "execution_count": 65
  },
  {
   "cell_type": "code",
   "id": "aa2bbfc01f5956d1",
   "metadata": {
    "collapsed": false,
    "jupyter": {
     "outputs_hidden": false
    },
    "ExecuteTime": {
     "end_time": "2025-03-03T10:58:33.397481Z",
     "start_time": "2025-03-03T10:58:33.395373Z"
    }
   },
   "source": [
    "left, right = np.hsplit(grid, [2])\n",
    "print(left)\n",
    "print(right)"
   ],
   "outputs": [
    {
     "name": "stdout",
     "output_type": "stream",
     "text": [
      "[[ 0  1]\n",
      " [ 4  5]\n",
      " [ 8  9]\n",
      " [12 13]]\n",
      "[[ 2  3]\n",
      " [ 6  7]\n",
      " [10 11]\n",
      " [14 15]]\n"
     ]
    }
   ],
   "execution_count": 66
  },
  {
   "metadata": {},
   "cell_type": "code",
   "outputs": [],
   "execution_count": null,
   "source": "",
   "id": "a29d462927f74b3d"
  }
 ],
 "metadata": {
  "kernelspec": {
   "display_name": "Python 3 (ipykernel)",
   "language": "python",
   "name": "python3"
  },
  "language_info": {
   "codemirror_mode": {
    "name": "ipython",
    "version": 3
   },
   "file_extension": ".py",
   "mimetype": "text/x-python",
   "name": "python",
   "nbconvert_exporter": "python",
   "pygments_lexer": "ipython3",
   "version": "3.12.2"
  }
 },
 "nbformat": 4,
 "nbformat_minor": 5
}
