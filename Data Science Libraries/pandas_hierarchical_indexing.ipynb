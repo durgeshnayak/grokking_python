{
 "cells": [
  {
   "cell_type": "code",
   "execution_count": null,
   "id": "initial_id",
   "metadata": {},
   "outputs": [],
   "source": [
    "import numpy as np\n",
    "import pandas as pd"
   ]
  },
  {
   "cell_type": "markdown",
   "id": "4773aad1-d2af-4397-90b6-3c59a66d84d9",
   "metadata": {},
   "source": [
    "The Pandas MultiIndex"
   ]
  },
  {
   "cell_type": "code",
   "execution_count": null,
   "id": "b5982249252afe8f",
   "metadata": {},
   "outputs": [],
   "source": [
    "index = [('California', 2010), ('California', 2020),\n",
    "         ('New York', 2010), ('New York', 2020),\n",
    "         ('Texas', 2010), ('Texas', 2020)]\n",
    "index = pd.MultiIndex.from_tuples(index)"
   ]
  },
  {
   "cell_type": "code",
   "execution_count": null,
   "id": "913565d0091a1cc1",
   "metadata": {},
   "outputs": [],
   "source": [
    "populations = [37253956, 39538223,\n",
    "               19378102, 20201249,\n",
    "               25145561, 29145505]"
   ]
  },
  {
   "cell_type": "code",
   "execution_count": null,
   "id": "a29672a7b14711d9",
   "metadata": {},
   "outputs": [],
   "source": [
    "pop = pd.Series(populations, index=index)\n",
    "pop"
   ]
  },
  {
   "cell_type": "code",
   "execution_count": null,
   "id": "ea554683-8a23-4039-a1c1-1ffe594f9d45",
   "metadata": {},
   "outputs": [],
   "source": [
    "pop[:, 2020]"
   ]
  },
  {
   "cell_type": "markdown",
   "id": "80a92be4-9bec-45b4-a7f9-8deaccf597af",
   "metadata": {},
   "source": [
    "The Pandas MultiIndex as Extra Dimension"
   ]
  },
  {
   "cell_type": "code",
   "execution_count": null,
   "id": "1b80c38d-2375-41f0-ad30-d9fa97063536",
   "metadata": {},
   "outputs": [],
   "source": [
    "pop_df = pop.unstack()\n",
    "pop_df"
   ]
  },
  {
   "cell_type": "code",
   "execution_count": null,
   "id": "53499649-a861-4116-95d9-49ff385ee6dc",
   "metadata": {},
   "outputs": [],
   "source": [
    "pop_df.stack()"
   ]
  },
  {
   "cell_type": "code",
   "execution_count": null,
   "id": "e31afff6-8528-496c-b6ff-df0effaab5ce",
   "metadata": {},
   "outputs": [],
   "source": [
    "pop_df = pd.DataFrame({'total': pop, 'under18': [9284094, 8898092,\n",
    "                                                 4318033, 4181528,\n",
    "                                                 6879014, 7432474]})\n",
    "pop_df"
   ]
  },
  {
   "cell_type": "code",
   "execution_count": null,
   "id": "64d5700e-2f8f-4417-bf21-f13fa5cf498f",
   "metadata": {},
   "outputs": [],
   "source": [
    "f_u18 = pop_df['under18'] / pop_df['total']\n",
    "f_u18"
   ]
  },
  {
   "cell_type": "code",
   "execution_count": null,
   "id": "3ae77494-ee96-48ee-a41e-8f728a270973",
   "metadata": {},
   "outputs": [],
   "source": [
    "f_u18.unstack()"
   ]
  },
  {
   "cell_type": "markdown",
   "id": "4001152b-9c8c-4856-9ae7-66f810080c49",
   "metadata": {},
   "source": [
    "Methods of MultiIndex creation"
   ]
  },
  {
   "cell_type": "code",
   "execution_count": null,
   "id": "efd5ed42-409c-4cbd-abf4-227a292d91b2",
   "metadata": {},
   "outputs": [],
   "source": [
    "df = pd.DataFrame(np.random.rand(4, 2), index=[['a', 'a', 'b', 'b'], [1, 2, 1, 2]], columns=['data1', 'data2'])\n",
    "df"
   ]
  },
  {
   "cell_type": "code",
   "execution_count": null,
   "id": "01232aa3-4f9f-4c6d-b99e-7a84522721c4",
   "metadata": {},
   "outputs": [],
   "source": [
    "data = {('California', 2010): 37253956,\n",
    "        ('California', 2020): 39538223,\n",
    "        ('New York', 2010): 19378102,\n",
    "        ('New York', 2020): 20201249,\n",
    "        ('Texas', 2010): 25145561,\n",
    "        ('Texas', 2020): 29145505}\n",
    "pd.Series(data)"
   ]
  },
  {
   "cell_type": "markdown",
   "id": "dbcf3daa-b61a-4ce6-8576-4024f7027170",
   "metadata": {},
   "source": [
    "MultiIndex Constructors"
   ]
  },
  {
   "cell_type": "code",
   "execution_count": null,
   "id": "40cec38a-68dd-4e6d-b31d-68123facbc20",
   "metadata": {},
   "outputs": [],
   "source": [
    "# from array\n",
    "pd.MultiIndex.from_arrays([['a', 'a', 'b', 'b'], [1, 2, 1, 2]])"
   ]
  },
  {
   "cell_type": "code",
   "execution_count": null,
   "id": "9118f858-2f08-4657-9146-1f5e2dd8d138",
   "metadata": {},
   "outputs": [],
   "source": [
    "# from tuple\n",
    "pd.MultiIndex.from_tuples([('a', 1), ('a', 2), ('b', 1), ('b', 2)])"
   ]
  },
  {
   "cell_type": "code",
   "execution_count": null,
   "id": "5a191ee4-1fce-4fd1-90c6-e108a719e650",
   "metadata": {},
   "outputs": [],
   "source": [
    "# from Cartesian product\n",
    "pd.MultiIndex.from_product([['a', 'b'], [1, 2]])"
   ]
  },
  {
   "cell_type": "code",
   "execution_count": null,
   "id": "8ce33b0e-f195-4a76-9527-39fa83cfba2f",
   "metadata": {},
   "outputs": [],
   "source": [
    "# by passing levels\n",
    "pd.MultiIndex(levels=[['a', 'b'], [1, 2]], codes=[[0, 0, 1, 1], [0, 1, 0, 1]])"
   ]
  },
  {
   "cell_type": "markdown",
   "id": "1b95d9c7-7f06-4911-b0e5-dc99cbed6016",
   "metadata": {},
   "source": [
    "MultiIndex Level Names"
   ]
  },
  {
   "cell_type": "code",
   "execution_count": null,
   "id": "f9d8dd1f-06f4-4ec4-b3f2-72e48a77468a",
   "metadata": {},
   "outputs": [],
   "source": [
    "pop.index.names = ['states', 'year']\n",
    "pop"
   ]
  },
  {
   "cell_type": "markdown",
   "id": "e7c9d9d1-2157-4aee-ac86-4734314b7b1b",
   "metadata": {},
   "source": [
    "MultiIndex for Columns"
   ]
  },
  {
   "cell_type": "code",
   "execution_count": null,
   "id": "9a41695d-f2d8-478c-bfb4-b77ab743e23f",
   "metadata": {},
   "outputs": [],
   "source": [
    "# hierarchical indices and columns\n",
    "index = pd.MultiIndex.from_product([[2013, 2014], [1, 2]], names=['year', 'visit'])\n",
    "columns = pd.MultiIndex.from_product([['Bob', 'Guido', 'Sue'], ['HR', 'Temp']], names=['subject', 'type'])\n",
    "\n",
    "#mock some data\n",
    "data = np.round(np.random.randn(4, 6), 1)\n",
    "data[:, ::2] *= 10\n",
    "data += 37\n",
    "\n",
    "#create the DataFrame\n",
    "health_data = pd.DataFrame(data, index= index, columns=columns)\n",
    "health_data"
   ]
  },
  {
   "cell_type": "code",
   "execution_count": null,
   "id": "a48cd5a5-f55b-48db-913d-dd9796482f3d",
   "metadata": {},
   "outputs": [],
   "source": [
    "# get Guido's health records\n",
    "health_data['Guido']"
   ]
  },
  {
   "cell_type": "markdown",
   "id": "f5061527-0673-4e4f-bb51-3157954aaac3",
   "metadata": {},
   "source": [
    "Indexing and Slicing a MultiIndex"
   ]
  },
  {
   "cell_type": "markdown",
   "id": "31b9fea5-8eff-4a40-8a85-62fe13ba1ebc",
   "metadata": {},
   "source": [
    "Multiply Indexed Series"
   ]
  },
  {
   "cell_type": "code",
   "execution_count": null,
   "id": "777287a3-1658-48f1-b8fa-3b9e9a4a32de",
   "metadata": {},
   "outputs": [],
   "source": [
    "pop"
   ]
  },
  {
   "cell_type": "code",
   "execution_count": null,
   "id": "6d2c9b28-6d84-42a5-b564-71ab68272cd2",
   "metadata": {},
   "outputs": [],
   "source": [
    "# access single elements\n",
    "pop['California', 2010]"
   ]
  },
  {
   "cell_type": "code",
   "execution_count": null,
   "id": "eb9b3293-f25c-4fd6-966b-f2861f39cc65",
   "metadata": {},
   "outputs": [],
   "source": [
    "# partial indexing or indexing just one of the levels, lower level indexes are maintained\n",
    "pop['Texas']"
   ]
  },
  {
   "cell_type": "code",
   "execution_count": null,
   "id": "a95456b3-320c-4274-bfa5-bf0d27ba996f",
   "metadata": {},
   "outputs": [],
   "source": [
    "# partial slicing is available when indexes are sorted\n",
    "pop.loc['California': 'New York']"
   ]
  },
  {
   "cell_type": "code",
   "execution_count": null,
   "id": "c022395a-90f2-4b39-bdc5-b05d4133c794",
   "metadata": {},
   "outputs": [],
   "source": [
    "# with sorted indexes, partial slicing can be done on lower index levels by passing an empty slice for the higher indexes\n",
    "pop[:, 2010]"
   ]
  },
  {
   "cell_type": "code",
   "execution_count": null,
   "id": "10a71516-27ae-4730-adff-1ad7c0f2e32f",
   "metadata": {},
   "outputs": [],
   "source": [
    "# selection based on Boolean masks\n",
    "pop[pop > 22000000]"
   ]
  },
  {
   "cell_type": "code",
   "execution_count": null,
   "id": "55fe992d-b7d7-4e97-8b8c-63551d36c14b",
   "metadata": {},
   "outputs": [],
   "source": [
    "# selection based on fancy indexing\n",
    "pop[['California', 'Texas']]"
   ]
  },
  {
   "cell_type": "markdown",
   "id": "2ae483e3-4cc9-408e-9ab6-0789c49ccffb",
   "metadata": {},
   "source": [
    "Multiply Indexed DataFrames"
   ]
  },
  {
   "cell_type": "code",
   "execution_count": null,
   "id": "8dc45db5-1a45-4634-b3b8-52ecea194834",
   "metadata": {},
   "outputs": [],
   "source": [
    "health_data"
   ]
  },
  {
   "cell_type": "code",
   "execution_count": null,
   "id": "5783f980-eaa5-4bb0-b9d1-ec0261eca51c",
   "metadata": {},
   "outputs": [],
   "source": [
    "# get Guido's HR data\n",
    "health_data['Guido', 'HR']"
   ]
  },
  {
   "cell_type": "code",
   "execution_count": null,
   "id": "b04a9a4c-8f5f-4cce-96b5-ba66b1a8d00e",
   "metadata": {},
   "outputs": [],
   "source": [
    "health_data.iloc[:2, :2]"
   ]
  },
  {
   "cell_type": "code",
   "execution_count": null,
   "id": "3530a078-b5da-4c89-8fa1-23de2a3f40b6",
   "metadata": {},
   "outputs": [],
   "source": [
    "health_data.loc[:, ('Bob', 'HR')]"
   ]
  },
  {
   "cell_type": "code",
   "execution_count": null,
   "id": "2f4445aa-71ba-41d1-ad7e-8462f4a3e7ba",
   "metadata": {},
   "outputs": [],
   "source": [
    "idx = pd.IndexSlice\n",
    "health_data.loc[idx[:, 1], idx[:, 'HR']]"
   ]
  },
  {
   "cell_type": "markdown",
   "id": "073f2410-17f2-43c3-9dbd-1fd02b4658f8",
   "metadata": {},
   "source": [
    "Re-arranging MultiIndexes"
   ]
  },
  {
   "cell_type": "code",
   "execution_count": null,
   "id": "f50e222f-0a74-4e35-8de7-62fe8cb1cffc",
   "metadata": {},
   "outputs": [],
   "source": [
    "index = pd.MultiIndex.from_product([['a', 'c', 'b'], [1, 2]])\n",
    "data = pd.Series(np.random.rand(6), index= index)\n",
    "data.index.names = ['char', 'int']\n",
    "data"
   ]
  },
  {
   "cell_type": "code",
   "execution_count": null,
   "id": "5fa0ee31-352e-461a-807f-250bfe76ea8f",
   "metadata": {},
   "outputs": [],
   "source": [
    "# uncommenting the following line will produce an exception since the indices are not sorted\n",
    "# data['a': 'b']"
   ]
  },
  {
   "cell_type": "code",
   "execution_count": null,
   "id": "99a26d00-bebd-4e2e-b698-ed6838cf6a1a",
   "metadata": {},
   "outputs": [],
   "source": [
    "data = data.sort_index()\n",
    "data"
   ]
  },
  {
   "cell_type": "code",
   "execution_count": null,
   "id": "a7950101-5e90-4a80-a30b-1be7fdffefac",
   "metadata": {},
   "outputs": [],
   "source": [
    "data['a': 'b']"
   ]
  },
  {
   "cell_type": "markdown",
   "id": "7d444222-dec4-4c50-832d-01c6eb9e3540",
   "metadata": {},
   "source": [
    "Stacking and Unstacking Indices"
   ]
  },
  {
   "cell_type": "code",
   "execution_count": null,
   "id": "450ac65f-993d-48a1-8379-d3e06b3c6d67",
   "metadata": {},
   "outputs": [],
   "source": [
    "pop"
   ]
  },
  {
   "cell_type": "code",
   "execution_count": null,
   "id": "fcaf73be-7313-4ceb-98a0-b7d03be80e1b",
   "metadata": {},
   "outputs": [],
   "source": [
    "pop.unstack()"
   ]
  },
  {
   "cell_type": "code",
   "execution_count": null,
   "id": "1f8ad9e9-587b-4bca-bd9d-a49787a505e4",
   "metadata": {},
   "outputs": [],
   "source": [
    "pop.unstack(level=0)"
   ]
  },
  {
   "cell_type": "code",
   "execution_count": null,
   "id": "0a0e82ca-db05-4664-a0c2-13b564f66612",
   "metadata": {},
   "outputs": [],
   "source": [
    "pop.unstack(level=1)"
   ]
  },
  {
   "cell_type": "markdown",
   "id": "77714916-ed1c-406f-b757-2f49c2ccb334",
   "metadata": {},
   "source": [
    "Index Setting and Resetting"
   ]
  },
  {
   "cell_type": "code",
   "execution_count": null,
   "id": "ecd3ff10-74b2-432a-809c-e8fb770345a6",
   "metadata": {},
   "outputs": [],
   "source": [
    "pop_flat = pop.reset_index(name='population')\n",
    "pop_flat"
   ]
  },
  {
   "cell_type": "code",
   "execution_count": null,
   "id": "fe599a9a-5a6f-4807-8aa6-e01fe8a21605",
   "metadata": {},
   "outputs": [],
   "source": [
    "pop_flat.set_index(['states', 'year'])"
   ]
  }
 ],
 "metadata": {
  "kernelspec": {
   "display_name": "Python [conda env:base] *",
   "language": "python",
   "name": "conda-base-py"
  },
  "language_info": {
   "codemirror_mode": {
    "name": "ipython",
    "version": 3
   },
   "file_extension": ".py",
   "mimetype": "text/x-python",
   "name": "python",
   "nbconvert_exporter": "python",
   "pygments_lexer": "ipython3",
   "version": "3.12.7"
  }
 },
 "nbformat": 4,
 "nbformat_minor": 5
}
