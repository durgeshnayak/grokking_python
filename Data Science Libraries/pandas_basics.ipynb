{
 "cells": [
  {
   "metadata": {},
   "cell_type": "code",
   "source": [
    "import numpy as np\n",
    "import pandas as pd"
   ],
   "id": "8409d1c34479ee7c",
   "outputs": [],
   "execution_count": null
  },
  {
   "metadata": {},
   "cell_type": "markdown",
   "source": [
    "The Pandas Series Object\n",
    "\n",
    "A Pandas Series is a one-dimensional array of indexed data."
   ],
   "id": "f3cf459464a8ea6b"
  },
  {
   "metadata": {},
   "cell_type": "code",
   "source": [
    "data = pd.Series([1, 2, 3, 5, 8, 13])\n",
    "data"
   ],
   "id": "61d7824591444e4e",
   "outputs": [],
   "execution_count": null
  },
  {
   "metadata": {},
   "cell_type": "markdown",
   "source": "The Series combines a sequence of values with an explicit sequence of indices, which we can access with the values and index attributes.",
   "id": "e1b8808b94f7cc8b"
  },
  {
   "metadata": {},
   "cell_type": "code",
   "source": [
    "# NumPy array\n",
    "data.values"
   ],
   "id": "41f5184aabd0d1ef",
   "outputs": [],
   "execution_count": null
  },
  {
   "metadata": {},
   "cell_type": "code",
   "source": [
    "# pd.Index array-like object\n",
    "data.index"
   ],
   "id": "c07a3cad760e344a",
   "outputs": [],
   "execution_count": null
  },
  {
   "metadata": {},
   "cell_type": "markdown",
   "source": "Series as a generalized NumPy array",
   "id": "5109c6cfbb888939"
  },
  {
   "metadata": {},
   "cell_type": "code",
   "source": [
    "# non-integer index\n",
    "data =pd.Series([1, 2, 3, 5, 8, 13], index=['first', 'second', 'third', 'fourth', 'fifth', 'sixth'])\n",
    "data"
   ],
   "id": "606a8ab2ab799efe",
   "outputs": [],
   "execution_count": null
  },
  {
   "metadata": {},
   "cell_type": "code",
   "source": "data[\"third\"]",
   "id": "dca8240ea1e9859b",
   "outputs": [],
   "execution_count": null
  },
  {
   "metadata": {},
   "cell_type": "markdown",
   "source": "Even non-sequential or non-contiguous values can be used as index",
   "id": "61b9d277761389be"
  },
  {
   "metadata": {},
   "cell_type": "markdown",
   "source": "Series as a specialized Dictionary",
   "id": "1f3c97df1562ce1b"
  },
  {
   "metadata": {},
   "cell_type": "code",
   "source": [
    "population_dict = {'California': 39538223,\n",
    "                   'Texas': 29145505,\n",
    "                   'Florida': 21538187,\n",
    "                   'New York': 20201249,\n",
    "                   'Pennsylvania': 13002700}\n",
    "population = pd.Series(population_dict)\n",
    "population"
   ],
   "id": "1346f56b487dfe2d",
   "outputs": [],
   "execution_count": null
  },
  {
   "metadata": {},
   "cell_type": "markdown",
   "source": "The Pandas DataFrame Object",
   "id": "22081b77d56e5089"
  },
  {
   "metadata": {},
   "cell_type": "markdown",
   "source": "DataFrame as a generalized NumPy array",
   "id": "ecc8adebfb133e52"
  },
  {
   "metadata": {},
   "cell_type": "code",
   "source": [
    "area_dict = {'California': 423967,\n",
    "             'Texas': 695662,\n",
    "             'Florida': 170312,\n",
    "             'New York': 141297,\n",
    "             'Pennsylvania': 119280}\n",
    "area = pd.Series(area_dict)\n",
    "area"
   ],
   "id": "fd4a02c01a3b716c",
   "outputs": [],
   "execution_count": null
  },
  {
   "metadata": {},
   "cell_type": "code",
   "source": [
    "states = pd.DataFrame({'population': population,\n",
    "                       'area': area})\n",
    "states"
   ],
   "id": "eab8b95830922e26",
   "outputs": [],
   "execution_count": null
  },
  {
   "metadata": {},
   "cell_type": "code",
   "source": "states.index",
   "id": "360034e4eaf49296",
   "outputs": [],
   "execution_count": null
  },
  {
   "metadata": {},
   "cell_type": "code",
   "source": "states.columns",
   "id": "bcd8cab3d31729bf",
   "outputs": [],
   "execution_count": null
  },
  {
   "metadata": {},
   "cell_type": "markdown",
   "source": "DataFrame as a specialized dictionary",
   "id": "f95eacc36f617c48"
  },
  {
   "metadata": {},
   "cell_type": "code",
   "source": "states['area']",
   "id": "81308ab8642e957f",
   "outputs": [],
   "execution_count": null
  },
  {
   "metadata": {},
   "cell_type": "markdown",
   "source": [
    "Notice a potential point of confusion here...\n",
    "In a two-dimensional NumPy array data[0] would refer to the first row in the array.\n",
    "In a DataFrame data['col0'] will return the first column which is a Series object."
   ],
   "id": "445a144e66c52ee8"
  },
  {
   "metadata": {},
   "cell_type": "markdown",
   "source": "Constructing DataFrame objects",
   "id": "e799785f6c849e73"
  },
  {
   "metadata": {},
   "cell_type": "markdown",
   "source": "From a single Series object",
   "id": "7e4cc0b38c17bbe1"
  },
  {
   "metadata": {},
   "cell_type": "code",
   "source": "pd.DataFrame(population, columns=['population'])",
   "id": "c729d468116462f8",
   "outputs": [],
   "execution_count": null
  },
  {
   "metadata": {},
   "cell_type": "markdown",
   "source": "From a list of dictionaries",
   "id": "44432f983c003202"
  },
  {
   "metadata": {},
   "cell_type": "code",
   "source": [
    "data = [{'a': i, 'b': 2 * i} for i in range(3)]\n",
    "pd.DataFrame(data)"
   ],
   "id": "2ab8a35d1aef2cf5",
   "outputs": [],
   "execution_count": null
  },
  {
   "metadata": {},
   "cell_type": "markdown",
   "source": "From a dictionary of Series objects",
   "id": "a3871b5a0469e006"
  },
  {
   "metadata": {},
   "cell_type": "code",
   "source": "pd.DataFrame({'population': population, 'area': area})",
   "id": "9ba68d52223307fb",
   "outputs": [],
   "execution_count": null
  },
  {
   "metadata": {},
   "cell_type": "markdown",
   "source": "From a two-dimensional NumPy array",
   "id": "ac13ca2c5162551d"
  },
  {
   "metadata": {},
   "cell_type": "code",
   "source": [
    "pd.DataFrame(np.random.rand(3, 2),\n",
    "             columns=['foo', 'bar'],\n",
    "             index=['a', 'b', 'c'])"
   ],
   "id": "3ec5b295f9d79cdf",
   "outputs": [],
   "execution_count": null
  },
  {
   "metadata": {},
   "cell_type": "markdown",
   "source": "The Pandas Index object",
   "id": "24f84506fc5afc6b"
  },
  {
   "metadata": {},
   "cell_type": "code",
   "source": "ind = pd.Index([2, 3, 5, 7, 11])",
   "id": "d4cf80a0749c0888",
   "outputs": [],
   "execution_count": null
  },
  {
   "metadata": {},
   "cell_type": "markdown",
   "source": "The Pandas Index object is an immutable array.",
   "id": "38fa305ce2b83449"
  },
  {
   "metadata": {},
   "cell_type": "markdown",
   "source": "Index as an ordered set.",
   "id": "c04d136a66505ed0"
  },
  {
   "metadata": {},
   "cell_type": "code",
   "source": [
    "indA = pd.Index([1, 3, 5, 7, 9])\n",
    "indB = pd.Index([2, 3, 5, 7, 11])\n",
    "indA.intersection(indB)"
   ],
   "id": "4578749bbb46a665",
   "outputs": [],
   "execution_count": null
  },
  {
   "metadata": {},
   "cell_type": "code",
   "source": "indA.union(indB)",
   "id": "c2e13678e742ee78",
   "outputs": [],
   "execution_count": null
  },
  {
   "metadata": {},
   "cell_type": "code",
   "source": "indA.symmetric_difference(indB)",
   "id": "809f04e5bf97e5d2",
   "outputs": [],
   "execution_count": null
  }
 ],
 "metadata": {
  "kernelspec": {
   "display_name": "Python 3 (ipykernel)",
   "language": "python",
   "name": "python3"
  },
  "language_info": {
   "codemirror_mode": {
    "name": "ipython",
    "version": 3
   },
   "file_extension": ".py",
   "mimetype": "text/x-python",
   "name": "python",
   "nbconvert_exporter": "python",
   "pygments_lexer": "ipython3",
   "version": "3.12.2"
  }
 },
 "nbformat": 4,
 "nbformat_minor": 5
}
