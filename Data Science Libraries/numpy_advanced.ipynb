{
 "cells": [
  {
   "cell_type": "markdown",
   "id": "8314712d19c02e59",
   "metadata": {
    "collapsed": false,
    "jupyter": {
     "outputs_hidden": false
    }
   },
   "source": [
    "Broadcasting of Arrays"
   ]
  },
  {
   "cell_type": "markdown",
   "id": "81934f1d00ad460",
   "metadata": {
    "collapsed": false,
    "jupyter": {
     "outputs_hidden": false
    }
   },
   "source": [
    "Rules of Broadcasting\n",
    "Broadcasting in NumPy follows a strict set of rules to determine the interaction between the two arrays:\n",
    "\n",
    "Rule 1\n",
    "If the two arrays differ in their number of dimensions, the shape of the one with fewer dimensions is padded with ones on its leading (left) side.\n",
    "\n",
    "Rule 2\n",
    "If the shape of the two arrays does not match in any dimension, the array with shape equal to 1 in that dimension is stretched to match the other shape.\n",
    "\n",
    "Rule 3\n",
    "If in any dimension the sizes disagree and neither is equal to 1, an error is raised."
   ]
  },
  {
   "cell_type": "code",
   "id": "af23c15e93433504",
   "metadata": {
    "collapsed": false,
    "jupyter": {
     "outputs_hidden": false
    }
   },
   "source": [
    "import numpy as np"
   ],
   "outputs": [],
   "execution_count": null
  },
  {
   "cell_type": "code",
   "id": "df287db7d359bc1b",
   "metadata": {
    "collapsed": false,
    "jupyter": {
     "outputs_hidden": false
    }
   },
   "source": [
    "# Example 1\n",
    "M = np.ones((2, 3))\n",
    "print(M.shape)\n",
    "print(M)"
   ],
   "outputs": [],
   "execution_count": null
  },
  {
   "cell_type": "code",
   "id": "6caf4376803814fb",
   "metadata": {
    "collapsed": false,
    "jupyter": {
     "outputs_hidden": false
    }
   },
   "source": [
    "a = np.arange(3)\n",
    "print(a.shape)\n",
    "print(a)"
   ],
   "outputs": [],
   "execution_count": null
  },
  {
   "cell_type": "markdown",
   "id": "91c0c7ffc74c62a",
   "metadata": {
    "collapsed": false,
    "jupyter": {
     "outputs_hidden": false
    }
   },
   "source": [
    "Let’s consider an operation on these two arrays, which have the following shapes:\n",
    "\n",
    "M.shape is (2, 3)\n",
    "\n",
    "a.shape is (3,)\n",
    "\n",
    "We see by rule 1 that the array a has fewer dimensions, so we pad it on the left with ones:\n",
    "\n",
    "M.shape remains (2, 3)\n",
    "\n",
    "a.shape becomes (1, 3)\n",
    "\n",
    "By rule 2, we now see that the first dimension disagrees, so we stretch this dimension to match:\n",
    "\n",
    "M.shape remains (2, 3)\n",
    "\n",
    "a.shape becomes (2, 3)\n",
    "\n",
    "The shapes now match, and we see that the final shape will be (2, 3):"
   ]
  },
  {
   "cell_type": "code",
   "id": "3ecf839b01e544f5",
   "metadata": {
    "collapsed": false,
    "jupyter": {
     "outputs_hidden": false
    }
   },
   "source": [
    "print(M+a)"
   ],
   "outputs": [],
   "execution_count": null
  },
  {
   "cell_type": "code",
   "id": "f392735e2009e6f2",
   "metadata": {
    "collapsed": false,
    "jupyter": {
     "outputs_hidden": false
    }
   },
   "source": [
    "# Example 2\n",
    "a = np.arange(3).reshape((3, 1))\n",
    "print(a.shape)\n",
    "print(a)"
   ],
   "outputs": [],
   "execution_count": null
  },
  {
   "cell_type": "code",
   "id": "1b59bf6105cdfdbc",
   "metadata": {
    "collapsed": false,
    "jupyter": {
     "outputs_hidden": false
    }
   },
   "source": [
    "b = np.arange(3)\n",
    "print(b.shape)\n",
    "print(b)"
   ],
   "outputs": [],
   "execution_count": null
  },
  {
   "cell_type": "markdown",
   "id": "31d1f97059e31d1e",
   "metadata": {
    "collapsed": false,
    "jupyter": {
     "outputs_hidden": false
    }
   },
   "source": [
    "Again, we’ll start by determining the shapes of the arrays:\n",
    "\n",
    "a.shape is (3, 1)\n",
    "\n",
    "b.shape is (3,)\n",
    "\n",
    "Rule 1 says we must pad the shape of b with ones:\n",
    "\n",
    "a.shape remains (3, 1)\n",
    "\n",
    "b.shape becomes (1, 3)\n",
    "\n",
    "And rule 2 tells us that we must upgrade each of these 1s to match the corresponding size of the other array:\n",
    "\n",
    "a.shape becomes (3, 3)\n",
    "\n",
    "b.shape becomes (3, 3)\n",
    "\n",
    "Because the results match, these shapes are compatible. We can see this here:"
   ]
  },
  {
   "cell_type": "code",
   "id": "a860aefc6362c791",
   "metadata": {
    "collapsed": false,
    "jupyter": {
     "outputs_hidden": false
    }
   },
   "source": [
    "print(a+b)"
   ],
   "outputs": [],
   "execution_count": null
  },
  {
   "cell_type": "code",
   "id": "2a50399511640b27",
   "metadata": {
    "collapsed": false,
    "jupyter": {
     "outputs_hidden": false
    }
   },
   "source": [
    "# Example 3\n",
    "M = np.ones((3,2))\n",
    "print(M.shape)\n",
    "print(M)"
   ],
   "outputs": [],
   "execution_count": null
  },
  {
   "cell_type": "code",
   "id": "b915f6bab08ceb9e",
   "metadata": {
    "collapsed": false,
    "jupyter": {
     "outputs_hidden": false
    }
   },
   "source": [
    "a = np.arange(3)\n",
    "print(a.shape)\n",
    "print(a)"
   ],
   "outputs": [],
   "execution_count": null
  },
  {
   "cell_type": "markdown",
   "id": "b195140f67f66cea",
   "metadata": {
    "collapsed": false,
    "jupyter": {
     "outputs_hidden": false
    }
   },
   "source": [
    "This is just a slightly different situation than in the first example: the matrix M is transposed. How does this affect the calculation? The shapes of the arrays are as follows:\n",
    "\n",
    "M.shape is (3, 2)\n",
    "\n",
    "a.shape is (3,)\n",
    "\n",
    "Again, rule 1 tells us that we must pad the shape of a with ones:\n",
    "\n",
    "M.shape remains (3, 2)\n",
    "\n",
    "a.shape becomes (1, 3)\n",
    "\n",
    "By rule 2, the first dimension of a is then stretched to match that of M:\n",
    "\n",
    "M.shape remains (3, 2)\n",
    "\n",
    "a.shape becomes (3, 3)\n",
    "\n",
    "Now we hit rule 3—the final shapes do not match, so these two arrays are incompatible, as we can observe by attempting this operation:"
   ]
  },
  {
   "cell_type": "code",
   "id": "be5020400c6bf165",
   "metadata": {
    "collapsed": false,
    "jupyter": {
     "outputs_hidden": false
    }
   },
   "source": [
    "# print(M+a)"
   ],
   "outputs": [],
   "execution_count": null
  },
  {
   "cell_type": "code",
   "id": "e60dc36d29a78183",
   "metadata": {
    "collapsed": false,
    "jupyter": {
     "outputs_hidden": false
    }
   },
   "source": [
    "rng = np.random.default_rng(1701)\n",
    "X = rng.random((10, 3))\n",
    "print(X.shape)\n",
    "print(X)"
   ],
   "outputs": [],
   "execution_count": null
  },
  {
   "cell_type": "code",
   "id": "252e44df204628e0",
   "metadata": {
    "collapsed": false,
    "jupyter": {
     "outputs_hidden": false
    }
   },
   "source": [
    "Xmean = X.mean(axis=0)\n",
    "print(Xmean.shape)\n",
    "print(Xmean)"
   ],
   "outputs": [],
   "execution_count": null
  },
  {
   "cell_type": "code",
   "id": "f6260ba515d80079",
   "metadata": {
    "collapsed": false,
    "jupyter": {
     "outputs_hidden": false
    }
   },
   "source": [
    "Xcentered = X-Xmean\n",
    "print(Xcentered.shape)\n",
    "print(Xcentered)"
   ],
   "outputs": [],
   "execution_count": null
  },
  {
   "cell_type": "code",
   "id": "6ee76046364b597c",
   "metadata": {
    "collapsed": false,
    "jupyter": {
     "outputs_hidden": false
    }
   },
   "source": [
    "print(Xcentered.mean(axis=0))"
   ],
   "outputs": [],
   "execution_count": null
  },
  {
   "cell_type": "markdown",
   "id": "38fd095f-2987-43d2-8fef-f964b54abd6f",
   "metadata": {},
   "source": [
    "Comparison Operators As UFuncs"
   ]
  },
  {
   "cell_type": "code",
   "id": "53f1be3d-2ea4-4821-9551-8819e39097a0",
   "metadata": {},
   "source": [
    "x = np.array([1, 2, 3, 4, 5])"
   ],
   "outputs": [],
   "execution_count": null
  },
  {
   "cell_type": "code",
   "id": "7f65161d-f519-4575-8b17-a474c90b88e6",
   "metadata": {},
   "source": [
    "x < 3"
   ],
   "outputs": [],
   "execution_count": null
  },
  {
   "cell_type": "code",
   "id": "befd7f2a-ef58-4f89-ab98-3ce9ce93d0f4",
   "metadata": {},
   "source": [
    "x > 3"
   ],
   "outputs": [],
   "execution_count": null
  },
  {
   "cell_type": "code",
   "id": "fde86316-6382-4379-860e-4f161a464844",
   "metadata": {},
   "source": [
    "x == 3"
   ],
   "outputs": [],
   "execution_count": null
  },
  {
   "cell_type": "code",
   "id": "a199e530-a03e-4130-b414-bc58f7dc05bd",
   "metadata": {},
   "source": [
    "x != 3"
   ],
   "outputs": [],
   "execution_count": null
  },
  {
   "cell_type": "code",
   "id": "190246b1-55e3-4301-9e44-9fc6f85de9a8",
   "metadata": {},
   "source": [
    "x <= 3"
   ],
   "outputs": [],
   "execution_count": null
  },
  {
   "cell_type": "code",
   "id": "b1b5854d-d285-4955-82b5-64c7e9f4602c",
   "metadata": {},
   "source": [
    "x >= 3"
   ],
   "outputs": [],
   "execution_count": null
  },
  {
   "cell_type": "code",
   "id": "6e80216d-5fa8-40f3-8a08-360345c3b3f0",
   "metadata": {},
   "source": [
    "rng = np.random.default_rng(seed=1701)\n",
    "x = rng.integers(10, size=(3,4))\n",
    "x"
   ],
   "outputs": [],
   "execution_count": null
  },
  {
   "cell_type": "code",
   "id": "aef8df87-e7e8-45e0-95c9-df0882dfc48f",
   "metadata": {},
   "source": [
    "x < 6"
   ],
   "outputs": [],
   "execution_count": null
  },
  {
   "cell_type": "markdown",
   "id": "af5bd14b-3de3-4bff-9257-ddc48a03dafc",
   "metadata": {},
   "source": [
    "Counting entries"
   ]
  },
  {
   "cell_type": "code",
   "id": "ca06ffa2-9872-4f75-aae3-0896f0608812",
   "metadata": {},
   "source": [
    "np.count_nonzero(x < 6)"
   ],
   "outputs": [],
   "execution_count": null
  },
  {
   "cell_type": "markdown",
   "id": "3cf6c28c-af33-4d1e-9efd-1f6bd7247d6b",
   "metadata": {},
   "source": [
    "Summing entries"
   ]
  },
  {
   "cell_type": "code",
   "id": "cea67cbf-08a2-4eba-b435-ed7f6850f10f",
   "metadata": {},
   "source": [
    "np.sum(x < 6)"
   ],
   "outputs": [],
   "execution_count": null
  },
  {
   "cell_type": "markdown",
   "id": "47ed02ef-7a53-416e-b94e-391390488aa7",
   "metadata": {},
   "source": [
    "Summing along an axis"
   ]
  },
  {
   "cell_type": "code",
   "id": "5b2dec0e-80f5-42b1-b091-7e9f9afdee3b",
   "metadata": {},
   "source": [
    "# Column-wise sums\n",
    "np.sum(x < 6, axis=0)"
   ],
   "outputs": [],
   "execution_count": null
  },
  {
   "cell_type": "code",
   "id": "467ffb2f-b64d-47d4-9b7c-d67233074296",
   "metadata": {},
   "source": [
    "# Row-wise sums\n",
    "np.sum(x < 6, axis=1)"
   ],
   "outputs": [],
   "execution_count": null
  },
  {
   "cell_type": "markdown",
   "id": "a1b7e4a9-438b-4479-b791-953641784722",
   "metadata": {},
   "source": [
    "Any and All"
   ]
  },
  {
   "cell_type": "code",
   "id": "564bffb7-fe8a-4a6b-8145-116aea189873",
   "metadata": {},
   "source": [
    "np.any(x > 8)"
   ],
   "outputs": [],
   "execution_count": null
  },
  {
   "cell_type": "code",
   "id": "5206dd7e-22b0-4e4c-a91d-327f47600a6f",
   "metadata": {},
   "source": [
    "np.all(x < 8)"
   ],
   "outputs": [],
   "execution_count": null
  },
  {
   "cell_type": "markdown",
   "id": "d97a9aa5-6afb-48a7-94ca-f1c6aa378641",
   "metadata": {},
   "source": [
    "Any and All have flavors that check along a particular axis"
   ]
  },
  {
   "cell_type": "markdown",
   "id": "6b99b507-1101-4581-9e7d-fd64fad4a53e",
   "metadata": {},
   "source": [
    "Bitwise Logical Operators"
   ]
  },
  {
   "cell_type": "code",
   "id": "04133cf4-b959-4c1d-81a9-5cdca3826924",
   "metadata": {},
   "source": [
    "(x < 8) & (x > 3)"
   ],
   "outputs": [],
   "execution_count": null
  },
  {
   "cell_type": "code",
   "id": "3aff9e0a-1f07-457a-91a5-1921d913d7a6",
   "metadata": {},
   "source": [
    "(x < 6) | (x > 2)"
   ],
   "outputs": [],
   "execution_count": null
  },
  {
   "cell_type": "markdown",
   "id": "7a1b6e17-91bb-4a66-a134-8d0497ac0958",
   "metadata": {},
   "source": [
    "So, remember this: and and or perform a single Boolean evaluation on an entire object, while & and | perform multiple Boolean evaluations on the content (the individual bits or bytes) of an object. For Boolean NumPy arrays, the latter is nearly always the desired operation."
   ]
  },
  {
   "metadata": {},
   "cell_type": "code",
   "source": [
    "rng = np.random.default_rng(seed=1701)\n",
    "x = rng.normal(size=100)\n",
    "x"
   ],
   "id": "4d1337a8-5e16-4aae-9ed0-47d6b8aa617f",
   "outputs": [],
   "execution_count": null
  },
  {
   "cell_type": "code",
   "id": "4ed59ebf-7ca4-4b96-a90b-3572b52f6952",
   "metadata": {},
   "source": [
    "bins = np.linspace(-5, 5, 20)\n",
    "bins"
   ],
   "outputs": [],
   "execution_count": null
  },
  {
   "cell_type": "code",
   "id": "99aa9130-6c3b-4bc4-84c2-54dea606dfd4",
   "metadata": {},
   "source": [
    "counts = np.zeros_like(bins)\n",
    "counts"
   ],
   "outputs": [],
   "execution_count": null
  },
  {
   "cell_type": "code",
   "id": "ed9b51c8-51a9-4d37-ae07-319a34ae10cd",
   "metadata": {},
   "source": [
    "i = np.searchsorted(bins, x)\n",
    "i"
   ],
   "outputs": [],
   "execution_count": null
  },
  {
   "cell_type": "code",
   "id": "35160622-f97e-4467-9abc-cd15d1a8ab84",
   "metadata": {},
   "source": [
    "np.add.at(counts, i, 1)\n",
    "counts"
   ],
   "outputs": [],
   "execution_count": null
  },
  {
   "cell_type": "code",
   "id": "0897c8ed-6586-4eb1-b519-07324869eb0e",
   "metadata": {},
   "source": [
    "X = rng.random((10, 2))\n",
    "X.shape"
   ],
   "outputs": [],
   "execution_count": null
  },
  {
   "cell_type": "code",
   "id": "5fddfc0a-e6fc-4b57-886c-dadc1d136737",
   "metadata": {},
   "source": [
    "X"
   ],
   "outputs": [],
   "execution_count": null
  },
  {
   "cell_type": "code",
   "id": "4fdb3928-edfc-4e46-a18f-5014e9aec9ec",
   "metadata": {},
   "source": [
    "%matplotlib inline\n",
    "import matplotlib.pyplot as plt\n",
    "plt.style.use('seaborn-v0_8-whitegrid')\n",
    "plt.scatter(X[:, 0], X[:, 1], s=100)"
   ],
   "outputs": [],
   "execution_count": null
  },
  {
   "cell_type": "code",
   "id": "6a96d2ea-a5b9-4b48-a539-a09f3430a063",
   "metadata": {},
   "source": [
    "Y = X[:, np.newaxis]\n",
    "Y.shape"
   ],
   "outputs": [],
   "execution_count": null
  },
  {
   "cell_type": "code",
   "id": "f44e18ba-addd-454b-a0d4-29c81f78adb5",
   "metadata": {},
   "source": [
    "Y"
   ],
   "outputs": [],
   "execution_count": null
  },
  {
   "cell_type": "code",
   "id": "06a4b7f8-fefc-4440-bda5-9e43baaee4e9",
   "metadata": {},
   "source": [
    "Z = X[np.newaxis, :]\n",
    "Z.shape"
   ],
   "outputs": [],
   "execution_count": null
  },
  {
   "cell_type": "code",
   "id": "27ee90aa-2a21-46b0-834a-91b1a0eabcb4",
   "metadata": {},
   "source": [
    "Z"
   ],
   "outputs": [],
   "execution_count": null
  },
  {
   "cell_type": "code",
   "id": "96f3ea60-eeca-4cb7-a6ef-60fe2f07e55e",
   "metadata": {},
   "source": [
    "differences = X[:, np.newaxis] - X[np.newaxis, :]\n",
    "differences.shape"
   ],
   "outputs": [],
   "execution_count": null
  },
  {
   "cell_type": "code",
   "id": "f8d47fba-19ff-4840-8dd3-03768ef11940",
   "metadata": {},
   "source": [
    "differences"
   ],
   "outputs": [],
   "execution_count": null
  },
  {
   "cell_type": "code",
   "id": "0560789f-8be8-4feb-a0ea-99d81b2a2f3f",
   "metadata": {},
   "source": [
    "differences_sqd = differences ** 2\n",
    "differences_sqd"
   ],
   "outputs": [],
   "execution_count": null
  },
  {
   "cell_type": "code",
   "id": "5eeb7f34-b2f6-4ae2-a174-87f62d26d6bb",
   "metadata": {},
   "source": [
    "dist_sqd = np.sum(differences_sqd, axis=-1)\n",
    "dist_sqd.shape"
   ],
   "outputs": [],
   "execution_count": null
  },
  {
   "cell_type": "code",
   "id": "8e5d5c13-634e-43a6-8d94-ed5001af2c7a",
   "metadata": {},
   "source": [
    "dist_sqd"
   ],
   "outputs": [],
   "execution_count": null
  },
  {
   "cell_type": "code",
   "id": "2c47779b-056a-464c-bc83-649988836158",
   "metadata": {},
   "source": [
    "m3d = np.arange(1, 28).reshape(3, 3, 3)\n",
    "m3d"
   ],
   "outputs": [],
   "execution_count": null
  },
  {
   "cell_type": "code",
   "id": "3e9b5c4d-c103-4f5b-ab02-78c98e1f4f31",
   "metadata": {},
   "source": [
    "np.max(m3d, axis=0)"
   ],
   "outputs": [],
   "execution_count": null
  },
  {
   "cell_type": "code",
   "id": "eeb34e0c-25d1-42f1-9bac-1491018c43b5",
   "metadata": {},
   "source": [
    "np.max(m3d, axis=1)"
   ],
   "outputs": [],
   "execution_count": null
  },
  {
   "cell_type": "code",
   "id": "6ca31d81-2149-4708-8179-7a052997bde9",
   "metadata": {},
   "source": [
    "np.max(m3d, axis=2)"
   ],
   "outputs": [],
   "execution_count": null
  }
 ],
 "metadata": {
  "kernelspec": {
   "display_name": "Python 3 (ipykernel)",
   "language": "python",
   "name": "python3"
  },
  "language_info": {
   "codemirror_mode": {
    "name": "ipython",
    "version": 3
   },
   "file_extension": ".py",
   "mimetype": "text/x-python",
   "name": "python",
   "nbconvert_exporter": "python",
   "pygments_lexer": "ipython3",
   "version": "3.12.2"
  }
 },
 "nbformat": 4,
 "nbformat_minor": 5
}
