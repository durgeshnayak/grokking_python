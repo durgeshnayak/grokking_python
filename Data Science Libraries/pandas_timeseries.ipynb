{
 "cells": [
  {
   "cell_type": "code",
   "id": "initial_id",
   "metadata": {
    "collapsed": true
   },
   "source": [
    "import numpy as np\n",
    "import pandas as pd\n",
    "from datetime import datetime\n",
    "import yfinance as yf\n",
    "%matplotlib inline\n",
    "import matplotlib.pyplot as plt"
   ],
   "outputs": [],
   "execution_count": null
  },
  {
   "metadata": {},
   "cell_type": "code",
   "source": [
    "dates = pd.to_datetime([datetime(2021, 7, 3), '4th of July 2021', '2021-Jul-6', '07-07-2021', '20210708'])\n",
    "dates"
   ],
   "id": "5e41327125b118cd",
   "outputs": [],
   "execution_count": null
  },
  {
   "metadata": {},
   "cell_type": "code",
   "source": "dates.to_period(freq='D')",
   "id": "a014e573c887ef96",
   "outputs": [],
   "execution_count": null
  },
  {
   "metadata": {},
   "cell_type": "code",
   "source": "dates - dates[0] # this creates a TimedeltaIndex",
   "id": "403b1f95ef49624a",
   "outputs": [],
   "execution_count": null
  },
  {
   "metadata": {},
   "cell_type": "code",
   "source": "pd.date_range('2021-07-03', '2021-07-10')",
   "id": "bab52cd1d3492172",
   "outputs": [],
   "execution_count": null
  },
  {
   "metadata": {},
   "cell_type": "code",
   "source": "pd.date_range('2021-07-03', periods=8)",
   "id": "7d9cec1b3c2cd206",
   "outputs": [],
   "execution_count": null
  },
  {
   "metadata": {},
   "cell_type": "code",
   "source": "pd.date_range('2021-07-03', periods=8, freq='h')",
   "id": "da25d56d3dfb14ee",
   "outputs": [],
   "execution_count": null
  },
  {
   "metadata": {},
   "cell_type": "code",
   "source": "pd.period_range('2021-07', periods=8, freq='M')",
   "id": "13471941ace3ff0b",
   "outputs": [],
   "execution_count": null
  },
  {
   "metadata": {},
   "cell_type": "code",
   "source": "pd.timedelta_range(0, periods=12, freq='h')",
   "id": "579cf552123ec189",
   "outputs": [],
   "execution_count": null
  },
  {
   "metadata": {},
   "cell_type": "markdown",
   "source": "Resampling, Shifting and Windowing",
   "id": "6c6ad98fe4dd9504"
  },
  {
   "metadata": {},
   "cell_type": "code",
   "source": [
    "ticker_symbol = '^GSPC'\n",
    "ticker = yf.Ticker(ticker_symbol)\n",
    "sp500 = ticker.history(period='4y')\n",
    "sp500.head()"
   ],
   "id": "6f95ea08132a63ec",
   "outputs": [],
   "execution_count": null
  },
  {
   "metadata": {},
   "cell_type": "code",
   "source": "sp500 = sp500['Close']",
   "id": "30a32b7a5c793ad8",
   "outputs": [],
   "execution_count": null
  },
  {
   "metadata": {},
   "cell_type": "code",
   "source": [
    "plt.style.use('seaborn-v0_8-whitegrid')\n",
    "sp500.plot()\n",
    "plt.show()"
   ],
   "id": "2f5c501cbcfc0c0b",
   "outputs": [],
   "execution_count": null
  },
  {
   "metadata": {},
   "cell_type": "code",
   "source": [
    "sp500.plot(alpha=0.5, style=\"-\")\n",
    "sp500.resample('BYE').mean().plot(style=':')\n",
    "sp500.asfreq('BYE').plot(style='--')\n",
    "plt.legend(['input', 'resample', 'asfreq'], loc='upper left')\n",
    "plt.show()\n",
    "\n"
   ],
   "id": "363161eee35f2b26",
   "outputs": [],
   "execution_count": null
  },
  {
   "metadata": {},
   "cell_type": "code",
   "source": [
    "fig, ax = plt.subplots(2, sharex=True)\n",
    "data = sp500.iloc[:20]\n",
    "data.asfreq('D').plot(ax=ax[0], marker='o')\n",
    "data.asfreq('D', method='bfill').plot(ax=ax[1], style='-o')\n",
    "data.asfreq('D', method='ffill').plot(ax=ax[1], style='--o')\n",
    "ax[1].legend([\"back-fill\", \"forward-fill\"]);"
   ],
   "id": "fca36b069a86c770",
   "outputs": [],
   "execution_count": null
  },
  {
   "metadata": {},
   "cell_type": "code",
   "source": [
    "sp500 = sp500.asfreq('D', method='pad')\n",
    "ROI = 100 * (sp500.shift(-365) - sp500) / sp500\n",
    "ROI.plot()\n",
    "plt.ylabel('% Return on Investment after 1 year');"
   ],
   "id": "e669a27bcdc53c31",
   "outputs": [],
   "execution_count": null
  },
  {
   "metadata": {},
   "cell_type": "code",
   "source": [
    "rolling = sp500.rolling(365, center=True)\n",
    "data = pd.DataFrame({'input': sp500,\n",
    "'one-year rolling_mean': rolling.mean(),\n",
    "'one-year rolling_median': rolling.median()})\n",
    "ax = data.plot(style=['-', '--', ':'])\n",
    "ax.lines[0].set_alpha(0.3)"
   ],
   "id": "ee115be0ca6764d5",
   "outputs": [],
   "execution_count": null
  },
  {
   "metadata": {},
   "cell_type": "code",
   "source": "",
   "id": "a71f0dbe33f47c48",
   "outputs": [],
   "execution_count": null
  }
 ],
 "metadata": {
  "kernelspec": {
   "display_name": "Python 3",
   "language": "python",
   "name": "python3"
  },
  "language_info": {
   "codemirror_mode": {
    "name": "ipython",
    "version": 2
   },
   "file_extension": ".py",
   "mimetype": "text/x-python",
   "name": "python",
   "nbconvert_exporter": "python",
   "pygments_lexer": "ipython2",
   "version": "2.7.6"
  }
 },
 "nbformat": 4,
 "nbformat_minor": 5
}
